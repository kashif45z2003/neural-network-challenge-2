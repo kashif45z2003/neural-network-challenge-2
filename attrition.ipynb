{
 "cells": [
  {
   "cell_type": "markdown",
   "metadata": {
    "id": "alIIEHibGc3M"
   },
   "source": [
    "## Part 1: Preprocessing"
   ]
  },
  {
   "cell_type": "code",
   "execution_count": 55,
   "metadata": {
    "colab": {
     "base_uri": "https://localhost:8080/",
     "height": 325
    },
    "executionInfo": {
     "elapsed": 12323,
     "status": "ok",
     "timestamp": 1730699226906,
     "user": {
      "displayName": "Alexander Booth",
      "userId": "02269714993535573104"
     },
     "user_tz": 360
    },
    "id": "6eDUJ4NtGc3P",
    "outputId": "eeae54b5-3d17-442d-94ba-00dd55b89964"
   },
   "outputs": [
    {
     "data": {
      "application/vnd.microsoft.datawrangler.viewer.v0+json": {
       "columns": [
        {
         "name": "index",
         "rawType": "int64",
         "type": "integer"
        },
        {
         "name": "Age",
         "rawType": "int64",
         "type": "integer"
        },
        {
         "name": "Attrition",
         "rawType": "object",
         "type": "string"
        },
        {
         "name": "BusinessTravel",
         "rawType": "object",
         "type": "string"
        },
        {
         "name": "Department",
         "rawType": "object",
         "type": "string"
        },
        {
         "name": "DistanceFromHome",
         "rawType": "int64",
         "type": "integer"
        },
        {
         "name": "Education",
         "rawType": "int64",
         "type": "integer"
        },
        {
         "name": "EducationField",
         "rawType": "object",
         "type": "string"
        },
        {
         "name": "EnvironmentSatisfaction",
         "rawType": "int64",
         "type": "integer"
        },
        {
         "name": "HourlyRate",
         "rawType": "int64",
         "type": "integer"
        },
        {
         "name": "JobInvolvement",
         "rawType": "int64",
         "type": "integer"
        },
        {
         "name": "JobLevel",
         "rawType": "int64",
         "type": "integer"
        },
        {
         "name": "JobRole",
         "rawType": "object",
         "type": "string"
        },
        {
         "name": "JobSatisfaction",
         "rawType": "int64",
         "type": "integer"
        },
        {
         "name": "MaritalStatus",
         "rawType": "object",
         "type": "string"
        },
        {
         "name": "NumCompaniesWorked",
         "rawType": "int64",
         "type": "integer"
        },
        {
         "name": "OverTime",
         "rawType": "object",
         "type": "string"
        },
        {
         "name": "PercentSalaryHike",
         "rawType": "int64",
         "type": "integer"
        },
        {
         "name": "PerformanceRating",
         "rawType": "int64",
         "type": "integer"
        },
        {
         "name": "RelationshipSatisfaction",
         "rawType": "int64",
         "type": "integer"
        },
        {
         "name": "StockOptionLevel",
         "rawType": "int64",
         "type": "integer"
        },
        {
         "name": "TotalWorkingYears",
         "rawType": "int64",
         "type": "integer"
        },
        {
         "name": "TrainingTimesLastYear",
         "rawType": "int64",
         "type": "integer"
        },
        {
         "name": "WorkLifeBalance",
         "rawType": "int64",
         "type": "integer"
        },
        {
         "name": "YearsAtCompany",
         "rawType": "int64",
         "type": "integer"
        },
        {
         "name": "YearsInCurrentRole",
         "rawType": "int64",
         "type": "integer"
        },
        {
         "name": "YearsSinceLastPromotion",
         "rawType": "int64",
         "type": "integer"
        },
        {
         "name": "YearsWithCurrManager",
         "rawType": "int64",
         "type": "integer"
        }
       ],
       "conversionMethod": "pd.DataFrame",
       "ref": "1b423a2b-9d71-40e5-b2ba-8820d4b61ef5",
       "rows": [
        [
         "0",
         "41",
         "Yes",
         "Travel_Rarely",
         "Sales",
         "1",
         "2",
         "Life Sciences",
         "2",
         "94",
         "3",
         "2",
         "Sales Executive",
         "4",
         "Single",
         "8",
         "Yes",
         "11",
         "3",
         "1",
         "0",
         "8",
         "0",
         "1",
         "6",
         "4",
         "0",
         "5"
        ],
        [
         "1",
         "49",
         "No",
         "Travel_Frequently",
         "Research & Development",
         "8",
         "1",
         "Life Sciences",
         "3",
         "61",
         "2",
         "2",
         "Research Scientist",
         "2",
         "Married",
         "1",
         "No",
         "23",
         "4",
         "4",
         "1",
         "10",
         "3",
         "3",
         "10",
         "7",
         "1",
         "7"
        ],
        [
         "2",
         "37",
         "Yes",
         "Travel_Rarely",
         "Research & Development",
         "2",
         "2",
         "Other",
         "4",
         "92",
         "2",
         "1",
         "Laboratory Technician",
         "3",
         "Single",
         "6",
         "Yes",
         "15",
         "3",
         "2",
         "0",
         "7",
         "3",
         "3",
         "0",
         "0",
         "0",
         "0"
        ],
        [
         "3",
         "33",
         "No",
         "Travel_Frequently",
         "Research & Development",
         "3",
         "4",
         "Life Sciences",
         "4",
         "56",
         "3",
         "1",
         "Research Scientist",
         "3",
         "Married",
         "1",
         "Yes",
         "11",
         "3",
         "3",
         "0",
         "8",
         "3",
         "3",
         "8",
         "7",
         "3",
         "0"
        ],
        [
         "4",
         "27",
         "No",
         "Travel_Rarely",
         "Research & Development",
         "2",
         "1",
         "Medical",
         "1",
         "40",
         "3",
         "1",
         "Laboratory Technician",
         "2",
         "Married",
         "9",
         "No",
         "12",
         "3",
         "4",
         "1",
         "6",
         "3",
         "3",
         "2",
         "2",
         "2",
         "2"
        ]
       ],
       "shape": {
        "columns": 27,
        "rows": 5
       }
      },
      "text/html": [
       "<div>\n",
       "<style scoped>\n",
       "    .dataframe tbody tr th:only-of-type {\n",
       "        vertical-align: middle;\n",
       "    }\n",
       "\n",
       "    .dataframe tbody tr th {\n",
       "        vertical-align: top;\n",
       "    }\n",
       "\n",
       "    .dataframe thead th {\n",
       "        text-align: right;\n",
       "    }\n",
       "</style>\n",
       "<table border=\"1\" class=\"dataframe\">\n",
       "  <thead>\n",
       "    <tr style=\"text-align: right;\">\n",
       "      <th></th>\n",
       "      <th>Age</th>\n",
       "      <th>Attrition</th>\n",
       "      <th>BusinessTravel</th>\n",
       "      <th>Department</th>\n",
       "      <th>DistanceFromHome</th>\n",
       "      <th>Education</th>\n",
       "      <th>EducationField</th>\n",
       "      <th>EnvironmentSatisfaction</th>\n",
       "      <th>HourlyRate</th>\n",
       "      <th>JobInvolvement</th>\n",
       "      <th>...</th>\n",
       "      <th>PerformanceRating</th>\n",
       "      <th>RelationshipSatisfaction</th>\n",
       "      <th>StockOptionLevel</th>\n",
       "      <th>TotalWorkingYears</th>\n",
       "      <th>TrainingTimesLastYear</th>\n",
       "      <th>WorkLifeBalance</th>\n",
       "      <th>YearsAtCompany</th>\n",
       "      <th>YearsInCurrentRole</th>\n",
       "      <th>YearsSinceLastPromotion</th>\n",
       "      <th>YearsWithCurrManager</th>\n",
       "    </tr>\n",
       "  </thead>\n",
       "  <tbody>\n",
       "    <tr>\n",
       "      <th>0</th>\n",
       "      <td>41</td>\n",
       "      <td>Yes</td>\n",
       "      <td>Travel_Rarely</td>\n",
       "      <td>Sales</td>\n",
       "      <td>1</td>\n",
       "      <td>2</td>\n",
       "      <td>Life Sciences</td>\n",
       "      <td>2</td>\n",
       "      <td>94</td>\n",
       "      <td>3</td>\n",
       "      <td>...</td>\n",
       "      <td>3</td>\n",
       "      <td>1</td>\n",
       "      <td>0</td>\n",
       "      <td>8</td>\n",
       "      <td>0</td>\n",
       "      <td>1</td>\n",
       "      <td>6</td>\n",
       "      <td>4</td>\n",
       "      <td>0</td>\n",
       "      <td>5</td>\n",
       "    </tr>\n",
       "    <tr>\n",
       "      <th>1</th>\n",
       "      <td>49</td>\n",
       "      <td>No</td>\n",
       "      <td>Travel_Frequently</td>\n",
       "      <td>Research &amp; Development</td>\n",
       "      <td>8</td>\n",
       "      <td>1</td>\n",
       "      <td>Life Sciences</td>\n",
       "      <td>3</td>\n",
       "      <td>61</td>\n",
       "      <td>2</td>\n",
       "      <td>...</td>\n",
       "      <td>4</td>\n",
       "      <td>4</td>\n",
       "      <td>1</td>\n",
       "      <td>10</td>\n",
       "      <td>3</td>\n",
       "      <td>3</td>\n",
       "      <td>10</td>\n",
       "      <td>7</td>\n",
       "      <td>1</td>\n",
       "      <td>7</td>\n",
       "    </tr>\n",
       "    <tr>\n",
       "      <th>2</th>\n",
       "      <td>37</td>\n",
       "      <td>Yes</td>\n",
       "      <td>Travel_Rarely</td>\n",
       "      <td>Research &amp; Development</td>\n",
       "      <td>2</td>\n",
       "      <td>2</td>\n",
       "      <td>Other</td>\n",
       "      <td>4</td>\n",
       "      <td>92</td>\n",
       "      <td>2</td>\n",
       "      <td>...</td>\n",
       "      <td>3</td>\n",
       "      <td>2</td>\n",
       "      <td>0</td>\n",
       "      <td>7</td>\n",
       "      <td>3</td>\n",
       "      <td>3</td>\n",
       "      <td>0</td>\n",
       "      <td>0</td>\n",
       "      <td>0</td>\n",
       "      <td>0</td>\n",
       "    </tr>\n",
       "    <tr>\n",
       "      <th>3</th>\n",
       "      <td>33</td>\n",
       "      <td>No</td>\n",
       "      <td>Travel_Frequently</td>\n",
       "      <td>Research &amp; Development</td>\n",
       "      <td>3</td>\n",
       "      <td>4</td>\n",
       "      <td>Life Sciences</td>\n",
       "      <td>4</td>\n",
       "      <td>56</td>\n",
       "      <td>3</td>\n",
       "      <td>...</td>\n",
       "      <td>3</td>\n",
       "      <td>3</td>\n",
       "      <td>0</td>\n",
       "      <td>8</td>\n",
       "      <td>3</td>\n",
       "      <td>3</td>\n",
       "      <td>8</td>\n",
       "      <td>7</td>\n",
       "      <td>3</td>\n",
       "      <td>0</td>\n",
       "    </tr>\n",
       "    <tr>\n",
       "      <th>4</th>\n",
       "      <td>27</td>\n",
       "      <td>No</td>\n",
       "      <td>Travel_Rarely</td>\n",
       "      <td>Research &amp; Development</td>\n",
       "      <td>2</td>\n",
       "      <td>1</td>\n",
       "      <td>Medical</td>\n",
       "      <td>1</td>\n",
       "      <td>40</td>\n",
       "      <td>3</td>\n",
       "      <td>...</td>\n",
       "      <td>3</td>\n",
       "      <td>4</td>\n",
       "      <td>1</td>\n",
       "      <td>6</td>\n",
       "      <td>3</td>\n",
       "      <td>3</td>\n",
       "      <td>2</td>\n",
       "      <td>2</td>\n",
       "      <td>2</td>\n",
       "      <td>2</td>\n",
       "    </tr>\n",
       "  </tbody>\n",
       "</table>\n",
       "<p>5 rows × 27 columns</p>\n",
       "</div>"
      ],
      "text/plain": [
       "   Age Attrition     BusinessTravel              Department  DistanceFromHome  \\\n",
       "0   41       Yes      Travel_Rarely                   Sales                 1   \n",
       "1   49        No  Travel_Frequently  Research & Development                 8   \n",
       "2   37       Yes      Travel_Rarely  Research & Development                 2   \n",
       "3   33        No  Travel_Frequently  Research & Development                 3   \n",
       "4   27        No      Travel_Rarely  Research & Development                 2   \n",
       "\n",
       "   Education EducationField  EnvironmentSatisfaction  HourlyRate  \\\n",
       "0          2  Life Sciences                        2          94   \n",
       "1          1  Life Sciences                        3          61   \n",
       "2          2          Other                        4          92   \n",
       "3          4  Life Sciences                        4          56   \n",
       "4          1        Medical                        1          40   \n",
       "\n",
       "   JobInvolvement  ...  PerformanceRating RelationshipSatisfaction  \\\n",
       "0               3  ...                  3                        1   \n",
       "1               2  ...                  4                        4   \n",
       "2               2  ...                  3                        2   \n",
       "3               3  ...                  3                        3   \n",
       "4               3  ...                  3                        4   \n",
       "\n",
       "   StockOptionLevel TotalWorkingYears  TrainingTimesLastYear WorkLifeBalance  \\\n",
       "0                 0                 8                      0               1   \n",
       "1                 1                10                      3               3   \n",
       "2                 0                 7                      3               3   \n",
       "3                 0                 8                      3               3   \n",
       "4                 1                 6                      3               3   \n",
       "\n",
       "   YearsAtCompany  YearsInCurrentRole  YearsSinceLastPromotion  \\\n",
       "0               6                   4                        0   \n",
       "1              10                   7                        1   \n",
       "2               0                   0                        0   \n",
       "3               8                   7                        3   \n",
       "4               2                   2                        2   \n",
       "\n",
       "   YearsWithCurrManager  \n",
       "0                     5  \n",
       "1                     7  \n",
       "2                     0  \n",
       "3                     0  \n",
       "4                     2  \n",
       "\n",
       "[5 rows x 27 columns]"
      ]
     },
     "execution_count": 55,
     "metadata": {},
     "output_type": "execute_result"
    }
   ],
   "source": [
    "# Import our dependencies\n",
    "from sklearn.model_selection import train_test_split\n",
    "from sklearn.preprocessing import StandardScaler, OneHotEncoder\n",
    "import pandas as pd\n",
    "import numpy as np\n",
    "from tensorflow.keras.models import Model\n",
    "from tensorflow.keras import layers, Input\n",
    "\n",
    "#  Import and read the attrition data\n",
    "attrition_df = pd.read_csv('https://static.bc-edx.com/ai/ail-v-1-0/m19/lms/datasets/attrition.csv')\n",
    "attrition_df.head()"
   ]
  },
  {
   "cell_type": "code",
   "execution_count": 56,
   "metadata": {
    "colab": {
     "base_uri": "https://localhost:8080/",
     "height": 930
    },
    "executionInfo": {
     "elapsed": 10,
     "status": "ok",
     "timestamp": 1730699226906,
     "user": {
      "displayName": "Alexander Booth",
      "userId": "02269714993535573104"
     },
     "user_tz": 360
    },
    "id": "g22aQSY4Gc3Q",
    "outputId": "e8b68509-45d8-42e0-a9db-1bdce48e4b2d"
   },
   "outputs": [
    {
     "data": {
      "text/plain": [
       "Age                         43\n",
       "Attrition                    2\n",
       "BusinessTravel               3\n",
       "Department                   3\n",
       "DistanceFromHome            29\n",
       "Education                    5\n",
       "EducationField               6\n",
       "EnvironmentSatisfaction      4\n",
       "HourlyRate                  71\n",
       "JobInvolvement               4\n",
       "JobLevel                     5\n",
       "JobRole                      9\n",
       "JobSatisfaction              4\n",
       "MaritalStatus                3\n",
       "NumCompaniesWorked          10\n",
       "OverTime                     2\n",
       "PercentSalaryHike           15\n",
       "PerformanceRating            2\n",
       "RelationshipSatisfaction     4\n",
       "StockOptionLevel             4\n",
       "TotalWorkingYears           40\n",
       "TrainingTimesLastYear        7\n",
       "WorkLifeBalance              4\n",
       "YearsAtCompany              37\n",
       "YearsInCurrentRole          19\n",
       "YearsSinceLastPromotion     16\n",
       "YearsWithCurrManager        18\n",
       "dtype: int64"
      ]
     },
     "execution_count": 56,
     "metadata": {},
     "output_type": "execute_result"
    }
   ],
   "source": [
    "# Determine the number of unique values in each column\n",
    "attrition_df.nunique()"
   ]
  },
  {
   "cell_type": "code",
   "execution_count": 57,
   "metadata": {
    "executionInfo": {
     "elapsed": 7,
     "status": "ok",
     "timestamp": 1730699226906,
     "user": {
      "displayName": "Alexander Booth",
      "userId": "02269714993535573104"
     },
     "user_tz": 360
    },
    "id": "50vMgBEnJbfM"
   },
   "outputs": [],
   "source": [
    "# Create y_df with the Attrition and Department columns\n",
    "y_df = attrition_df[['Attrition', 'Department']]"
   ]
  },
  {
   "cell_type": "code",
   "execution_count": 58,
   "metadata": {
    "colab": {
     "base_uri": "https://localhost:8080/",
     "height": 397
    },
    "executionInfo": {
     "elapsed": 125,
     "status": "ok",
     "timestamp": 1730699227025,
     "user": {
      "displayName": "Alexander Booth",
      "userId": "02269714993535573104"
     },
     "user_tz": 360
    },
    "id": "Virka0zLGc3R",
    "outputId": "24f181c9-7e2e-42cb-94e8-a75842f1ab01"
   },
   "outputs": [
    {
     "data": {
      "text/plain": [
       "Education                   int64\n",
       "Age                         int64\n",
       "DistanceFromHome            int64\n",
       "JobSatisfaction             int64\n",
       "OverTime                   object\n",
       "StockOptionLevel            int64\n",
       "WorkLifeBalance             int64\n",
       "YearsAtCompany              int64\n",
       "YearsSinceLastPromotion     int64\n",
       "NumCompaniesWorked          int64\n",
       "dtype: object"
      ]
     },
     "execution_count": 58,
     "metadata": {},
     "output_type": "execute_result"
    }
   ],
   "source": [
    "# Create a list of at least 10 column names to use as X data\n",
    "X_columns = ['Education', 'Age', 'DistanceFromHome', 'JobSatisfaction', 'OverTime',\n",
    "             'StockOptionLevel', 'WorkLifeBalance', 'YearsAtCompany',\n",
    "             'YearsSinceLastPromotion', 'NumCompaniesWorked']\n",
    "\n",
    "# Create X_df using your selected columns\n",
    "X_df = attrition_df[X_columns]\n",
    "\n",
    "# Show the data types for X_df\n",
    "X_df.dtypes"
   ]
  },
  {
   "cell_type": "code",
   "execution_count": 59,
   "metadata": {
    "executionInfo": {
     "elapsed": 9,
     "status": "ok",
     "timestamp": 1730699227025,
     "user": {
      "displayName": "Alexander Booth",
      "userId": "02269714993535573104"
     },
     "user_tz": 360
    },
    "id": "KaJfdOGUMHMR"
   },
   "outputs": [],
   "source": [
    "# Split the data into training and testing sets\n",
    "# from sklearn.model_selection import train_test_split\n",
    "X_train, X_test, y_train, y_test = train_test_split(X_df, y_df, random_state=1)"
   ]
  },
  {
   "cell_type": "code",
   "execution_count": 60,
   "metadata": {
    "colab": {
     "base_uri": "https://localhost:8080/",
     "height": 178
    },
    "executionInfo": {
     "elapsed": 8,
     "status": "ok",
     "timestamp": 1730699227025,
     "user": {
      "displayName": "Alexander Booth",
      "userId": "02269714993535573104"
     },
     "user_tz": 360
    },
    "id": "NYubUJqiLCSp",
    "outputId": "6116187c-4afa-4d4a-aeb9-fdc2131d0d58"
   },
   "outputs": [
    {
     "data": {
      "text/plain": [
       "OverTime\n",
       "No     1054\n",
       "Yes     416\n",
       "Name: count, dtype: int64"
      ]
     },
     "execution_count": 60,
     "metadata": {},
     "output_type": "execute_result"
    }
   ],
   "source": [
    "# Convert your X data to numeric data types however you see fit\n",
    "# Add new code cells as necessary\n",
    "X_cat_cols = X_train.select_dtypes(include='object').columns.tolist()\n",
    "X_encoder = OneHotEncoder(drop='if_binary', sparse_output=False, handle_unknown='ignore')\n",
    "X_encoder.fit(X_train[X_cat_cols])\n",
    "\n",
    "X_train_encoded = pd.DataFrame(X_encoder.transform(X_train[X_cat_cols]), index=X_train.index)\n",
    "X_test_encoded = pd.DataFrame(X_encoder.transform(X_test[X_cat_cols]), index=X_test.index)\n",
    "\n",
    "X_train = X_train.drop(columns=X_cat_cols)\n",
    "X_test = X_test.drop(columns=X_cat_cols)\n",
    "X_train = pd.concat([X_train, X_train_encoded], axis=1)\n",
    "X_test = pd.concat([X_test, X_test_encoded], axis=1)\n",
    "\n",
    "# Check the count of each value in the 'OverTime' column\n",
    "attrition_df[\"OverTime\"].value_counts()\n"
   ]
  },
  {
   "cell_type": "code",
   "execution_count": 61,
   "metadata": {
    "executionInfo": {
     "elapsed": 6,
     "status": "ok",
     "timestamp": 1730699227162,
     "user": {
      "displayName": "Alexander Booth",
      "userId": "02269714993535573104"
     },
     "user_tz": 360
    },
    "id": "EWA-aIA5Gc3T"
   },
   "outputs": [],
   "source": [
    "# Ensure all column names are strings\n",
    "X_train.columns = X_train.columns.astype(str)\n",
    "X_test.columns = X_test.columns.astype(str)\n",
    "\n",
    "# Create a StandardScaler\n",
    "scaler = StandardScaler()\n",
    "\n",
    "# Fit the StandardScaler to the training data\n",
    "X_train_scaled = scaler.fit_transform(X_train)\n",
    "\n",
    "# Scale the testing data\n",
    "X_test_scaled = scaler.transform(X_test)"
   ]
  },
  {
   "cell_type": "code",
   "execution_count": 62,
   "metadata": {},
   "outputs": [
    {
     "name": "stdout",
     "output_type": "stream",
     "text": [
      "Final shape of X_train_scaled: (1102, 10)\n"
     ]
    }
   ],
   "source": [
    "print(\"Final shape of X_train_scaled:\", X_train_scaled.shape)\n"
   ]
  },
  {
   "cell_type": "code",
   "execution_count": 63,
   "metadata": {
    "colab": {
     "base_uri": "https://localhost:8080/"
    },
    "executionInfo": {
     "elapsed": 99,
     "status": "ok",
     "timestamp": 1730699227256,
     "user": {
      "displayName": "Alexander Booth",
      "userId": "02269714993535573104"
     },
     "user_tz": 360
    },
    "id": "-z0Mky8vQSz4",
    "outputId": "5024d63f-7e4e-4a91-fb76-0b2c79c1bcfb"
   },
   "outputs": [
    {
     "name": "stdout",
     "output_type": "stream",
     "text": [
      "[[0. 1. 0.]\n",
      " [0. 1. 0.]\n",
      " [0. 0. 1.]\n",
      " ...\n",
      " [1. 0. 0.]\n",
      " [0. 0. 1.]\n",
      " [0. 0. 1.]]\n"
     ]
    }
   ],
   "source": [
    "from sklearn.preprocessing import OneHotEncoder\n",
    "\n",
    "# Create a OneHotEncoder for the Department column\n",
    "dept_encoder = OneHotEncoder(sparse_output=False, handle_unknown='ignore')\n",
    "\n",
    "# Fit the encoder to the training data\n",
    "dept_encoder.fit(y_train[[\"Department\"]])\n",
    "\n",
    "# Create two new variables by applying the encoder\n",
    "# to the training and testing data\n",
    "y_train_dept = dept_encoder.transform(y_train[[\"Department\"]])\n",
    "y_test_dept = dept_encoder.transform(y_test[[\"Department\"]])\n",
    "\n",
    "# Print encoded department values to visualize the result\n",
    "print(y_train_dept)"
   ]
  },
  {
   "cell_type": "code",
   "execution_count": 64,
   "metadata": {
    "colab": {
     "base_uri": "https://localhost:8080/"
    },
    "executionInfo": {
     "elapsed": 5,
     "status": "ok",
     "timestamp": 1730699227257,
     "user": {
      "displayName": "Alexander Booth",
      "userId": "02269714993535573104"
     },
     "user_tz": 360
    },
    "id": "-G4DSpvFRrk4",
    "outputId": "1821049e-a4f0-437f-b8a7-e415431fbdb0"
   },
   "outputs": [
    {
     "name": "stdout",
     "output_type": "stream",
     "text": [
      "[[1. 0.]\n",
      " [1. 0.]\n",
      " [0. 1.]\n",
      " ...\n",
      " [1. 0.]\n",
      " [1. 0.]\n",
      " [1. 0.]]\n"
     ]
    }
   ],
   "source": [
    "# Create a OneHotEncoder for the Attrition column\n",
    "attr_encoder = OneHotEncoder(sparse_output=False, handle_unknown='ignore')\n",
    "\n",
    "# Fit the encoder to the training data\n",
    "attr_encoder.fit(y_train[[\"Attrition\"]])\n",
    "\n",
    "# Create two new variables by applying the encoder\n",
    "# to the training and testing data\n",
    "y_train_attr = attr_encoder.transform(y_train[[\"Attrition\"]])\n",
    "y_test_attr = attr_encoder.transform(y_test[[\"Attrition\"]])\n",
    "\n",
    "# Print encoded attrition values to visualize the result\n",
    "print(y_train_attr)\n"
   ]
  },
  {
   "cell_type": "markdown",
   "metadata": {
    "id": "ykNmu_WWGc3T"
   },
   "source": [
    "## Part 2: Create, Compile, and Train the Model"
   ]
  },
  {
   "cell_type": "code",
   "execution_count": 65,
   "metadata": {
    "executionInfo": {
     "elapsed": 309,
     "status": "ok",
     "timestamp": 1730699227563,
     "user": {
      "displayName": "Alexander Booth",
      "userId": "02269714993535573104"
     },
     "user_tz": 360
    },
    "id": "WUptZqmSGc3T"
   },
   "outputs": [],
   "source": [
    "# Find the number of columns in the X training data.\n",
    "input_dim = X_train_scaled.shape[1]\n",
    "\n",
    "# Create the input layer\n",
    "input_layer = Input(shape=(input_dim,), name='input')\n",
    "\n",
    "# Create at least two shared layers\n",
    "shared_layer1 = layers.Dense(64, activation='relu', name='shared1')(input_layer)\n",
    "shared_layer2 = layers.Dense(128, activation='relu', name='shared2')(shared_layer1)\n"
   ]
  },
  {
   "cell_type": "code",
   "execution_count": 66,
   "metadata": {
    "executionInfo": {
     "elapsed": 118,
     "status": "ok",
     "timestamp": 1730699227678,
     "user": {
      "displayName": "Alexander Booth",
      "userId": "02269714993535573104"
     },
     "user_tz": 360
    },
    "id": "JukjTm2yTEqd"
   },
   "outputs": [],
   "source": [
    "# Create a branch for Department\n",
    "# with a hidden layer and an output layer\n",
    "\n",
    "# Create the hidden layer\n",
    "dept_branch = layers.Dense(32, activation='relu', name='department_hidden')(shared_layer2)\n",
    "\n",
    "# Create the output layer\n",
    "dept_output = layers.Dense(y_train_dept.shape[1], activation='softmax', name='department_output')(dept_branch)"
   ]
  },
  {
   "cell_type": "code",
   "execution_count": 67,
   "metadata": {
    "executionInfo": {
     "elapsed": 9,
     "status": "ok",
     "timestamp": 1730699227679,
     "user": {
      "displayName": "Alexander Booth",
      "userId": "02269714993535573104"
     },
     "user_tz": 360
    },
    "id": "9OqhUiOJUBkR"
   },
   "outputs": [],
   "source": [
    "# Create a branch for Attrition\n",
    "# with a hidden layer and an output layer\n",
    "\n",
    "# Create the hidden layer\n",
    "attr_branch = layers.Dense(32, activation='relu', name='attrition_hidden')(shared_layer2)\n",
    "\n",
    "# Create the output layer\n",
    "attr_output = layers.Dense(y_train_attr.shape[1], activation='softmax', name='attrition_output')(attr_branch)"
   ]
  },
  {
   "cell_type": "code",
   "execution_count": 68,
   "metadata": {
    "colab": {
     "base_uri": "https://localhost:8080/",
     "height": 361
    },
    "executionInfo": {
     "elapsed": 108,
     "status": "ok",
     "timestamp": 1730699227780,
     "user": {
      "displayName": "Alexander Booth",
      "userId": "02269714993535573104"
     },
     "user_tz": 360
    },
    "id": "twmuejdxGc3T",
    "outputId": "dd9ce242-6a66-4709-ba13-4b13551c22e0"
   },
   "outputs": [
    {
     "data": {
      "text/html": [
       "<pre style=\"white-space:pre;overflow-x:auto;line-height:normal;font-family:Menlo,'DejaVu Sans Mono',consolas,'Courier New',monospace\"><span style=\"font-weight: bold\">Model: \"functional_3\"</span>\n",
       "</pre>\n"
      ],
      "text/plain": [
       "\u001b[1mModel: \"functional_3\"\u001b[0m\n"
      ]
     },
     "metadata": {},
     "output_type": "display_data"
    },
    {
     "data": {
      "text/html": [
       "<pre style=\"white-space:pre;overflow-x:auto;line-height:normal;font-family:Menlo,'DejaVu Sans Mono',consolas,'Courier New',monospace\">┏━━━━━━━━━━━━━━━━━━━━━┳━━━━━━━━━━━━━━━━━━━┳━━━━━━━━━━━━┳━━━━━━━━━━━━━━━━━━━┓\n",
       "┃<span style=\"font-weight: bold\"> Layer (type)        </span>┃<span style=\"font-weight: bold\"> Output Shape      </span>┃<span style=\"font-weight: bold\">    Param # </span>┃<span style=\"font-weight: bold\"> Connected to      </span>┃\n",
       "┡━━━━━━━━━━━━━━━━━━━━━╇━━━━━━━━━━━━━━━━━━━╇━━━━━━━━━━━━╇━━━━━━━━━━━━━━━━━━━┩\n",
       "│ input (<span style=\"color: #0087ff; text-decoration-color: #0087ff\">InputLayer</span>)  │ (<span style=\"color: #00d7ff; text-decoration-color: #00d7ff\">None</span>, <span style=\"color: #00af00; text-decoration-color: #00af00\">10</span>)        │          <span style=\"color: #00af00; text-decoration-color: #00af00\">0</span> │ -                 │\n",
       "├─────────────────────┼───────────────────┼────────────┼───────────────────┤\n",
       "│ shared1 (<span style=\"color: #0087ff; text-decoration-color: #0087ff\">Dense</span>)     │ (<span style=\"color: #00d7ff; text-decoration-color: #00d7ff\">None</span>, <span style=\"color: #00af00; text-decoration-color: #00af00\">64</span>)        │        <span style=\"color: #00af00; text-decoration-color: #00af00\">704</span> │ input[<span style=\"color: #00af00; text-decoration-color: #00af00\">0</span>][<span style=\"color: #00af00; text-decoration-color: #00af00\">0</span>]       │\n",
       "├─────────────────────┼───────────────────┼────────────┼───────────────────┤\n",
       "│ shared2 (<span style=\"color: #0087ff; text-decoration-color: #0087ff\">Dense</span>)     │ (<span style=\"color: #00d7ff; text-decoration-color: #00d7ff\">None</span>, <span style=\"color: #00af00; text-decoration-color: #00af00\">128</span>)       │      <span style=\"color: #00af00; text-decoration-color: #00af00\">8,320</span> │ shared1[<span style=\"color: #00af00; text-decoration-color: #00af00\">0</span>][<span style=\"color: #00af00; text-decoration-color: #00af00\">0</span>]     │\n",
       "├─────────────────────┼───────────────────┼────────────┼───────────────────┤\n",
       "│ department_hidden   │ (<span style=\"color: #00d7ff; text-decoration-color: #00d7ff\">None</span>, <span style=\"color: #00af00; text-decoration-color: #00af00\">32</span>)        │      <span style=\"color: #00af00; text-decoration-color: #00af00\">4,128</span> │ shared2[<span style=\"color: #00af00; text-decoration-color: #00af00\">0</span>][<span style=\"color: #00af00; text-decoration-color: #00af00\">0</span>]     │\n",
       "│ (<span style=\"color: #0087ff; text-decoration-color: #0087ff\">Dense</span>)             │                   │            │                   │\n",
       "├─────────────────────┼───────────────────┼────────────┼───────────────────┤\n",
       "│ attrition_hidden    │ (<span style=\"color: #00d7ff; text-decoration-color: #00d7ff\">None</span>, <span style=\"color: #00af00; text-decoration-color: #00af00\">32</span>)        │      <span style=\"color: #00af00; text-decoration-color: #00af00\">4,128</span> │ shared2[<span style=\"color: #00af00; text-decoration-color: #00af00\">0</span>][<span style=\"color: #00af00; text-decoration-color: #00af00\">0</span>]     │\n",
       "│ (<span style=\"color: #0087ff; text-decoration-color: #0087ff\">Dense</span>)             │                   │            │                   │\n",
       "├─────────────────────┼───────────────────┼────────────┼───────────────────┤\n",
       "│ department_output   │ (<span style=\"color: #00d7ff; text-decoration-color: #00d7ff\">None</span>, <span style=\"color: #00af00; text-decoration-color: #00af00\">3</span>)         │         <span style=\"color: #00af00; text-decoration-color: #00af00\">99</span> │ department_hidde… │\n",
       "│ (<span style=\"color: #0087ff; text-decoration-color: #0087ff\">Dense</span>)             │                   │            │                   │\n",
       "├─────────────────────┼───────────────────┼────────────┼───────────────────┤\n",
       "│ attrition_output    │ (<span style=\"color: #00d7ff; text-decoration-color: #00d7ff\">None</span>, <span style=\"color: #00af00; text-decoration-color: #00af00\">2</span>)         │         <span style=\"color: #00af00; text-decoration-color: #00af00\">66</span> │ attrition_hidden… │\n",
       "│ (<span style=\"color: #0087ff; text-decoration-color: #0087ff\">Dense</span>)             │                   │            │                   │\n",
       "└─────────────────────┴───────────────────┴────────────┴───────────────────┘\n",
       "</pre>\n"
      ],
      "text/plain": [
       "┏━━━━━━━━━━━━━━━━━━━━━┳━━━━━━━━━━━━━━━━━━━┳━━━━━━━━━━━━┳━━━━━━━━━━━━━━━━━━━┓\n",
       "┃\u001b[1m \u001b[0m\u001b[1mLayer (type)       \u001b[0m\u001b[1m \u001b[0m┃\u001b[1m \u001b[0m\u001b[1mOutput Shape     \u001b[0m\u001b[1m \u001b[0m┃\u001b[1m \u001b[0m\u001b[1m   Param #\u001b[0m\u001b[1m \u001b[0m┃\u001b[1m \u001b[0m\u001b[1mConnected to     \u001b[0m\u001b[1m \u001b[0m┃\n",
       "┡━━━━━━━━━━━━━━━━━━━━━╇━━━━━━━━━━━━━━━━━━━╇━━━━━━━━━━━━╇━━━━━━━━━━━━━━━━━━━┩\n",
       "│ input (\u001b[38;5;33mInputLayer\u001b[0m)  │ (\u001b[38;5;45mNone\u001b[0m, \u001b[38;5;34m10\u001b[0m)        │          \u001b[38;5;34m0\u001b[0m │ -                 │\n",
       "├─────────────────────┼───────────────────┼────────────┼───────────────────┤\n",
       "│ shared1 (\u001b[38;5;33mDense\u001b[0m)     │ (\u001b[38;5;45mNone\u001b[0m, \u001b[38;5;34m64\u001b[0m)        │        \u001b[38;5;34m704\u001b[0m │ input[\u001b[38;5;34m0\u001b[0m][\u001b[38;5;34m0\u001b[0m]       │\n",
       "├─────────────────────┼───────────────────┼────────────┼───────────────────┤\n",
       "│ shared2 (\u001b[38;5;33mDense\u001b[0m)     │ (\u001b[38;5;45mNone\u001b[0m, \u001b[38;5;34m128\u001b[0m)       │      \u001b[38;5;34m8,320\u001b[0m │ shared1[\u001b[38;5;34m0\u001b[0m][\u001b[38;5;34m0\u001b[0m]     │\n",
       "├─────────────────────┼───────────────────┼────────────┼───────────────────┤\n",
       "│ department_hidden   │ (\u001b[38;5;45mNone\u001b[0m, \u001b[38;5;34m32\u001b[0m)        │      \u001b[38;5;34m4,128\u001b[0m │ shared2[\u001b[38;5;34m0\u001b[0m][\u001b[38;5;34m0\u001b[0m]     │\n",
       "│ (\u001b[38;5;33mDense\u001b[0m)             │                   │            │                   │\n",
       "├─────────────────────┼───────────────────┼────────────┼───────────────────┤\n",
       "│ attrition_hidden    │ (\u001b[38;5;45mNone\u001b[0m, \u001b[38;5;34m32\u001b[0m)        │      \u001b[38;5;34m4,128\u001b[0m │ shared2[\u001b[38;5;34m0\u001b[0m][\u001b[38;5;34m0\u001b[0m]     │\n",
       "│ (\u001b[38;5;33mDense\u001b[0m)             │                   │            │                   │\n",
       "├─────────────────────┼───────────────────┼────────────┼───────────────────┤\n",
       "│ department_output   │ (\u001b[38;5;45mNone\u001b[0m, \u001b[38;5;34m3\u001b[0m)         │         \u001b[38;5;34m99\u001b[0m │ department_hidde… │\n",
       "│ (\u001b[38;5;33mDense\u001b[0m)             │                   │            │                   │\n",
       "├─────────────────────┼───────────────────┼────────────┼───────────────────┤\n",
       "│ attrition_output    │ (\u001b[38;5;45mNone\u001b[0m, \u001b[38;5;34m2\u001b[0m)         │         \u001b[38;5;34m66\u001b[0m │ attrition_hidden… │\n",
       "│ (\u001b[38;5;33mDense\u001b[0m)             │                   │            │                   │\n",
       "└─────────────────────┴───────────────────┴────────────┴───────────────────┘\n"
      ]
     },
     "metadata": {},
     "output_type": "display_data"
    },
    {
     "data": {
      "text/html": [
       "<pre style=\"white-space:pre;overflow-x:auto;line-height:normal;font-family:Menlo,'DejaVu Sans Mono',consolas,'Courier New',monospace\"><span style=\"font-weight: bold\"> Total params: </span><span style=\"color: #00af00; text-decoration-color: #00af00\">17,445</span> (68.14 KB)\n",
       "</pre>\n"
      ],
      "text/plain": [
       "\u001b[1m Total params: \u001b[0m\u001b[38;5;34m17,445\u001b[0m (68.14 KB)\n"
      ]
     },
     "metadata": {},
     "output_type": "display_data"
    },
    {
     "data": {
      "text/html": [
       "<pre style=\"white-space:pre;overflow-x:auto;line-height:normal;font-family:Menlo,'DejaVu Sans Mono',consolas,'Courier New',monospace\"><span style=\"font-weight: bold\"> Trainable params: </span><span style=\"color: #00af00; text-decoration-color: #00af00\">17,445</span> (68.14 KB)\n",
       "</pre>\n"
      ],
      "text/plain": [
       "\u001b[1m Trainable params: \u001b[0m\u001b[38;5;34m17,445\u001b[0m (68.14 KB)\n"
      ]
     },
     "metadata": {},
     "output_type": "display_data"
    },
    {
     "data": {
      "text/html": [
       "<pre style=\"white-space:pre;overflow-x:auto;line-height:normal;font-family:Menlo,'DejaVu Sans Mono',consolas,'Courier New',monospace\"><span style=\"font-weight: bold\"> Non-trainable params: </span><span style=\"color: #00af00; text-decoration-color: #00af00\">0</span> (0.00 B)\n",
       "</pre>\n"
      ],
      "text/plain": [
       "\u001b[1m Non-trainable params: \u001b[0m\u001b[38;5;34m0\u001b[0m (0.00 B)\n"
      ]
     },
     "metadata": {},
     "output_type": "display_data"
    }
   ],
   "source": [
    "# Create the model\n",
    "model = Model(inputs=input_layer, outputs=[dept_output, attr_output])\n",
    "\n",
    "# Compile the model\n",
    "model.compile(\n",
    "    optimizer='adam',\n",
    "    loss={\n",
    "        'department_output': 'categorical_crossentropy',\n",
    "        'attrition_output': 'categorical_crossentropy'\n",
    "    },\n",
    "    metrics={\n",
    "        'department_output': 'accuracy',\n",
    "        'attrition_output': 'accuracy'\n",
    "    }\n",
    ")\n",
    "\n",
    "# Summarize the model\n",
    "model.summary()"
   ]
  },
  {
   "cell_type": "code",
   "execution_count": 69,
   "metadata": {
    "colab": {
     "base_uri": "https://localhost:8080/"
    },
    "executionInfo": {
     "elapsed": 31740,
     "status": "ok",
     "timestamp": 1730699259517,
     "user": {
      "displayName": "Alexander Booth",
      "userId": "02269714993535573104"
     },
     "user_tz": 360
    },
    "id": "c8oGy0dpGc3U",
    "outputId": "f48a5292-426f-4715-ea6e-381a8e9d5542"
   },
   "outputs": [
    {
     "name": "stdout",
     "output_type": "stream",
     "text": [
      "Epoch 1/100\n"
     ]
    },
    {
     "name": "stdout",
     "output_type": "stream",
     "text": [
      "\u001b[1m28/28\u001b[0m \u001b[32m━━━━━━━━━━━━━━━━━━━━\u001b[0m\u001b[37m\u001b[0m \u001b[1m2s\u001b[0m 14ms/step - attrition_output_accuracy: 0.6228 - attrition_output_loss: 0.6131 - department_output_accuracy: 0.5625 - department_output_loss: 0.9748 - loss: 1.5879 - val_attrition_output_accuracy: 0.8281 - val_attrition_output_loss: 0.4960 - val_department_output_accuracy: 0.6335 - val_department_output_loss: 0.8510 - val_loss: 1.3478\n",
      "Epoch 2/100\n",
      "\u001b[1m28/28\u001b[0m \u001b[32m━━━━━━━━━━━━━━━━━━━━\u001b[0m\u001b[37m\u001b[0m \u001b[1m0s\u001b[0m 4ms/step - attrition_output_accuracy: 0.8438 - attrition_output_loss: 0.4217 - department_output_accuracy: 0.6547 - department_output_loss: 0.7906 - loss: 1.2124 - val_attrition_output_accuracy: 0.8281 - val_attrition_output_loss: 0.4748 - val_department_output_accuracy: 0.6335 - val_department_output_loss: 0.8461 - val_loss: 1.3218\n",
      "Epoch 3/100\n",
      "\u001b[1m28/28\u001b[0m \u001b[32m━━━━━━━━━━━━━━━━━━━━\u001b[0m\u001b[37m\u001b[0m \u001b[1m0s\u001b[0m 4ms/step - attrition_output_accuracy: 0.8504 - attrition_output_loss: 0.3707 - department_output_accuracy: 0.6655 - department_output_loss: 0.7641 - loss: 1.1345 - val_attrition_output_accuracy: 0.8235 - val_attrition_output_loss: 0.4712 - val_department_output_accuracy: 0.6335 - val_department_output_loss: 0.8411 - val_loss: 1.3133\n",
      "Epoch 4/100\n",
      "\u001b[1m28/28\u001b[0m \u001b[32m━━━━━━━━━━━━━━━━━━━━\u001b[0m\u001b[37m\u001b[0m \u001b[1m0s\u001b[0m 3ms/step - attrition_output_accuracy: 0.8728 - attrition_output_loss: 0.3401 - department_output_accuracy: 0.6662 - department_output_loss: 0.7248 - loss: 1.0651 - val_attrition_output_accuracy: 0.8281 - val_attrition_output_loss: 0.4623 - val_department_output_accuracy: 0.6335 - val_department_output_loss: 0.8500 - val_loss: 1.3134\n",
      "Epoch 5/100\n",
      "\u001b[1m28/28\u001b[0m \u001b[32m━━━━━━━━━━━━━━━━━━━━\u001b[0m\u001b[37m\u001b[0m \u001b[1m0s\u001b[0m 3ms/step - attrition_output_accuracy: 0.8809 - attrition_output_loss: 0.3167 - department_output_accuracy: 0.6733 - department_output_loss: 0.7273 - loss: 1.0439 - val_attrition_output_accuracy: 0.8326 - val_attrition_output_loss: 0.4610 - val_department_output_accuracy: 0.6154 - val_department_output_loss: 0.8470 - val_loss: 1.3089\n",
      "Epoch 6/100\n",
      "\u001b[1m28/28\u001b[0m \u001b[32m━━━━━━━━━━━━━━━━━━━━\u001b[0m\u001b[37m\u001b[0m \u001b[1m0s\u001b[0m 3ms/step - attrition_output_accuracy: 0.8885 - attrition_output_loss: 0.3218 - department_output_accuracy: 0.6739 - department_output_loss: 0.7371 - loss: 1.0589 - val_attrition_output_accuracy: 0.8281 - val_attrition_output_loss: 0.4619 - val_department_output_accuracy: 0.6244 - val_department_output_loss: 0.8553 - val_loss: 1.3181\n",
      "Epoch 7/100\n",
      "\u001b[1m28/28\u001b[0m \u001b[32m━━━━━━━━━━━━━━━━━━━━\u001b[0m\u001b[37m\u001b[0m \u001b[1m0s\u001b[0m 3ms/step - attrition_output_accuracy: 0.8824 - attrition_output_loss: 0.3364 - department_output_accuracy: 0.6882 - department_output_loss: 0.7163 - loss: 1.0532 - val_attrition_output_accuracy: 0.8190 - val_attrition_output_loss: 0.4826 - val_department_output_accuracy: 0.6199 - val_department_output_loss: 0.8580 - val_loss: 1.3416\n",
      "Epoch 8/100\n",
      "\u001b[1m28/28\u001b[0m \u001b[32m━━━━━━━━━━━━━━━━━━━━\u001b[0m\u001b[37m\u001b[0m \u001b[1m0s\u001b[0m 4ms/step - attrition_output_accuracy: 0.8772 - attrition_output_loss: 0.3269 - department_output_accuracy: 0.6550 - department_output_loss: 0.7362 - loss: 1.0633 - val_attrition_output_accuracy: 0.8326 - val_attrition_output_loss: 0.4715 - val_department_output_accuracy: 0.6335 - val_department_output_loss: 0.8777 - val_loss: 1.3505\n",
      "Epoch 9/100\n",
      "\u001b[1m28/28\u001b[0m \u001b[32m━━━━━━━━━━━━━━━━━━━━\u001b[0m\u001b[37m\u001b[0m \u001b[1m0s\u001b[0m 4ms/step - attrition_output_accuracy: 0.9216 - attrition_output_loss: 0.2596 - department_output_accuracy: 0.6946 - department_output_loss: 0.6822 - loss: 0.9420 - val_attrition_output_accuracy: 0.8326 - val_attrition_output_loss: 0.4691 - val_department_output_accuracy: 0.6018 - val_department_output_loss: 0.8699 - val_loss: 1.3401\n",
      "Epoch 10/100\n",
      "\u001b[1m28/28\u001b[0m \u001b[32m━━━━━━━━━━━━━━━━━━━━\u001b[0m\u001b[37m\u001b[0m \u001b[1m0s\u001b[0m 4ms/step - attrition_output_accuracy: 0.8849 - attrition_output_loss: 0.3229 - department_output_accuracy: 0.7093 - department_output_loss: 0.7065 - loss: 1.0294 - val_attrition_output_accuracy: 0.8190 - val_attrition_output_loss: 0.5039 - val_department_output_accuracy: 0.5837 - val_department_output_loss: 0.8762 - val_loss: 1.3810\n",
      "Epoch 11/100\n",
      "\u001b[1m28/28\u001b[0m \u001b[32m━━━━━━━━━━━━━━━━━━━━\u001b[0m\u001b[37m\u001b[0m \u001b[1m0s\u001b[0m 4ms/step - attrition_output_accuracy: 0.8974 - attrition_output_loss: 0.2718 - department_output_accuracy: 0.7055 - department_output_loss: 0.6708 - loss: 0.9424 - val_attrition_output_accuracy: 0.8326 - val_attrition_output_loss: 0.4830 - val_department_output_accuracy: 0.6244 - val_department_output_loss: 0.8846 - val_loss: 1.3684\n",
      "Epoch 12/100\n",
      "\u001b[1m28/28\u001b[0m \u001b[32m━━━━━━━━━━━━━━━━━━━━\u001b[0m\u001b[37m\u001b[0m \u001b[1m0s\u001b[0m 4ms/step - attrition_output_accuracy: 0.8917 - attrition_output_loss: 0.2751 - department_output_accuracy: 0.6746 - department_output_loss: 0.6865 - loss: 0.9617 - val_attrition_output_accuracy: 0.8190 - val_attrition_output_loss: 0.5030 - val_department_output_accuracy: 0.6199 - val_department_output_loss: 0.9112 - val_loss: 1.4154\n",
      "Epoch 13/100\n",
      "\u001b[1m28/28\u001b[0m \u001b[32m━━━━━━━━━━━━━━━━━━━━\u001b[0m\u001b[37m\u001b[0m \u001b[1m0s\u001b[0m 4ms/step - attrition_output_accuracy: 0.8913 - attrition_output_loss: 0.2827 - department_output_accuracy: 0.7004 - department_output_loss: 0.6739 - loss: 0.9568 - val_attrition_output_accuracy: 0.8281 - val_attrition_output_loss: 0.5195 - val_department_output_accuracy: 0.6109 - val_department_output_loss: 0.9131 - val_loss: 1.4339\n",
      "Epoch 14/100\n",
      "\u001b[1m28/28\u001b[0m \u001b[32m━━━━━━━━━━━━━━━━━━━━\u001b[0m\u001b[37m\u001b[0m \u001b[1m0s\u001b[0m 4ms/step - attrition_output_accuracy: 0.8924 - attrition_output_loss: 0.2798 - department_output_accuracy: 0.7136 - department_output_loss: 0.6279 - loss: 0.9076 - val_attrition_output_accuracy: 0.8235 - val_attrition_output_loss: 0.5389 - val_department_output_accuracy: 0.5882 - val_department_output_loss: 0.9217 - val_loss: 1.4612\n",
      "Epoch 15/100\n",
      "\u001b[1m28/28\u001b[0m \u001b[32m━━━━━━━━━━━━━━━━━━━━\u001b[0m\u001b[37m\u001b[0m \u001b[1m0s\u001b[0m 4ms/step - attrition_output_accuracy: 0.9049 - attrition_output_loss: 0.2525 - department_output_accuracy: 0.7163 - department_output_loss: 0.6170 - loss: 0.8696 - val_attrition_output_accuracy: 0.8235 - val_attrition_output_loss: 0.5230 - val_department_output_accuracy: 0.5701 - val_department_output_loss: 0.9148 - val_loss: 1.4392\n",
      "Epoch 16/100\n",
      "\u001b[1m28/28\u001b[0m \u001b[32m━━━━━━━━━━━━━━━━━━━━\u001b[0m\u001b[37m\u001b[0m \u001b[1m0s\u001b[0m 4ms/step - attrition_output_accuracy: 0.8993 - attrition_output_loss: 0.2441 - department_output_accuracy: 0.7192 - department_output_loss: 0.6323 - loss: 0.8766 - val_attrition_output_accuracy: 0.8235 - val_attrition_output_loss: 0.5303 - val_department_output_accuracy: 0.5973 - val_department_output_loss: 0.9506 - val_loss: 1.4822\n",
      "Epoch 17/100\n",
      "\u001b[1m28/28\u001b[0m \u001b[32m━━━━━━━━━━━━━━━━━━━━\u001b[0m\u001b[37m\u001b[0m \u001b[1m0s\u001b[0m 4ms/step - attrition_output_accuracy: 0.9185 - attrition_output_loss: 0.2070 - department_output_accuracy: 0.7156 - department_output_loss: 0.6482 - loss: 0.8548 - val_attrition_output_accuracy: 0.8326 - val_attrition_output_loss: 0.5184 - val_department_output_accuracy: 0.5701 - val_department_output_loss: 0.9386 - val_loss: 1.4580\n",
      "Epoch 18/100\n",
      "\u001b[1m28/28\u001b[0m \u001b[32m━━━━━━━━━━━━━━━━━━━━\u001b[0m\u001b[37m\u001b[0m \u001b[1m0s\u001b[0m 4ms/step - attrition_output_accuracy: 0.9178 - attrition_output_loss: 0.2221 - department_output_accuracy: 0.7535 - department_output_loss: 0.5952 - loss: 0.8175 - val_attrition_output_accuracy: 0.8326 - val_attrition_output_loss: 0.5126 - val_department_output_accuracy: 0.5520 - val_department_output_loss: 0.9516 - val_loss: 1.4657\n",
      "Epoch 19/100\n",
      "\u001b[1m28/28\u001b[0m \u001b[32m━━━━━━━━━━━━━━━━━━━━\u001b[0m\u001b[37m\u001b[0m \u001b[1m0s\u001b[0m 5ms/step - attrition_output_accuracy: 0.9270 - attrition_output_loss: 0.1993 - department_output_accuracy: 0.7376 - department_output_loss: 0.6139 - loss: 0.8133 - val_attrition_output_accuracy: 0.8371 - val_attrition_output_loss: 0.5360 - val_department_output_accuracy: 0.6063 - val_department_output_loss: 0.9788 - val_loss: 1.5156\n",
      "Epoch 20/100\n",
      "\u001b[1m28/28\u001b[0m \u001b[32m━━━━━━━━━━━━━━━━━━━━\u001b[0m\u001b[37m\u001b[0m \u001b[1m0s\u001b[0m 4ms/step - attrition_output_accuracy: 0.9342 - attrition_output_loss: 0.2034 - department_output_accuracy: 0.7155 - department_output_loss: 0.6066 - loss: 0.8099 - val_attrition_output_accuracy: 0.8326 - val_attrition_output_loss: 0.5296 - val_department_output_accuracy: 0.5656 - val_department_output_loss: 0.9820 - val_loss: 1.5126\n",
      "Epoch 21/100\n",
      "\u001b[1m28/28\u001b[0m \u001b[32m━━━━━━━━━━━━━━━━━━━━\u001b[0m\u001b[37m\u001b[0m \u001b[1m0s\u001b[0m 4ms/step - attrition_output_accuracy: 0.9318 - attrition_output_loss: 0.1939 - department_output_accuracy: 0.7668 - department_output_loss: 0.5793 - loss: 0.7734 - val_attrition_output_accuracy: 0.8326 - val_attrition_output_loss: 0.5346 - val_department_output_accuracy: 0.6063 - val_department_output_loss: 1.0588 - val_loss: 1.5942\n",
      "Epoch 22/100\n",
      "\u001b[1m28/28\u001b[0m \u001b[32m━━━━━━━━━━━━━━━━━━━━\u001b[0m\u001b[37m\u001b[0m \u001b[1m0s\u001b[0m 4ms/step - attrition_output_accuracy: 0.9325 - attrition_output_loss: 0.1824 - department_output_accuracy: 0.7576 - department_output_loss: 0.5631 - loss: 0.7457 - val_attrition_output_accuracy: 0.8281 - val_attrition_output_loss: 0.5678 - val_department_output_accuracy: 0.5385 - val_department_output_loss: 0.9992 - val_loss: 1.5682\n",
      "Epoch 23/100\n",
      "\u001b[1m28/28\u001b[0m \u001b[32m━━━━━━━━━━━━━━━━━━━━\u001b[0m\u001b[37m\u001b[0m \u001b[1m0s\u001b[0m 5ms/step - attrition_output_accuracy: 0.9252 - attrition_output_loss: 0.1909 - department_output_accuracy: 0.7682 - department_output_loss: 0.5338 - loss: 0.7247 - val_attrition_output_accuracy: 0.8281 - val_attrition_output_loss: 0.5620 - val_department_output_accuracy: 0.5385 - val_department_output_loss: 1.0444 - val_loss: 1.6076\n",
      "Epoch 24/100\n",
      "\u001b[1m28/28\u001b[0m \u001b[32m━━━━━━━━━━━━━━━━━━━━\u001b[0m\u001b[37m\u001b[0m \u001b[1m0s\u001b[0m 4ms/step - attrition_output_accuracy: 0.9270 - attrition_output_loss: 0.1782 - department_output_accuracy: 0.7784 - department_output_loss: 0.5203 - loss: 0.6982 - val_attrition_output_accuracy: 0.8009 - val_attrition_output_loss: 0.5833 - val_department_output_accuracy: 0.5430 - val_department_output_loss: 1.0268 - val_loss: 1.6108\n",
      "Epoch 25/100\n",
      "\u001b[1m28/28\u001b[0m \u001b[32m━━━━━━━━━━━━━━━━━━━━\u001b[0m\u001b[37m\u001b[0m \u001b[1m0s\u001b[0m 4ms/step - attrition_output_accuracy: 0.9304 - attrition_output_loss: 0.1854 - department_output_accuracy: 0.7796 - department_output_loss: 0.5023 - loss: 0.6876 - val_attrition_output_accuracy: 0.8145 - val_attrition_output_loss: 0.5703 - val_department_output_accuracy: 0.5475 - val_department_output_loss: 1.0766 - val_loss: 1.6475\n",
      "Epoch 26/100\n",
      "\u001b[1m28/28\u001b[0m \u001b[32m━━━━━━━━━━━━━━━━━━━━\u001b[0m\u001b[37m\u001b[0m \u001b[1m0s\u001b[0m 4ms/step - attrition_output_accuracy: 0.9366 - attrition_output_loss: 0.1811 - department_output_accuracy: 0.8028 - department_output_loss: 0.4862 - loss: 0.6673 - val_attrition_output_accuracy: 0.8326 - val_attrition_output_loss: 0.5789 - val_department_output_accuracy: 0.5611 - val_department_output_loss: 1.1147 - val_loss: 1.6946\n",
      "Epoch 27/100\n",
      "\u001b[1m28/28\u001b[0m \u001b[32m━━━━━━━━━━━━━━━━━━━━\u001b[0m\u001b[37m\u001b[0m \u001b[1m0s\u001b[0m 4ms/step - attrition_output_accuracy: 0.9307 - attrition_output_loss: 0.1781 - department_output_accuracy: 0.7959 - department_output_loss: 0.4833 - loss: 0.6614 - val_attrition_output_accuracy: 0.8235 - val_attrition_output_loss: 0.5972 - val_department_output_accuracy: 0.5566 - val_department_output_loss: 1.0662 - val_loss: 1.6639\n",
      "Epoch 28/100\n",
      "\u001b[1m28/28\u001b[0m \u001b[32m━━━━━━━━━━━━━━━━━━━━\u001b[0m\u001b[37m\u001b[0m \u001b[1m0s\u001b[0m 4ms/step - attrition_output_accuracy: 0.9386 - attrition_output_loss: 0.1558 - department_output_accuracy: 0.8476 - department_output_loss: 0.4562 - loss: 0.6117 - val_attrition_output_accuracy: 0.8281 - val_attrition_output_loss: 0.7038 - val_department_output_accuracy: 0.5520 - val_department_output_loss: 1.1415 - val_loss: 1.8461\n",
      "Epoch 29/100\n",
      "\u001b[1m28/28\u001b[0m \u001b[32m━━━━━━━━━━━━━━━━━━━━\u001b[0m\u001b[37m\u001b[0m \u001b[1m0s\u001b[0m 6ms/step - attrition_output_accuracy: 0.9307 - attrition_output_loss: 0.1734 - department_output_accuracy: 0.8207 - department_output_loss: 0.4551 - loss: 0.6288 - val_attrition_output_accuracy: 0.8145 - val_attrition_output_loss: 0.6305 - val_department_output_accuracy: 0.5475 - val_department_output_loss: 1.1972 - val_loss: 1.8283\n",
      "Epoch 30/100\n",
      "\u001b[1m28/28\u001b[0m \u001b[32m━━━━━━━━━━━━━━━━━━━━\u001b[0m\u001b[37m\u001b[0m \u001b[1m0s\u001b[0m 8ms/step - attrition_output_accuracy: 0.9416 - attrition_output_loss: 0.1481 - department_output_accuracy: 0.8319 - department_output_loss: 0.4247 - loss: 0.5727 - val_attrition_output_accuracy: 0.8190 - val_attrition_output_loss: 0.6483 - val_department_output_accuracy: 0.5339 - val_department_output_loss: 1.2368 - val_loss: 1.8858\n",
      "Epoch 31/100\n",
      "\u001b[1m28/28\u001b[0m \u001b[32m━━━━━━━━━━━━━━━━━━━━\u001b[0m\u001b[37m\u001b[0m \u001b[1m0s\u001b[0m 7ms/step - attrition_output_accuracy: 0.9377 - attrition_output_loss: 0.1535 - department_output_accuracy: 0.8269 - department_output_loss: 0.4413 - loss: 0.5950 - val_attrition_output_accuracy: 0.8190 - val_attrition_output_loss: 0.6584 - val_department_output_accuracy: 0.5520 - val_department_output_loss: 1.2570 - val_loss: 1.9171\n",
      "Epoch 32/100\n",
      "\u001b[1m28/28\u001b[0m \u001b[32m━━━━━━━━━━━━━━━━━━━━\u001b[0m\u001b[37m\u001b[0m \u001b[1m0s\u001b[0m 8ms/step - attrition_output_accuracy: 0.9551 - attrition_output_loss: 0.1174 - department_output_accuracy: 0.8648 - department_output_loss: 0.3838 - loss: 0.5015 - val_attrition_output_accuracy: 0.7919 - val_attrition_output_loss: 0.6494 - val_department_output_accuracy: 0.5520 - val_department_output_loss: 1.2392 - val_loss: 1.8894\n",
      "Epoch 33/100\n",
      "\u001b[1m28/28\u001b[0m \u001b[32m━━━━━━━━━━━━━━━━━━━━\u001b[0m\u001b[37m\u001b[0m \u001b[1m0s\u001b[0m 6ms/step - attrition_output_accuracy: 0.9559 - attrition_output_loss: 0.1331 - department_output_accuracy: 0.8754 - department_output_loss: 0.3706 - loss: 0.5037 - val_attrition_output_accuracy: 0.7964 - val_attrition_output_loss: 0.6722 - val_department_output_accuracy: 0.5204 - val_department_output_loss: 1.2401 - val_loss: 1.9117\n",
      "Epoch 34/100\n",
      "\u001b[1m28/28\u001b[0m \u001b[32m━━━━━━━━━━━━━━━━━━━━\u001b[0m\u001b[37m\u001b[0m \u001b[1m0s\u001b[0m 4ms/step - attrition_output_accuracy: 0.9428 - attrition_output_loss: 0.1327 - department_output_accuracy: 0.8934 - department_output_loss: 0.3413 - loss: 0.4739 - val_attrition_output_accuracy: 0.8100 - val_attrition_output_loss: 0.7315 - val_department_output_accuracy: 0.5430 - val_department_output_loss: 1.3052 - val_loss: 2.0376\n",
      "Epoch 35/100\n",
      "\u001b[1m28/28\u001b[0m \u001b[32m━━━━━━━━━━━━━━━━━━━━\u001b[0m\u001b[37m\u001b[0m \u001b[1m0s\u001b[0m 3ms/step - attrition_output_accuracy: 0.9612 - attrition_output_loss: 0.1188 - department_output_accuracy: 0.8789 - department_output_loss: 0.3544 - loss: 0.4732 - val_attrition_output_accuracy: 0.8009 - val_attrition_output_loss: 0.7084 - val_department_output_accuracy: 0.5475 - val_department_output_loss: 1.3044 - val_loss: 2.0134\n",
      "Epoch 36/100\n",
      "\u001b[1m28/28\u001b[0m \u001b[32m━━━━━━━━━━━━━━━━━━━━\u001b[0m\u001b[37m\u001b[0m \u001b[1m0s\u001b[0m 4ms/step - attrition_output_accuracy: 0.9712 - attrition_output_loss: 0.1039 - department_output_accuracy: 0.8880 - department_output_loss: 0.3243 - loss: 0.4282 - val_attrition_output_accuracy: 0.8054 - val_attrition_output_loss: 0.7445 - val_department_output_accuracy: 0.5385 - val_department_output_loss: 1.3423 - val_loss: 2.0865\n",
      "Epoch 37/100\n",
      "\u001b[1m28/28\u001b[0m \u001b[32m━━━━━━━━━━━━━━━━━━━━\u001b[0m\u001b[37m\u001b[0m \u001b[1m0s\u001b[0m 4ms/step - attrition_output_accuracy: 0.9737 - attrition_output_loss: 0.0917 - department_output_accuracy: 0.8676 - department_output_loss: 0.3611 - loss: 0.4528 - val_attrition_output_accuracy: 0.8100 - val_attrition_output_loss: 0.7961 - val_department_output_accuracy: 0.5204 - val_department_output_loss: 1.3768 - val_loss: 2.1737\n",
      "Epoch 38/100\n",
      "\u001b[1m28/28\u001b[0m \u001b[32m━━━━━━━━━━━━━━━━━━━━\u001b[0m\u001b[37m\u001b[0m \u001b[1m0s\u001b[0m 4ms/step - attrition_output_accuracy: 0.9639 - attrition_output_loss: 0.1022 - department_output_accuracy: 0.9163 - department_output_loss: 0.2898 - loss: 0.3920 - val_attrition_output_accuracy: 0.8054 - val_attrition_output_loss: 0.7830 - val_department_output_accuracy: 0.5385 - val_department_output_loss: 1.4244 - val_loss: 2.2087\n",
      "Epoch 39/100\n",
      "\u001b[1m28/28\u001b[0m \u001b[32m━━━━━━━━━━━━━━━━━━━━\u001b[0m\u001b[37m\u001b[0m \u001b[1m0s\u001b[0m 5ms/step - attrition_output_accuracy: 0.9576 - attrition_output_loss: 0.1061 - department_output_accuracy: 0.9185 - department_output_loss: 0.2838 - loss: 0.3898 - val_attrition_output_accuracy: 0.8145 - val_attrition_output_loss: 0.8271 - val_department_output_accuracy: 0.5385 - val_department_output_loss: 1.4641 - val_loss: 2.2923\n",
      "Epoch 40/100\n",
      "\u001b[1m28/28\u001b[0m \u001b[32m━━━━━━━━━━━━━━━━━━━━\u001b[0m\u001b[37m\u001b[0m \u001b[1m0s\u001b[0m 4ms/step - attrition_output_accuracy: 0.9799 - attrition_output_loss: 0.0828 - department_output_accuracy: 0.8990 - department_output_loss: 0.2879 - loss: 0.3706 - val_attrition_output_accuracy: 0.7919 - val_attrition_output_loss: 0.8143 - val_department_output_accuracy: 0.5475 - val_department_output_loss: 1.5177 - val_loss: 2.3333\n",
      "Epoch 41/100\n",
      "\u001b[1m28/28\u001b[0m \u001b[32m━━━━━━━━━━━━━━━━━━━━\u001b[0m\u001b[37m\u001b[0m \u001b[1m0s\u001b[0m 4ms/step - attrition_output_accuracy: 0.9781 - attrition_output_loss: 0.0804 - department_output_accuracy: 0.9167 - department_output_loss: 0.2868 - loss: 0.3670 - val_attrition_output_accuracy: 0.7783 - val_attrition_output_loss: 0.8181 - val_department_output_accuracy: 0.5566 - val_department_output_loss: 1.5732 - val_loss: 2.3921\n",
      "Epoch 42/100\n",
      "\u001b[1m28/28\u001b[0m \u001b[32m━━━━━━━━━━━━━━━━━━━━\u001b[0m\u001b[37m\u001b[0m \u001b[1m0s\u001b[0m 4ms/step - attrition_output_accuracy: 0.9701 - attrition_output_loss: 0.0833 - department_output_accuracy: 0.9252 - department_output_loss: 0.2577 - loss: 0.3410 - val_attrition_output_accuracy: 0.7873 - val_attrition_output_loss: 0.8472 - val_department_output_accuracy: 0.5430 - val_department_output_loss: 1.5672 - val_loss: 2.4156\n",
      "Epoch 43/100\n",
      "\u001b[1m28/28\u001b[0m \u001b[32m━━━━━━━━━━━━━━━━━━━━\u001b[0m\u001b[37m\u001b[0m \u001b[1m0s\u001b[0m 4ms/step - attrition_output_accuracy: 0.9874 - attrition_output_loss: 0.0650 - department_output_accuracy: 0.9202 - department_output_loss: 0.2485 - loss: 0.3137 - val_attrition_output_accuracy: 0.7964 - val_attrition_output_loss: 0.8796 - val_department_output_accuracy: 0.5385 - val_department_output_loss: 1.6093 - val_loss: 2.4914\n",
      "Epoch 44/100\n",
      "\u001b[1m28/28\u001b[0m \u001b[32m━━━━━━━━━━━━━━━━━━━━\u001b[0m\u001b[37m\u001b[0m \u001b[1m0s\u001b[0m 4ms/step - attrition_output_accuracy: 0.9846 - attrition_output_loss: 0.0636 - department_output_accuracy: 0.9456 - department_output_loss: 0.2219 - loss: 0.2854 - val_attrition_output_accuracy: 0.7828 - val_attrition_output_loss: 0.8936 - val_department_output_accuracy: 0.5113 - val_department_output_loss: 1.5958 - val_loss: 2.4890\n",
      "Epoch 45/100\n",
      "\u001b[1m28/28\u001b[0m \u001b[32m━━━━━━━━━━━━━━━━━━━━\u001b[0m\u001b[37m\u001b[0m \u001b[1m0s\u001b[0m 4ms/step - attrition_output_accuracy: 0.9790 - attrition_output_loss: 0.0714 - department_output_accuracy: 0.9356 - department_output_loss: 0.2273 - loss: 0.2986 - val_attrition_output_accuracy: 0.8100 - val_attrition_output_loss: 0.9675 - val_department_output_accuracy: 0.5385 - val_department_output_loss: 1.6505 - val_loss: 2.6199\n",
      "Epoch 46/100\n",
      "\u001b[1m28/28\u001b[0m \u001b[32m━━━━━━━━━━━━━━━━━━━━\u001b[0m\u001b[37m\u001b[0m \u001b[1m0s\u001b[0m 4ms/step - attrition_output_accuracy: 0.9874 - attrition_output_loss: 0.0621 - department_output_accuracy: 0.9439 - department_output_loss: 0.2179 - loss: 0.2798 - val_attrition_output_accuracy: 0.7964 - val_attrition_output_loss: 0.9758 - val_department_output_accuracy: 0.5113 - val_department_output_loss: 1.7174 - val_loss: 2.6958\n",
      "Epoch 47/100\n",
      "\u001b[1m28/28\u001b[0m \u001b[32m━━━━━━━━━━━━━━━━━━━━\u001b[0m\u001b[37m\u001b[0m \u001b[1m0s\u001b[0m 4ms/step - attrition_output_accuracy: 0.9783 - attrition_output_loss: 0.0656 - department_output_accuracy: 0.9401 - department_output_loss: 0.2165 - loss: 0.2821 - val_attrition_output_accuracy: 0.7919 - val_attrition_output_loss: 1.0018 - val_department_output_accuracy: 0.5611 - val_department_output_loss: 1.7673 - val_loss: 2.7709\n",
      "Epoch 48/100\n",
      "\u001b[1m28/28\u001b[0m \u001b[32m━━━━━━━━━━━━━━━━━━━━\u001b[0m\u001b[37m\u001b[0m \u001b[1m0s\u001b[0m 4ms/step - attrition_output_accuracy: 0.9821 - attrition_output_loss: 0.0530 - department_output_accuracy: 0.9520 - department_output_loss: 0.1866 - loss: 0.2394 - val_attrition_output_accuracy: 0.7919 - val_attrition_output_loss: 1.0563 - val_department_output_accuracy: 0.5249 - val_department_output_loss: 1.8078 - val_loss: 2.8668\n",
      "Epoch 49/100\n",
      "\u001b[1m28/28\u001b[0m \u001b[32m━━━━━━━━━━━━━━━━━━━━\u001b[0m\u001b[37m\u001b[0m \u001b[1m0s\u001b[0m 4ms/step - attrition_output_accuracy: 0.9871 - attrition_output_loss: 0.0535 - department_output_accuracy: 0.9604 - department_output_loss: 0.1868 - loss: 0.2403 - val_attrition_output_accuracy: 0.7919 - val_attrition_output_loss: 1.0162 - val_department_output_accuracy: 0.5068 - val_department_output_loss: 1.7396 - val_loss: 2.7571\n",
      "Epoch 50/100\n",
      "\u001b[1m28/28\u001b[0m \u001b[32m━━━━━━━━━━━━━━━━━━━━\u001b[0m\u001b[37m\u001b[0m \u001b[1m0s\u001b[0m 4ms/step - attrition_output_accuracy: 0.9874 - attrition_output_loss: 0.0489 - department_output_accuracy: 0.9677 - department_output_loss: 0.1629 - loss: 0.2118 - val_attrition_output_accuracy: 0.7964 - val_attrition_output_loss: 1.0993 - val_department_output_accuracy: 0.5747 - val_department_output_loss: 1.8833 - val_loss: 2.9848\n",
      "Epoch 51/100\n",
      "\u001b[1m28/28\u001b[0m \u001b[32m━━━━━━━━━━━━━━━━━━━━\u001b[0m\u001b[37m\u001b[0m \u001b[1m0s\u001b[0m 4ms/step - attrition_output_accuracy: 0.9818 - attrition_output_loss: 0.0523 - department_output_accuracy: 0.9535 - department_output_loss: 0.1754 - loss: 0.2277 - val_attrition_output_accuracy: 0.7783 - val_attrition_output_loss: 1.0386 - val_department_output_accuracy: 0.5339 - val_department_output_loss: 1.8448 - val_loss: 2.8838\n",
      "Epoch 52/100\n",
      "\u001b[1m28/28\u001b[0m \u001b[32m━━━━━━━━━━━━━━━━━━━━\u001b[0m\u001b[37m\u001b[0m \u001b[1m0s\u001b[0m 4ms/step - attrition_output_accuracy: 0.9921 - attrition_output_loss: 0.0488 - department_output_accuracy: 0.9667 - department_output_loss: 0.1547 - loss: 0.2035 - val_attrition_output_accuracy: 0.7783 - val_attrition_output_loss: 1.1444 - val_department_output_accuracy: 0.5520 - val_department_output_loss: 1.9240 - val_loss: 3.0708\n",
      "Epoch 53/100\n",
      "\u001b[1m28/28\u001b[0m \u001b[32m━━━━━━━━━━━━━━━━━━━━\u001b[0m\u001b[37m\u001b[0m \u001b[1m0s\u001b[0m 4ms/step - attrition_output_accuracy: 0.9962 - attrition_output_loss: 0.0431 - department_output_accuracy: 0.9467 - department_output_loss: 0.1617 - loss: 0.2049 - val_attrition_output_accuracy: 0.7919 - val_attrition_output_loss: 1.1846 - val_department_output_accuracy: 0.5158 - val_department_output_loss: 1.9040 - val_loss: 3.0905\n",
      "Epoch 54/100\n",
      "\u001b[1m28/28\u001b[0m \u001b[32m━━━━━━━━━━━━━━━━━━━━\u001b[0m\u001b[37m\u001b[0m \u001b[1m0s\u001b[0m 4ms/step - attrition_output_accuracy: 0.9919 - attrition_output_loss: 0.0329 - department_output_accuracy: 0.9695 - department_output_loss: 0.1393 - loss: 0.1720 - val_attrition_output_accuracy: 0.7783 - val_attrition_output_loss: 1.1653 - val_department_output_accuracy: 0.5204 - val_department_output_loss: 1.9316 - val_loss: 3.1007\n",
      "Epoch 55/100\n",
      "\u001b[1m28/28\u001b[0m \u001b[32m━━━━━━━━━━━━━━━━━━━━\u001b[0m\u001b[37m\u001b[0m \u001b[1m0s\u001b[0m 4ms/step - attrition_output_accuracy: 0.9946 - attrition_output_loss: 0.0363 - department_output_accuracy: 0.9713 - department_output_loss: 0.1370 - loss: 0.1732 - val_attrition_output_accuracy: 0.8054 - val_attrition_output_loss: 1.2051 - val_department_output_accuracy: 0.5520 - val_department_output_loss: 1.9265 - val_loss: 3.1318\n",
      "Epoch 56/100\n",
      "\u001b[1m28/28\u001b[0m \u001b[32m━━━━━━━━━━━━━━━━━━━━\u001b[0m\u001b[37m\u001b[0m \u001b[1m0s\u001b[0m 5ms/step - attrition_output_accuracy: 0.9935 - attrition_output_loss: 0.0357 - department_output_accuracy: 0.9767 - department_output_loss: 0.1200 - loss: 0.1557 - val_attrition_output_accuracy: 0.7783 - val_attrition_output_loss: 1.2032 - val_department_output_accuracy: 0.5294 - val_department_output_loss: 2.0031 - val_loss: 3.2071\n",
      "Epoch 57/100\n",
      "\u001b[1m28/28\u001b[0m \u001b[32m━━━━━━━━━━━━━━━━━━━━\u001b[0m\u001b[37m\u001b[0m \u001b[1m0s\u001b[0m 4ms/step - attrition_output_accuracy: 0.9934 - attrition_output_loss: 0.0365 - department_output_accuracy: 0.9757 - department_output_loss: 0.1186 - loss: 0.1552 - val_attrition_output_accuracy: 0.7738 - val_attrition_output_loss: 1.2259 - val_department_output_accuracy: 0.5294 - val_department_output_loss: 2.1540 - val_loss: 3.3830\n",
      "Epoch 58/100\n",
      "\u001b[1m28/28\u001b[0m \u001b[32m━━━━━━━━━━━━━━━━━━━━\u001b[0m\u001b[37m\u001b[0m \u001b[1m0s\u001b[0m 4ms/step - attrition_output_accuracy: 0.9941 - attrition_output_loss: 0.0317 - department_output_accuracy: 0.9796 - department_output_loss: 0.1093 - loss: 0.1409 - val_attrition_output_accuracy: 0.7828 - val_attrition_output_loss: 1.2618 - val_department_output_accuracy: 0.5068 - val_department_output_loss: 2.0803 - val_loss: 3.3443\n",
      "Epoch 59/100\n",
      "\u001b[1m28/28\u001b[0m \u001b[32m━━━━━━━━━━━━━━━━━━━━\u001b[0m\u001b[37m\u001b[0m \u001b[1m0s\u001b[0m 4ms/step - attrition_output_accuracy: 0.9963 - attrition_output_loss: 0.0297 - department_output_accuracy: 0.9825 - department_output_loss: 0.1026 - loss: 0.1324 - val_attrition_output_accuracy: 0.8009 - val_attrition_output_loss: 1.3220 - val_department_output_accuracy: 0.5204 - val_department_output_loss: 2.1637 - val_loss: 3.4877\n",
      "Epoch 60/100\n",
      "\u001b[1m28/28\u001b[0m \u001b[32m━━━━━━━━━━━━━━━━━━━━\u001b[0m\u001b[37m\u001b[0m \u001b[1m0s\u001b[0m 4ms/step - attrition_output_accuracy: 0.9937 - attrition_output_loss: 0.0323 - department_output_accuracy: 0.9822 - department_output_loss: 0.0966 - loss: 0.1290 - val_attrition_output_accuracy: 0.7873 - val_attrition_output_loss: 1.3131 - val_department_output_accuracy: 0.5158 - val_department_output_loss: 2.1584 - val_loss: 3.4739\n",
      "Epoch 61/100\n",
      "\u001b[1m28/28\u001b[0m \u001b[32m━━━━━━━━━━━━━━━━━━━━\u001b[0m\u001b[37m\u001b[0m \u001b[1m0s\u001b[0m 4ms/step - attrition_output_accuracy: 0.9926 - attrition_output_loss: 0.0281 - department_output_accuracy: 0.9831 - department_output_loss: 0.0984 - loss: 0.1266 - val_attrition_output_accuracy: 0.7783 - val_attrition_output_loss: 1.3230 - val_department_output_accuracy: 0.5249 - val_department_output_loss: 2.2633 - val_loss: 3.5877\n",
      "Epoch 62/100\n",
      "\u001b[1m28/28\u001b[0m \u001b[32m━━━━━━━━━━━━━━━━━━━━\u001b[0m\u001b[37m\u001b[0m \u001b[1m0s\u001b[0m 4ms/step - attrition_output_accuracy: 0.9933 - attrition_output_loss: 0.0257 - department_output_accuracy: 0.9889 - department_output_loss: 0.0829 - loss: 0.1086 - val_attrition_output_accuracy: 0.7738 - val_attrition_output_loss: 1.3336 - val_department_output_accuracy: 0.5204 - val_department_output_loss: 2.2153 - val_loss: 3.5503\n",
      "Epoch 63/100\n",
      "\u001b[1m28/28\u001b[0m \u001b[32m━━━━━━━━━━━━━━━━━━━━\u001b[0m\u001b[37m\u001b[0m \u001b[1m0s\u001b[0m 4ms/step - attrition_output_accuracy: 0.9951 - attrition_output_loss: 0.0293 - department_output_accuracy: 0.9906 - department_output_loss: 0.0786 - loss: 0.1080 - val_attrition_output_accuracy: 0.7873 - val_attrition_output_loss: 1.3738 - val_department_output_accuracy: 0.5204 - val_department_output_loss: 2.3025 - val_loss: 3.6793\n",
      "Epoch 64/100\n",
      "\u001b[1m28/28\u001b[0m \u001b[32m━━━━━━━━━━━━━━━━━━━━\u001b[0m\u001b[37m\u001b[0m \u001b[1m0s\u001b[0m 4ms/step - attrition_output_accuracy: 0.9971 - attrition_output_loss: 0.0189 - department_output_accuracy: 0.9805 - department_output_loss: 0.0798 - loss: 0.0986 - val_attrition_output_accuracy: 0.7783 - val_attrition_output_loss: 1.3648 - val_department_output_accuracy: 0.4796 - val_department_output_loss: 2.3975 - val_loss: 3.7639\n",
      "Epoch 65/100\n",
      "\u001b[1m28/28\u001b[0m \u001b[32m━━━━━━━━━━━━━━━━━━━━\u001b[0m\u001b[37m\u001b[0m \u001b[1m0s\u001b[0m 5ms/step - attrition_output_accuracy: 0.9995 - attrition_output_loss: 0.0161 - department_output_accuracy: 0.9849 - department_output_loss: 0.0913 - loss: 0.1074 - val_attrition_output_accuracy: 0.7692 - val_attrition_output_loss: 1.4104 - val_department_output_accuracy: 0.5385 - val_department_output_loss: 2.5292 - val_loss: 3.9435\n",
      "Epoch 66/100\n",
      "\u001b[1m28/28\u001b[0m \u001b[32m━━━━━━━━━━━━━━━━━━━━\u001b[0m\u001b[37m\u001b[0m \u001b[1m0s\u001b[0m 4ms/step - attrition_output_accuracy: 0.9984 - attrition_output_loss: 0.0174 - department_output_accuracy: 0.9858 - department_output_loss: 0.0847 - loss: 0.1021 - val_attrition_output_accuracy: 0.7919 - val_attrition_output_loss: 1.3942 - val_department_output_accuracy: 0.4751 - val_department_output_loss: 2.5157 - val_loss: 3.9133\n",
      "Epoch 67/100\n",
      "\u001b[1m28/28\u001b[0m \u001b[32m━━━━━━━━━━━━━━━━━━━━\u001b[0m\u001b[37m\u001b[0m \u001b[1m0s\u001b[0m 4ms/step - attrition_output_accuracy: 0.9987 - attrition_output_loss: 0.0189 - department_output_accuracy: 0.9869 - department_output_loss: 0.0752 - loss: 0.0940 - val_attrition_output_accuracy: 0.7828 - val_attrition_output_loss: 1.4646 - val_department_output_accuracy: 0.5158 - val_department_output_loss: 2.4608 - val_loss: 3.9277\n",
      "Epoch 68/100\n",
      "\u001b[1m28/28\u001b[0m \u001b[32m━━━━━━━━━━━━━━━━━━━━\u001b[0m\u001b[37m\u001b[0m \u001b[1m0s\u001b[0m 4ms/step - attrition_output_accuracy: 0.9981 - attrition_output_loss: 0.0177 - department_output_accuracy: 0.9905 - department_output_loss: 0.0660 - loss: 0.0837 - val_attrition_output_accuracy: 0.8054 - val_attrition_output_loss: 1.5025 - val_department_output_accuracy: 0.5158 - val_department_output_loss: 2.4197 - val_loss: 3.9232\n",
      "Epoch 69/100\n",
      "\u001b[1m28/28\u001b[0m \u001b[32m━━━━━━━━━━━━━━━━━━━━\u001b[0m\u001b[37m\u001b[0m \u001b[1m0s\u001b[0m 4ms/step - attrition_output_accuracy: 0.9994 - attrition_output_loss: 0.0157 - department_output_accuracy: 0.9901 - department_output_loss: 0.0605 - loss: 0.0762 - val_attrition_output_accuracy: 0.7964 - val_attrition_output_loss: 1.5739 - val_department_output_accuracy: 0.5385 - val_department_output_loss: 2.5211 - val_loss: 4.0971\n",
      "Epoch 70/100\n",
      "\u001b[1m28/28\u001b[0m \u001b[32m━━━━━━━━━━━━━━━━━━━━\u001b[0m\u001b[37m\u001b[0m \u001b[1m0s\u001b[0m 4ms/step - attrition_output_accuracy: 0.9987 - attrition_output_loss: 0.0172 - department_output_accuracy: 0.9926 - department_output_loss: 0.0532 - loss: 0.0703 - val_attrition_output_accuracy: 0.7647 - val_attrition_output_loss: 1.4778 - val_department_output_accuracy: 0.5023 - val_department_output_loss: 2.5258 - val_loss: 4.0052\n",
      "Epoch 71/100\n",
      "\u001b[1m28/28\u001b[0m \u001b[32m━━━━━━━━━━━━━━━━━━━━\u001b[0m\u001b[37m\u001b[0m \u001b[1m0s\u001b[0m 4ms/step - attrition_output_accuracy: 0.9988 - attrition_output_loss: 0.0152 - department_output_accuracy: 0.9915 - department_output_loss: 0.0617 - loss: 0.0770 - val_attrition_output_accuracy: 0.7873 - val_attrition_output_loss: 1.5611 - val_department_output_accuracy: 0.5158 - val_department_output_loss: 2.5657 - val_loss: 4.1295\n",
      "Epoch 72/100\n",
      "\u001b[1m28/28\u001b[0m \u001b[32m━━━━━━━━━━━━━━━━━━━━\u001b[0m\u001b[37m\u001b[0m \u001b[1m0s\u001b[0m 4ms/step - attrition_output_accuracy: 0.9984 - attrition_output_loss: 0.0131 - department_output_accuracy: 0.9966 - department_output_loss: 0.0584 - loss: 0.0716 - val_attrition_output_accuracy: 0.7783 - val_attrition_output_loss: 1.5819 - val_department_output_accuracy: 0.5113 - val_department_output_loss: 2.5681 - val_loss: 4.1518\n",
      "Epoch 73/100\n",
      "\u001b[1m28/28\u001b[0m \u001b[32m━━━━━━━━━━━━━━━━━━━━\u001b[0m\u001b[37m\u001b[0m \u001b[1m0s\u001b[0m 4ms/step - attrition_output_accuracy: 0.9995 - attrition_output_loss: 0.0130 - department_output_accuracy: 0.9978 - department_output_loss: 0.0452 - loss: 0.0582 - val_attrition_output_accuracy: 0.7647 - val_attrition_output_loss: 1.5676 - val_department_output_accuracy: 0.4977 - val_department_output_loss: 2.7041 - val_loss: 4.2757\n",
      "Epoch 74/100\n",
      "\u001b[1m28/28\u001b[0m \u001b[32m━━━━━━━━━━━━━━━━━━━━\u001b[0m\u001b[37m\u001b[0m \u001b[1m0s\u001b[0m 4ms/step - attrition_output_accuracy: 0.9983 - attrition_output_loss: 0.0117 - department_output_accuracy: 0.9857 - department_output_loss: 0.0581 - loss: 0.0699 - val_attrition_output_accuracy: 0.7783 - val_attrition_output_loss: 1.6318 - val_department_output_accuracy: 0.5204 - val_department_output_loss: 2.7518 - val_loss: 4.3889\n",
      "Epoch 75/100\n",
      "\u001b[1m28/28\u001b[0m \u001b[32m━━━━━━━━━━━━━━━━━━━━\u001b[0m\u001b[37m\u001b[0m \u001b[1m0s\u001b[0m 4ms/step - attrition_output_accuracy: 0.9957 - attrition_output_loss: 0.0145 - department_output_accuracy: 0.9907 - department_output_loss: 0.0504 - loss: 0.0649 - val_attrition_output_accuracy: 0.7738 - val_attrition_output_loss: 1.6307 - val_department_output_accuracy: 0.5339 - val_department_output_loss: 2.8854 - val_loss: 4.5212\n",
      "Epoch 76/100\n",
      "\u001b[1m28/28\u001b[0m \u001b[32m━━━━━━━━━━━━━━━━━━━━\u001b[0m\u001b[37m\u001b[0m \u001b[1m0s\u001b[0m 4ms/step - attrition_output_accuracy: 1.0000 - attrition_output_loss: 0.0100 - department_output_accuracy: 0.9948 - department_output_loss: 0.0442 - loss: 0.0543 - val_attrition_output_accuracy: 0.7783 - val_attrition_output_loss: 1.6379 - val_department_output_accuracy: 0.5204 - val_department_output_loss: 2.7590 - val_loss: 4.3995\n",
      "Epoch 77/100\n",
      "\u001b[1m28/28\u001b[0m \u001b[32m━━━━━━━━━━━━━━━━━━━━\u001b[0m\u001b[37m\u001b[0m \u001b[1m0s\u001b[0m 4ms/step - attrition_output_accuracy: 1.0000 - attrition_output_loss: 0.0102 - department_output_accuracy: 0.9980 - department_output_loss: 0.0406 - loss: 0.0508 - val_attrition_output_accuracy: 0.7783 - val_attrition_output_loss: 1.6726 - val_department_output_accuracy: 0.5023 - val_department_output_loss: 2.8074 - val_loss: 4.4836\n",
      "Epoch 78/100\n",
      "\u001b[1m28/28\u001b[0m \u001b[32m━━━━━━━━━━━━━━━━━━━━\u001b[0m\u001b[37m\u001b[0m \u001b[1m0s\u001b[0m 4ms/step - attrition_output_accuracy: 0.9996 - attrition_output_loss: 0.0086 - department_output_accuracy: 0.9979 - department_output_loss: 0.0325 - loss: 0.0412 - val_attrition_output_accuracy: 0.7647 - val_attrition_output_loss: 1.6520 - val_department_output_accuracy: 0.5430 - val_department_output_loss: 2.9174 - val_loss: 4.5741\n",
      "Epoch 79/100\n",
      "\u001b[1m28/28\u001b[0m \u001b[32m━━━━━━━━━━━━━━━━━━━━\u001b[0m\u001b[37m\u001b[0m \u001b[1m0s\u001b[0m 4ms/step - attrition_output_accuracy: 0.9997 - attrition_output_loss: 0.0117 - department_output_accuracy: 0.9984 - department_output_loss: 0.0349 - loss: 0.0466 - val_attrition_output_accuracy: 0.7738 - val_attrition_output_loss: 1.6844 - val_department_output_accuracy: 0.5158 - val_department_output_loss: 2.8466 - val_loss: 4.5333\n",
      "Epoch 80/100\n",
      "\u001b[1m28/28\u001b[0m \u001b[32m━━━━━━━━━━━━━━━━━━━━\u001b[0m\u001b[37m\u001b[0m \u001b[1m0s\u001b[0m 5ms/step - attrition_output_accuracy: 1.0000 - attrition_output_loss: 0.0089 - department_output_accuracy: 0.9963 - department_output_loss: 0.0315 - loss: 0.0405 - val_attrition_output_accuracy: 0.7783 - val_attrition_output_loss: 1.6706 - val_department_output_accuracy: 0.5249 - val_department_output_loss: 2.8565 - val_loss: 4.5300\n",
      "Epoch 81/100\n",
      "\u001b[1m28/28\u001b[0m \u001b[32m━━━━━━━━━━━━━━━━━━━━\u001b[0m\u001b[37m\u001b[0m \u001b[1m0s\u001b[0m 4ms/step - attrition_output_accuracy: 0.9985 - attrition_output_loss: 0.0090 - department_output_accuracy: 0.9991 - department_output_loss: 0.0305 - loss: 0.0395 - val_attrition_output_accuracy: 0.7692 - val_attrition_output_loss: 1.7377 - val_department_output_accuracy: 0.5158 - val_department_output_loss: 3.0565 - val_loss: 4.7983\n",
      "Epoch 82/100\n",
      "\u001b[1m28/28\u001b[0m \u001b[32m━━━━━━━━━━━━━━━━━━━━\u001b[0m\u001b[37m\u001b[0m \u001b[1m0s\u001b[0m 4ms/step - attrition_output_accuracy: 1.0000 - attrition_output_loss: 0.0079 - department_output_accuracy: 0.9972 - department_output_loss: 0.0312 - loss: 0.0391 - val_attrition_output_accuracy: 0.7783 - val_attrition_output_loss: 1.7451 - val_department_output_accuracy: 0.5249 - val_department_output_loss: 2.9687 - val_loss: 4.7165\n",
      "Epoch 83/100\n",
      "\u001b[1m28/28\u001b[0m \u001b[32m━━━━━━━━━━━━━━━━━━━━\u001b[0m\u001b[37m\u001b[0m \u001b[1m0s\u001b[0m 4ms/step - attrition_output_accuracy: 1.0000 - attrition_output_loss: 0.0071 - department_output_accuracy: 0.9991 - department_output_loss: 0.0298 - loss: 0.0369 - val_attrition_output_accuracy: 0.7828 - val_attrition_output_loss: 1.7990 - val_department_output_accuracy: 0.5113 - val_department_output_loss: 3.0230 - val_loss: 4.8239\n",
      "Epoch 84/100\n",
      "\u001b[1m28/28\u001b[0m \u001b[32m━━━━━━━━━━━━━━━━━━━━\u001b[0m\u001b[37m\u001b[0m \u001b[1m0s\u001b[0m 4ms/step - attrition_output_accuracy: 1.0000 - attrition_output_loss: 0.0102 - department_output_accuracy: 0.9964 - department_output_loss: 0.0328 - loss: 0.0430 - val_attrition_output_accuracy: 0.7738 - val_attrition_output_loss: 1.7363 - val_department_output_accuracy: 0.5204 - val_department_output_loss: 3.1394 - val_loss: 4.8800\n",
      "Epoch 85/100\n",
      "\u001b[1m28/28\u001b[0m \u001b[32m━━━━━━━━━━━━━━━━━━━━\u001b[0m\u001b[37m\u001b[0m \u001b[1m0s\u001b[0m 4ms/step - attrition_output_accuracy: 1.0000 - attrition_output_loss: 0.0064 - department_output_accuracy: 0.9974 - department_output_loss: 0.0295 - loss: 0.0360 - val_attrition_output_accuracy: 0.7738 - val_attrition_output_loss: 1.7877 - val_department_output_accuracy: 0.4977 - val_department_output_loss: 3.0998 - val_loss: 4.8903\n",
      "Epoch 86/100\n",
      "\u001b[1m28/28\u001b[0m \u001b[32m━━━━━━━━━━━━━━━━━━━━\u001b[0m\u001b[37m\u001b[0m \u001b[1m0s\u001b[0m 4ms/step - attrition_output_accuracy: 0.9993 - attrition_output_loss: 0.0052 - department_output_accuracy: 0.9972 - department_output_loss: 0.0246 - loss: 0.0299 - val_attrition_output_accuracy: 0.7738 - val_attrition_output_loss: 1.7844 - val_department_output_accuracy: 0.5068 - val_department_output_loss: 3.0399 - val_loss: 4.8272\n",
      "Epoch 87/100\n",
      "\u001b[1m28/28\u001b[0m \u001b[32m━━━━━━━━━━━━━━━━━━━━\u001b[0m\u001b[37m\u001b[0m \u001b[1m0s\u001b[0m 4ms/step - attrition_output_accuracy: 1.0000 - attrition_output_loss: 0.0059 - department_output_accuracy: 0.9982 - department_output_loss: 0.0259 - loss: 0.0318 - val_attrition_output_accuracy: 0.7738 - val_attrition_output_loss: 1.8266 - val_department_output_accuracy: 0.5204 - val_department_output_loss: 3.0681 - val_loss: 4.8972\n",
      "Epoch 88/100\n",
      "\u001b[1m28/28\u001b[0m \u001b[32m━━━━━━━━━━━━━━━━━━━━\u001b[0m\u001b[37m\u001b[0m \u001b[1m0s\u001b[0m 4ms/step - attrition_output_accuracy: 1.0000 - attrition_output_loss: 0.0051 - department_output_accuracy: 0.9996 - department_output_loss: 0.0243 - loss: 0.0293 - val_attrition_output_accuracy: 0.7828 - val_attrition_output_loss: 1.8204 - val_department_output_accuracy: 0.5294 - val_department_output_loss: 3.2748 - val_loss: 5.0995\n",
      "Epoch 89/100\n",
      "\u001b[1m28/28\u001b[0m \u001b[32m━━━━━━━━━━━━━━━━━━━━\u001b[0m\u001b[37m\u001b[0m \u001b[1m0s\u001b[0m 4ms/step - attrition_output_accuracy: 1.0000 - attrition_output_loss: 0.0053 - department_output_accuracy: 0.9963 - department_output_loss: 0.0300 - loss: 0.0351 - val_attrition_output_accuracy: 0.7783 - val_attrition_output_loss: 1.8162 - val_department_output_accuracy: 0.5385 - val_department_output_loss: 3.3385 - val_loss: 5.1594\n",
      "Epoch 90/100\n",
      "\u001b[1m28/28\u001b[0m \u001b[32m━━━━━━━━━━━━━━━━━━━━\u001b[0m\u001b[37m\u001b[0m \u001b[1m0s\u001b[0m 4ms/step - attrition_output_accuracy: 0.9980 - attrition_output_loss: 0.0079 - department_output_accuracy: 0.9888 - department_output_loss: 0.0434 - loss: 0.0513 - val_attrition_output_accuracy: 0.8054 - val_attrition_output_loss: 1.9525 - val_department_output_accuracy: 0.5430 - val_department_output_loss: 3.1746 - val_loss: 5.1291\n",
      "Epoch 91/100\n",
      "\u001b[1m28/28\u001b[0m \u001b[32m━━━━━━━━━━━━━━━━━━━━\u001b[0m\u001b[37m\u001b[0m \u001b[1m0s\u001b[0m 4ms/step - attrition_output_accuracy: 0.9988 - attrition_output_loss: 0.0142 - department_output_accuracy: 0.9917 - department_output_loss: 0.0481 - loss: 0.0622 - val_attrition_output_accuracy: 0.7783 - val_attrition_output_loss: 1.8246 - val_department_output_accuracy: 0.5158 - val_department_output_loss: 3.1086 - val_loss: 4.9358\n",
      "Epoch 92/100\n",
      "\u001b[1m28/28\u001b[0m \u001b[32m━━━━━━━━━━━━━━━━━━━━\u001b[0m\u001b[37m\u001b[0m \u001b[1m0s\u001b[0m 4ms/step - attrition_output_accuracy: 0.9897 - attrition_output_loss: 0.0370 - department_output_accuracy: 0.9908 - department_output_loss: 0.0409 - loss: 0.0780 - val_attrition_output_accuracy: 0.7964 - val_attrition_output_loss: 1.8939 - val_department_output_accuracy: 0.5385 - val_department_output_loss: 3.0973 - val_loss: 4.9877\n",
      "Epoch 93/100\n",
      "\u001b[1m28/28\u001b[0m \u001b[32m━━━━━━━━━━━━━━━━━━━━\u001b[0m\u001b[37m\u001b[0m \u001b[1m0s\u001b[0m 4ms/step - attrition_output_accuracy: 0.9909 - attrition_output_loss: 0.0403 - department_output_accuracy: 0.9808 - department_output_loss: 0.0803 - loss: 0.1208 - val_attrition_output_accuracy: 0.7783 - val_attrition_output_loss: 2.0176 - val_department_output_accuracy: 0.5158 - val_department_output_loss: 3.0368 - val_loss: 5.0562\n",
      "Epoch 94/100\n",
      "\u001b[1m28/28\u001b[0m \u001b[32m━━━━━━━━━━━━━━━━━━━━\u001b[0m\u001b[37m\u001b[0m \u001b[1m0s\u001b[0m 5ms/step - attrition_output_accuracy: 0.9796 - attrition_output_loss: 0.0568 - department_output_accuracy: 0.9875 - department_output_loss: 0.0586 - loss: 0.1155 - val_attrition_output_accuracy: 0.7647 - val_attrition_output_loss: 1.8322 - val_department_output_accuracy: 0.4842 - val_department_output_loss: 3.2010 - val_loss: 5.0327\n",
      "Epoch 95/100\n",
      "\u001b[1m28/28\u001b[0m \u001b[32m━━━━━━━━━━━━━━━━━━━━\u001b[0m\u001b[37m\u001b[0m \u001b[1m0s\u001b[0m 4ms/step - attrition_output_accuracy: 0.9880 - attrition_output_loss: 0.0274 - department_output_accuracy: 0.9860 - department_output_loss: 0.0581 - loss: 0.0854 - val_attrition_output_accuracy: 0.7466 - val_attrition_output_loss: 1.7123 - val_department_output_accuracy: 0.4932 - val_department_output_loss: 3.1918 - val_loss: 4.9136\n",
      "Epoch 96/100\n",
      "\u001b[1m28/28\u001b[0m \u001b[32m━━━━━━━━━━━━━━━━━━━━\u001b[0m\u001b[37m\u001b[0m \u001b[1m0s\u001b[0m 4ms/step - attrition_output_accuracy: 0.9994 - attrition_output_loss: 0.0131 - department_output_accuracy: 0.9890 - department_output_loss: 0.0482 - loss: 0.0613 - val_attrition_output_accuracy: 0.7738 - val_attrition_output_loss: 1.7997 - val_department_output_accuracy: 0.5068 - val_department_output_loss: 3.3041 - val_loss: 5.1094\n",
      "Epoch 97/100\n",
      "\u001b[1m28/28\u001b[0m \u001b[32m━━━━━━━━━━━━━━━━━━━━\u001b[0m\u001b[37m\u001b[0m \u001b[1m0s\u001b[0m 4ms/step - attrition_output_accuracy: 0.9998 - attrition_output_loss: 0.0076 - department_output_accuracy: 0.9968 - department_output_loss: 0.0307 - loss: 0.0383 - val_attrition_output_accuracy: 0.7828 - val_attrition_output_loss: 1.8115 - val_department_output_accuracy: 0.5294 - val_department_output_loss: 3.2734 - val_loss: 5.0916\n",
      "Epoch 98/100\n",
      "\u001b[1m28/28\u001b[0m \u001b[32m━━━━━━━━━━━━━━━━━━━━\u001b[0m\u001b[37m\u001b[0m \u001b[1m0s\u001b[0m 4ms/step - attrition_output_accuracy: 0.9992 - attrition_output_loss: 0.0065 - department_output_accuracy: 0.9987 - department_output_loss: 0.0170 - loss: 0.0236 - val_attrition_output_accuracy: 0.7873 - val_attrition_output_loss: 1.8681 - val_department_output_accuracy: 0.5113 - val_department_output_loss: 3.4237 - val_loss: 5.3000\n",
      "Epoch 99/100\n",
      "\u001b[1m28/28\u001b[0m \u001b[32m━━━━━━━━━━━━━━━━━━━━\u001b[0m\u001b[37m\u001b[0m \u001b[1m0s\u001b[0m 4ms/step - attrition_output_accuracy: 0.9992 - attrition_output_loss: 0.0081 - department_output_accuracy: 0.9987 - department_output_loss: 0.0189 - loss: 0.0270 - val_attrition_output_accuracy: 0.7873 - val_attrition_output_loss: 1.8615 - val_department_output_accuracy: 0.5068 - val_department_output_loss: 3.3953 - val_loss: 5.2640\n",
      "Epoch 100/100\n",
      "\u001b[1m28/28\u001b[0m \u001b[32m━━━━━━━━━━━━━━━━━━━━\u001b[0m\u001b[37m\u001b[0m \u001b[1m0s\u001b[0m 4ms/step - attrition_output_accuracy: 0.9942 - attrition_output_loss: 0.0112 - department_output_accuracy: 0.9973 - department_output_loss: 0.0192 - loss: 0.0303 - val_attrition_output_accuracy: 0.8100 - val_attrition_output_loss: 2.0484 - val_department_output_accuracy: 0.4932 - val_department_output_loss: 3.3880 - val_loss: 5.4430\n"
     ]
    }
   ],
   "source": [
    "# Train the model\n",
    "# Train the model using the preprocessed data\n",
    "history = model.fit(\n",
    "    X_train_scaled,\n",
    "    {'department_output': y_train_dept, 'attrition_output': y_train_attr},\n",
    "    epochs=100,\n",
    "    batch_size=32,\n",
    "    validation_split=0.2,  # Optional, gives a validation curve\n",
    "    verbose=1\n",
    ")\n"
   ]
  },
  {
   "cell_type": "code",
   "execution_count": 70,
   "metadata": {
    "colab": {
     "base_uri": "https://localhost:8080/"
    },
    "executionInfo": {
     "elapsed": 379,
     "status": "ok",
     "timestamp": 1730699259894,
     "user": {
      "displayName": "Alexander Booth",
      "userId": "02269714993535573104"
     },
     "user_tz": 360
    },
    "id": "VsMoaQlgGc3U",
    "outputId": "636c85ba-ee63-4087-b7d1-00b408f1055a"
   },
   "outputs": [
    {
     "name": "stdout",
     "output_type": "stream",
     "text": [
      "Results: [4.786522388458252, 2.907397508621216, 1.796335220336914, 0.801630437374115, 0.54076087474823]\n",
      "Metrics: ['loss', 'compile_metrics', 'department_output_loss', 'attrition_output_loss']\n"
     ]
    }
   ],
   "source": [
    "# Evaluate the model with the testing data\n",
    "results = model.evaluate(\n",
    "    X_test_scaled,\n",
    "    {'department_output': y_test_dept, 'attrition_output': y_test_attr},\n",
    "    verbose=0\n",
    ")\n",
    "print(\"Results:\", results)\n",
    "print(\"Metrics:\", model.metrics_names)\n"
   ]
  },
  {
   "cell_type": "code",
   "execution_count": 71,
   "metadata": {
    "colab": {
     "base_uri": "https://localhost:8080/"
    },
    "executionInfo": {
     "elapsed": 113,
     "status": "ok",
     "timestamp": 1730699260004,
     "user": {
      "displayName": "Alexander Booth",
      "userId": "02269714993535573104"
     },
     "user_tz": 360
    },
    "id": "ZlCtlHi0Vt54",
    "outputId": "3a32435c-11cf-48da-81b5-1431d6c00da2"
   },
   "outputs": [
    {
     "name": "stdout",
     "output_type": "stream",
     "text": [
      "Attrition predictions accuracy: 0.5136\n",
      "Department predictions accuracy: 0.8288\n"
     ]
    }
   ],
   "source": [
    "# Print the accuracy for both department and attrition\n",
    "print(\"Attrition predictions accuracy:\", round(attr_acc, 4))\n",
    "print(\"Department predictions accuracy:\", round(dept_acc, 4))"
   ]
  },
  {
   "cell_type": "markdown",
   "metadata": {
    "id": "eGSyfsZfWOQM"
   },
   "source": [
    "# Summary\n",
    "\n",
    "In the provided space below, briefly answer the following questions.\n",
    "\n",
    "1. Is accuracy the best metric to use on this data? Why or why not?\n",
    "\n",
    "2. What activation functions did you choose for your output layers, and why?\n",
    "\n",
    "3. Can you name a few ways that this model might be improved?"
   ]
  },
  {
   "cell_type": "markdown",
   "metadata": {},
   "source": [
    "YOUR ANSWERS HERE\n",
    "\n",
    "1. Accuracy is helpful, but if the classes are imbalanced (like very few people leaving), it can be misleading. Other metrics like precision or recall might give a clearer picture.\n",
    "2. I used softmax for the output layers because both targets are categories, and softmax gives us probabilities for each class.\n",
    "3. The model could be improved by adding dropout, trying different architectures, or tuning things like the number of layers and batch size."
   ]
  }
 ],
 "metadata": {
  "colab": {
   "provenance": []
  },
  "kernelspec": {
   "display_name": "base",
   "language": "python",
   "name": "python3"
  },
  "language_info": {
   "codemirror_mode": {
    "name": "ipython",
    "version": 3
   },
   "file_extension": ".py",
   "mimetype": "text/x-python",
   "name": "python",
   "nbconvert_exporter": "python",
   "pygments_lexer": "ipython3",
   "version": "3.12.7"
  }
 },
 "nbformat": 4,
 "nbformat_minor": 0
}
