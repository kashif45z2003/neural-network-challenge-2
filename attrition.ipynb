{
 "cells": [
  {
   "cell_type": "markdown",
   "metadata": {
    "id": "alIIEHibGc3M"
   },
   "source": [
    "## Part 1: Preprocessing"
   ]
  },
  {
   "cell_type": "code",
   "execution_count": 1,
   "metadata": {
    "colab": {
     "base_uri": "https://localhost:8080/",
     "height": 325
    },
    "executionInfo": {
     "elapsed": 12323,
     "status": "ok",
     "timestamp": 1730699226906,
     "user": {
      "displayName": "Alexander Booth",
      "userId": "02269714993535573104"
     },
     "user_tz": 360
    },
    "id": "6eDUJ4NtGc3P",
    "outputId": "eeae54b5-3d17-442d-94ba-00dd55b89964"
   },
   "outputs": [
    {
     "data": {
      "application/vnd.microsoft.datawrangler.viewer.v0+json": {
       "columns": [
        {
         "name": "index",
         "rawType": "int64",
         "type": "integer"
        },
        {
         "name": "Age",
         "rawType": "int64",
         "type": "integer"
        },
        {
         "name": "Attrition",
         "rawType": "object",
         "type": "string"
        },
        {
         "name": "BusinessTravel",
         "rawType": "object",
         "type": "string"
        },
        {
         "name": "Department",
         "rawType": "object",
         "type": "string"
        },
        {
         "name": "DistanceFromHome",
         "rawType": "int64",
         "type": "integer"
        },
        {
         "name": "Education",
         "rawType": "int64",
         "type": "integer"
        },
        {
         "name": "EducationField",
         "rawType": "object",
         "type": "string"
        },
        {
         "name": "EnvironmentSatisfaction",
         "rawType": "int64",
         "type": "integer"
        },
        {
         "name": "HourlyRate",
         "rawType": "int64",
         "type": "integer"
        },
        {
         "name": "JobInvolvement",
         "rawType": "int64",
         "type": "integer"
        },
        {
         "name": "JobLevel",
         "rawType": "int64",
         "type": "integer"
        },
        {
         "name": "JobRole",
         "rawType": "object",
         "type": "string"
        },
        {
         "name": "JobSatisfaction",
         "rawType": "int64",
         "type": "integer"
        },
        {
         "name": "MaritalStatus",
         "rawType": "object",
         "type": "string"
        },
        {
         "name": "NumCompaniesWorked",
         "rawType": "int64",
         "type": "integer"
        },
        {
         "name": "OverTime",
         "rawType": "object",
         "type": "string"
        },
        {
         "name": "PercentSalaryHike",
         "rawType": "int64",
         "type": "integer"
        },
        {
         "name": "PerformanceRating",
         "rawType": "int64",
         "type": "integer"
        },
        {
         "name": "RelationshipSatisfaction",
         "rawType": "int64",
         "type": "integer"
        },
        {
         "name": "StockOptionLevel",
         "rawType": "int64",
         "type": "integer"
        },
        {
         "name": "TotalWorkingYears",
         "rawType": "int64",
         "type": "integer"
        },
        {
         "name": "TrainingTimesLastYear",
         "rawType": "int64",
         "type": "integer"
        },
        {
         "name": "WorkLifeBalance",
         "rawType": "int64",
         "type": "integer"
        },
        {
         "name": "YearsAtCompany",
         "rawType": "int64",
         "type": "integer"
        },
        {
         "name": "YearsInCurrentRole",
         "rawType": "int64",
         "type": "integer"
        },
        {
         "name": "YearsSinceLastPromotion",
         "rawType": "int64",
         "type": "integer"
        },
        {
         "name": "YearsWithCurrManager",
         "rawType": "int64",
         "type": "integer"
        }
       ],
       "conversionMethod": "pd.DataFrame",
       "ref": "a82c341a-f6fc-4328-9bd4-efdedf4cebd8",
       "rows": [
        [
         "0",
         "41",
         "Yes",
         "Travel_Rarely",
         "Sales",
         "1",
         "2",
         "Life Sciences",
         "2",
         "94",
         "3",
         "2",
         "Sales Executive",
         "4",
         "Single",
         "8",
         "Yes",
         "11",
         "3",
         "1",
         "0",
         "8",
         "0",
         "1",
         "6",
         "4",
         "0",
         "5"
        ],
        [
         "1",
         "49",
         "No",
         "Travel_Frequently",
         "Research & Development",
         "8",
         "1",
         "Life Sciences",
         "3",
         "61",
         "2",
         "2",
         "Research Scientist",
         "2",
         "Married",
         "1",
         "No",
         "23",
         "4",
         "4",
         "1",
         "10",
         "3",
         "3",
         "10",
         "7",
         "1",
         "7"
        ],
        [
         "2",
         "37",
         "Yes",
         "Travel_Rarely",
         "Research & Development",
         "2",
         "2",
         "Other",
         "4",
         "92",
         "2",
         "1",
         "Laboratory Technician",
         "3",
         "Single",
         "6",
         "Yes",
         "15",
         "3",
         "2",
         "0",
         "7",
         "3",
         "3",
         "0",
         "0",
         "0",
         "0"
        ],
        [
         "3",
         "33",
         "No",
         "Travel_Frequently",
         "Research & Development",
         "3",
         "4",
         "Life Sciences",
         "4",
         "56",
         "3",
         "1",
         "Research Scientist",
         "3",
         "Married",
         "1",
         "Yes",
         "11",
         "3",
         "3",
         "0",
         "8",
         "3",
         "3",
         "8",
         "7",
         "3",
         "0"
        ],
        [
         "4",
         "27",
         "No",
         "Travel_Rarely",
         "Research & Development",
         "2",
         "1",
         "Medical",
         "1",
         "40",
         "3",
         "1",
         "Laboratory Technician",
         "2",
         "Married",
         "9",
         "No",
         "12",
         "3",
         "4",
         "1",
         "6",
         "3",
         "3",
         "2",
         "2",
         "2",
         "2"
        ]
       ],
       "shape": {
        "columns": 27,
        "rows": 5
       }
      },
      "text/html": [
       "<div>\n",
       "<style scoped>\n",
       "    .dataframe tbody tr th:only-of-type {\n",
       "        vertical-align: middle;\n",
       "    }\n",
       "\n",
       "    .dataframe tbody tr th {\n",
       "        vertical-align: top;\n",
       "    }\n",
       "\n",
       "    .dataframe thead th {\n",
       "        text-align: right;\n",
       "    }\n",
       "</style>\n",
       "<table border=\"1\" class=\"dataframe\">\n",
       "  <thead>\n",
       "    <tr style=\"text-align: right;\">\n",
       "      <th></th>\n",
       "      <th>Age</th>\n",
       "      <th>Attrition</th>\n",
       "      <th>BusinessTravel</th>\n",
       "      <th>Department</th>\n",
       "      <th>DistanceFromHome</th>\n",
       "      <th>Education</th>\n",
       "      <th>EducationField</th>\n",
       "      <th>EnvironmentSatisfaction</th>\n",
       "      <th>HourlyRate</th>\n",
       "      <th>JobInvolvement</th>\n",
       "      <th>...</th>\n",
       "      <th>PerformanceRating</th>\n",
       "      <th>RelationshipSatisfaction</th>\n",
       "      <th>StockOptionLevel</th>\n",
       "      <th>TotalWorkingYears</th>\n",
       "      <th>TrainingTimesLastYear</th>\n",
       "      <th>WorkLifeBalance</th>\n",
       "      <th>YearsAtCompany</th>\n",
       "      <th>YearsInCurrentRole</th>\n",
       "      <th>YearsSinceLastPromotion</th>\n",
       "      <th>YearsWithCurrManager</th>\n",
       "    </tr>\n",
       "  </thead>\n",
       "  <tbody>\n",
       "    <tr>\n",
       "      <th>0</th>\n",
       "      <td>41</td>\n",
       "      <td>Yes</td>\n",
       "      <td>Travel_Rarely</td>\n",
       "      <td>Sales</td>\n",
       "      <td>1</td>\n",
       "      <td>2</td>\n",
       "      <td>Life Sciences</td>\n",
       "      <td>2</td>\n",
       "      <td>94</td>\n",
       "      <td>3</td>\n",
       "      <td>...</td>\n",
       "      <td>3</td>\n",
       "      <td>1</td>\n",
       "      <td>0</td>\n",
       "      <td>8</td>\n",
       "      <td>0</td>\n",
       "      <td>1</td>\n",
       "      <td>6</td>\n",
       "      <td>4</td>\n",
       "      <td>0</td>\n",
       "      <td>5</td>\n",
       "    </tr>\n",
       "    <tr>\n",
       "      <th>1</th>\n",
       "      <td>49</td>\n",
       "      <td>No</td>\n",
       "      <td>Travel_Frequently</td>\n",
       "      <td>Research &amp; Development</td>\n",
       "      <td>8</td>\n",
       "      <td>1</td>\n",
       "      <td>Life Sciences</td>\n",
       "      <td>3</td>\n",
       "      <td>61</td>\n",
       "      <td>2</td>\n",
       "      <td>...</td>\n",
       "      <td>4</td>\n",
       "      <td>4</td>\n",
       "      <td>1</td>\n",
       "      <td>10</td>\n",
       "      <td>3</td>\n",
       "      <td>3</td>\n",
       "      <td>10</td>\n",
       "      <td>7</td>\n",
       "      <td>1</td>\n",
       "      <td>7</td>\n",
       "    </tr>\n",
       "    <tr>\n",
       "      <th>2</th>\n",
       "      <td>37</td>\n",
       "      <td>Yes</td>\n",
       "      <td>Travel_Rarely</td>\n",
       "      <td>Research &amp; Development</td>\n",
       "      <td>2</td>\n",
       "      <td>2</td>\n",
       "      <td>Other</td>\n",
       "      <td>4</td>\n",
       "      <td>92</td>\n",
       "      <td>2</td>\n",
       "      <td>...</td>\n",
       "      <td>3</td>\n",
       "      <td>2</td>\n",
       "      <td>0</td>\n",
       "      <td>7</td>\n",
       "      <td>3</td>\n",
       "      <td>3</td>\n",
       "      <td>0</td>\n",
       "      <td>0</td>\n",
       "      <td>0</td>\n",
       "      <td>0</td>\n",
       "    </tr>\n",
       "    <tr>\n",
       "      <th>3</th>\n",
       "      <td>33</td>\n",
       "      <td>No</td>\n",
       "      <td>Travel_Frequently</td>\n",
       "      <td>Research &amp; Development</td>\n",
       "      <td>3</td>\n",
       "      <td>4</td>\n",
       "      <td>Life Sciences</td>\n",
       "      <td>4</td>\n",
       "      <td>56</td>\n",
       "      <td>3</td>\n",
       "      <td>...</td>\n",
       "      <td>3</td>\n",
       "      <td>3</td>\n",
       "      <td>0</td>\n",
       "      <td>8</td>\n",
       "      <td>3</td>\n",
       "      <td>3</td>\n",
       "      <td>8</td>\n",
       "      <td>7</td>\n",
       "      <td>3</td>\n",
       "      <td>0</td>\n",
       "    </tr>\n",
       "    <tr>\n",
       "      <th>4</th>\n",
       "      <td>27</td>\n",
       "      <td>No</td>\n",
       "      <td>Travel_Rarely</td>\n",
       "      <td>Research &amp; Development</td>\n",
       "      <td>2</td>\n",
       "      <td>1</td>\n",
       "      <td>Medical</td>\n",
       "      <td>1</td>\n",
       "      <td>40</td>\n",
       "      <td>3</td>\n",
       "      <td>...</td>\n",
       "      <td>3</td>\n",
       "      <td>4</td>\n",
       "      <td>1</td>\n",
       "      <td>6</td>\n",
       "      <td>3</td>\n",
       "      <td>3</td>\n",
       "      <td>2</td>\n",
       "      <td>2</td>\n",
       "      <td>2</td>\n",
       "      <td>2</td>\n",
       "    </tr>\n",
       "  </tbody>\n",
       "</table>\n",
       "<p>5 rows × 27 columns</p>\n",
       "</div>"
      ],
      "text/plain": [
       "   Age Attrition     BusinessTravel              Department  DistanceFromHome  \\\n",
       "0   41       Yes      Travel_Rarely                   Sales                 1   \n",
       "1   49        No  Travel_Frequently  Research & Development                 8   \n",
       "2   37       Yes      Travel_Rarely  Research & Development                 2   \n",
       "3   33        No  Travel_Frequently  Research & Development                 3   \n",
       "4   27        No      Travel_Rarely  Research & Development                 2   \n",
       "\n",
       "   Education EducationField  EnvironmentSatisfaction  HourlyRate  \\\n",
       "0          2  Life Sciences                        2          94   \n",
       "1          1  Life Sciences                        3          61   \n",
       "2          2          Other                        4          92   \n",
       "3          4  Life Sciences                        4          56   \n",
       "4          1        Medical                        1          40   \n",
       "\n",
       "   JobInvolvement  ...  PerformanceRating RelationshipSatisfaction  \\\n",
       "0               3  ...                  3                        1   \n",
       "1               2  ...                  4                        4   \n",
       "2               2  ...                  3                        2   \n",
       "3               3  ...                  3                        3   \n",
       "4               3  ...                  3                        4   \n",
       "\n",
       "   StockOptionLevel TotalWorkingYears  TrainingTimesLastYear WorkLifeBalance  \\\n",
       "0                 0                 8                      0               1   \n",
       "1                 1                10                      3               3   \n",
       "2                 0                 7                      3               3   \n",
       "3                 0                 8                      3               3   \n",
       "4                 1                 6                      3               3   \n",
       "\n",
       "   YearsAtCompany  YearsInCurrentRole  YearsSinceLastPromotion  \\\n",
       "0               6                   4                        0   \n",
       "1              10                   7                        1   \n",
       "2               0                   0                        0   \n",
       "3               8                   7                        3   \n",
       "4               2                   2                        2   \n",
       "\n",
       "   YearsWithCurrManager  \n",
       "0                     5  \n",
       "1                     7  \n",
       "2                     0  \n",
       "3                     0  \n",
       "4                     2  \n",
       "\n",
       "[5 rows x 27 columns]"
      ]
     },
     "execution_count": 1,
     "metadata": {},
     "output_type": "execute_result"
    }
   ],
   "source": [
    "# Import our dependencies\n",
    "from sklearn.model_selection import train_test_split\n",
    "from sklearn.preprocessing import StandardScaler, OneHotEncoder\n",
    "import pandas as pd\n",
    "import numpy as np\n",
    "from tensorflow.keras.models import Model\n",
    "from tensorflow.keras import layers, Input\n",
    "\n",
    "#  Import and read the attrition data\n",
    "attrition_df = pd.read_csv('https://static.bc-edx.com/ai/ail-v-1-0/m19/lms/datasets/attrition.csv')\n",
    "attrition_df.head()"
   ]
  },
  {
   "cell_type": "code",
   "execution_count": 2,
   "metadata": {
    "colab": {
     "base_uri": "https://localhost:8080/",
     "height": 930
    },
    "executionInfo": {
     "elapsed": 10,
     "status": "ok",
     "timestamp": 1730699226906,
     "user": {
      "displayName": "Alexander Booth",
      "userId": "02269714993535573104"
     },
     "user_tz": 360
    },
    "id": "g22aQSY4Gc3Q",
    "outputId": "e8b68509-45d8-42e0-a9db-1bdce48e4b2d"
   },
   "outputs": [
    {
     "data": {
      "text/plain": [
       "Age                         43\n",
       "Attrition                    2\n",
       "BusinessTravel               3\n",
       "Department                   3\n",
       "DistanceFromHome            29\n",
       "Education                    5\n",
       "EducationField               6\n",
       "EnvironmentSatisfaction      4\n",
       "HourlyRate                  71\n",
       "JobInvolvement               4\n",
       "JobLevel                     5\n",
       "JobRole                      9\n",
       "JobSatisfaction              4\n",
       "MaritalStatus                3\n",
       "NumCompaniesWorked          10\n",
       "OverTime                     2\n",
       "PercentSalaryHike           15\n",
       "PerformanceRating            2\n",
       "RelationshipSatisfaction     4\n",
       "StockOptionLevel             4\n",
       "TotalWorkingYears           40\n",
       "TrainingTimesLastYear        7\n",
       "WorkLifeBalance              4\n",
       "YearsAtCompany              37\n",
       "YearsInCurrentRole          19\n",
       "YearsSinceLastPromotion     16\n",
       "YearsWithCurrManager        18\n",
       "dtype: int64"
      ]
     },
     "execution_count": 2,
     "metadata": {},
     "output_type": "execute_result"
    }
   ],
   "source": [
    "# Determine the number of unique values in each column\n",
    "attrition_df.nunique()"
   ]
  },
  {
   "cell_type": "code",
   "execution_count": 3,
   "metadata": {
    "executionInfo": {
     "elapsed": 7,
     "status": "ok",
     "timestamp": 1730699226906,
     "user": {
      "displayName": "Alexander Booth",
      "userId": "02269714993535573104"
     },
     "user_tz": 360
    },
    "id": "50vMgBEnJbfM"
   },
   "outputs": [],
   "source": [
    "# Create y_df with the Attrition and Department columns\n",
    "y_df = attrition_df[['Attrition', 'Department']]"
   ]
  },
  {
   "cell_type": "code",
   "execution_count": 4,
   "metadata": {
    "colab": {
     "base_uri": "https://localhost:8080/",
     "height": 397
    },
    "executionInfo": {
     "elapsed": 125,
     "status": "ok",
     "timestamp": 1730699227025,
     "user": {
      "displayName": "Alexander Booth",
      "userId": "02269714993535573104"
     },
     "user_tz": 360
    },
    "id": "Virka0zLGc3R",
    "outputId": "24f181c9-7e2e-42cb-94e8-a75842f1ab01"
   },
   "outputs": [
    {
     "data": {
      "text/plain": [
       "Education                   int64\n",
       "Age                         int64\n",
       "DistanceFromHome            int64\n",
       "JobSatisfaction             int64\n",
       "OverTime                   object\n",
       "StockOptionLevel            int64\n",
       "WorkLifeBalance             int64\n",
       "YearsAtCompany              int64\n",
       "YearsSinceLastPromotion     int64\n",
       "NumCompaniesWorked          int64\n",
       "dtype: object"
      ]
     },
     "execution_count": 4,
     "metadata": {},
     "output_type": "execute_result"
    }
   ],
   "source": [
    "# Create a list of at least 10 column names to use as X data\n",
    "X_columns = ['Education', 'Age', 'DistanceFromHome', 'JobSatisfaction', 'OverTime',\n",
    "             'StockOptionLevel', 'WorkLifeBalance', 'YearsAtCompany',\n",
    "             'YearsSinceLastPromotion', 'NumCompaniesWorked']\n",
    "\n",
    "# Create X_df using your selected columns\n",
    "X_df = attrition_df[X_columns]\n",
    "\n",
    "# Show the data types for X_df\n",
    "X_df.dtypes"
   ]
  },
  {
   "cell_type": "code",
   "execution_count": 5,
   "metadata": {
    "executionInfo": {
     "elapsed": 9,
     "status": "ok",
     "timestamp": 1730699227025,
     "user": {
      "displayName": "Alexander Booth",
      "userId": "02269714993535573104"
     },
     "user_tz": 360
    },
    "id": "KaJfdOGUMHMR"
   },
   "outputs": [],
   "source": [
    "# Split the data into training and testing sets\n",
    "# from sklearn.model_selection import train_test_split\n",
    "X_train, X_test, y_train, y_test = train_test_split(X_df, y_df, random_state=1)"
   ]
  },
  {
   "cell_type": "code",
   "execution_count": 6,
   "metadata": {
    "colab": {
     "base_uri": "https://localhost:8080/",
     "height": 178
    },
    "executionInfo": {
     "elapsed": 8,
     "status": "ok",
     "timestamp": 1730699227025,
     "user": {
      "displayName": "Alexander Booth",
      "userId": "02269714993535573104"
     },
     "user_tz": 360
    },
    "id": "NYubUJqiLCSp",
    "outputId": "6116187c-4afa-4d4a-aeb9-fdc2131d0d58"
   },
   "outputs": [
    {
     "data": {
      "text/plain": [
       "OverTime\n",
       "No     1054\n",
       "Yes     416\n",
       "Name: count, dtype: int64"
      ]
     },
     "execution_count": 6,
     "metadata": {},
     "output_type": "execute_result"
    }
   ],
   "source": [
    "# Convert your X data to numeric data types however you see fit\n",
    "# Add new code cells as necessary\n",
    "X_cat_cols = X_train.select_dtypes(include='object').columns.tolist()\n",
    "X_encoder = OneHotEncoder(drop='if_binary', sparse_output=False, handle_unknown='ignore')\n",
    "X_encoder.fit(X_train[X_cat_cols])\n",
    "\n",
    "X_train_encoded = pd.DataFrame(X_encoder.transform(X_train[X_cat_cols]), index=X_train.index)\n",
    "X_test_encoded = pd.DataFrame(X_encoder.transform(X_test[X_cat_cols]), index=X_test.index)\n",
    "\n",
    "X_train = X_train.drop(columns=X_cat_cols)\n",
    "X_test = X_test.drop(columns=X_cat_cols)\n",
    "X_train = pd.concat([X_train, X_train_encoded], axis=1)\n",
    "X_test = pd.concat([X_test, X_test_encoded], axis=1)\n",
    "\n",
    "# Check the count of each value in the 'OverTime' column\n",
    "attrition_df[\"OverTime\"].value_counts()\n"
   ]
  },
  {
   "cell_type": "code",
   "execution_count": 7,
   "metadata": {
    "executionInfo": {
     "elapsed": 6,
     "status": "ok",
     "timestamp": 1730699227162,
     "user": {
      "displayName": "Alexander Booth",
      "userId": "02269714993535573104"
     },
     "user_tz": 360
    },
    "id": "EWA-aIA5Gc3T"
   },
   "outputs": [],
   "source": [
    "# Ensure all column names are strings\n",
    "X_train.columns = X_train.columns.astype(str)\n",
    "X_test.columns = X_test.columns.astype(str)\n",
    "\n",
    "# Create a StandardScaler\n",
    "scaler = StandardScaler()\n",
    "\n",
    "# Fit the StandardScaler to the training data\n",
    "X_train_scaled = scaler.fit_transform(X_train)\n",
    "\n",
    "# Scale the testing data\n",
    "X_test_scaled = scaler.transform(X_test)"
   ]
  },
  {
   "cell_type": "code",
   "execution_count": 8,
   "metadata": {},
   "outputs": [
    {
     "name": "stdout",
     "output_type": "stream",
     "text": [
      "Final shape of X_train_scaled: (1102, 10)\n"
     ]
    }
   ],
   "source": [
    "print(\"Final shape of X_train_scaled:\", X_train_scaled.shape)\n"
   ]
  },
  {
   "cell_type": "code",
   "execution_count": 9,
   "metadata": {
    "colab": {
     "base_uri": "https://localhost:8080/"
    },
    "executionInfo": {
     "elapsed": 99,
     "status": "ok",
     "timestamp": 1730699227256,
     "user": {
      "displayName": "Alexander Booth",
      "userId": "02269714993535573104"
     },
     "user_tz": 360
    },
    "id": "-z0Mky8vQSz4",
    "outputId": "5024d63f-7e4e-4a91-fb76-0b2c79c1bcfb"
   },
   "outputs": [
    {
     "name": "stdout",
     "output_type": "stream",
     "text": [
      "[[0. 1. 0.]\n",
      " [0. 1. 0.]\n",
      " [0. 0. 1.]\n",
      " ...\n",
      " [1. 0. 0.]\n",
      " [0. 0. 1.]\n",
      " [0. 0. 1.]]\n"
     ]
    }
   ],
   "source": [
    "from sklearn.preprocessing import OneHotEncoder\n",
    "\n",
    "# Create a OneHotEncoder for the Department column\n",
    "dept_encoder = OneHotEncoder(sparse_output=False, handle_unknown='ignore')\n",
    "\n",
    "# Fit the encoder to the training data\n",
    "dept_encoder.fit(y_train[[\"Department\"]])\n",
    "\n",
    "# Create two new variables by applying the encoder\n",
    "# to the training and testing data\n",
    "y_train_dept = dept_encoder.transform(y_train[[\"Department\"]])\n",
    "y_test_dept = dept_encoder.transform(y_test[[\"Department\"]])\n",
    "\n",
    "# Print encoded department values to visualize the result\n",
    "print(y_train_dept)"
   ]
  },
  {
   "cell_type": "code",
   "execution_count": 10,
   "metadata": {
    "colab": {
     "base_uri": "https://localhost:8080/"
    },
    "executionInfo": {
     "elapsed": 5,
     "status": "ok",
     "timestamp": 1730699227257,
     "user": {
      "displayName": "Alexander Booth",
      "userId": "02269714993535573104"
     },
     "user_tz": 360
    },
    "id": "-G4DSpvFRrk4",
    "outputId": "1821049e-a4f0-437f-b8a7-e415431fbdb0"
   },
   "outputs": [
    {
     "name": "stdout",
     "output_type": "stream",
     "text": [
      "[[1. 0.]\n",
      " [1. 0.]\n",
      " [0. 1.]\n",
      " ...\n",
      " [1. 0.]\n",
      " [1. 0.]\n",
      " [1. 0.]]\n"
     ]
    }
   ],
   "source": [
    "# Create a OneHotEncoder for the Attrition column\n",
    "attr_encoder = OneHotEncoder(sparse_output=False, handle_unknown='ignore')\n",
    "\n",
    "# Fit the encoder to the training data\n",
    "attr_encoder.fit(y_train[[\"Attrition\"]])\n",
    "\n",
    "# Create two new variables by applying the encoder\n",
    "# to the training and testing data\n",
    "y_train_attr = attr_encoder.transform(y_train[[\"Attrition\"]])\n",
    "y_test_attr = attr_encoder.transform(y_test[[\"Attrition\"]])\n",
    "\n",
    "# Print encoded attrition values to visualize the result\n",
    "print(y_train_attr)\n"
   ]
  },
  {
   "cell_type": "markdown",
   "metadata": {
    "id": "ykNmu_WWGc3T"
   },
   "source": [
    "## Part 2: Create, Compile, and Train the Model"
   ]
  },
  {
   "cell_type": "code",
   "execution_count": 11,
   "metadata": {
    "executionInfo": {
     "elapsed": 309,
     "status": "ok",
     "timestamp": 1730699227563,
     "user": {
      "displayName": "Alexander Booth",
      "userId": "02269714993535573104"
     },
     "user_tz": 360
    },
    "id": "WUptZqmSGc3T"
   },
   "outputs": [],
   "source": [
    "# Find the number of columns in the X training data.\n",
    "input_dim = X_train_scaled.shape[1]\n",
    "\n",
    "# Create the input layer\n",
    "input_layer = Input(shape=(input_dim,), name='input')\n",
    "\n",
    "# Create at least two shared layers\n",
    "shared_layer1 = layers.Dense(64, activation='relu', name='shared1')(input_layer)\n",
    "shared_layer2 = layers.Dense(128, activation='relu', name='shared2')(shared_layer1)\n"
   ]
  },
  {
   "cell_type": "code",
   "execution_count": 12,
   "metadata": {
    "executionInfo": {
     "elapsed": 118,
     "status": "ok",
     "timestamp": 1730699227678,
     "user": {
      "displayName": "Alexander Booth",
      "userId": "02269714993535573104"
     },
     "user_tz": 360
    },
    "id": "JukjTm2yTEqd"
   },
   "outputs": [],
   "source": [
    "# Create a branch for Department\n",
    "# with a hidden layer and an output layer\n",
    "\n",
    "# Create the hidden layer\n",
    "dept_branch = layers.Dense(32, activation='relu', name='department_hidden')(shared_layer2)\n",
    "\n",
    "# Create the output layer\n",
    "dept_output = layers.Dense(y_train_dept.shape[1], activation='softmax', name='department_output')(dept_branch)"
   ]
  },
  {
   "cell_type": "code",
   "execution_count": 13,
   "metadata": {
    "executionInfo": {
     "elapsed": 9,
     "status": "ok",
     "timestamp": 1730699227679,
     "user": {
      "displayName": "Alexander Booth",
      "userId": "02269714993535573104"
     },
     "user_tz": 360
    },
    "id": "9OqhUiOJUBkR"
   },
   "outputs": [],
   "source": [
    "# Create a branch for Attrition\n",
    "# with a hidden layer and an output layer\n",
    "\n",
    "# Create the hidden layer\n",
    "attr_branch = layers.Dense(32, activation='relu', name='attrition_hidden')(shared_layer2)\n",
    "\n",
    "# Create the output layer\n",
    "attr_output = layers.Dense(y_train_attr.shape[1], activation='softmax', name='attrition_output')(attr_branch)"
   ]
  },
  {
   "cell_type": "code",
   "execution_count": 14,
   "metadata": {
    "colab": {
     "base_uri": "https://localhost:8080/",
     "height": 361
    },
    "executionInfo": {
     "elapsed": 108,
     "status": "ok",
     "timestamp": 1730699227780,
     "user": {
      "displayName": "Alexander Booth",
      "userId": "02269714993535573104"
     },
     "user_tz": 360
    },
    "id": "twmuejdxGc3T",
    "outputId": "dd9ce242-6a66-4709-ba13-4b13551c22e0"
   },
   "outputs": [
    {
     "data": {
      "text/html": [
       "<pre style=\"white-space:pre;overflow-x:auto;line-height:normal;font-family:Menlo,'DejaVu Sans Mono',consolas,'Courier New',monospace\"><span style=\"font-weight: bold\">Model: \"functional\"</span>\n",
       "</pre>\n"
      ],
      "text/plain": [
       "\u001b[1mModel: \"functional\"\u001b[0m\n"
      ]
     },
     "metadata": {},
     "output_type": "display_data"
    },
    {
     "data": {
      "text/html": [
       "<pre style=\"white-space:pre;overflow-x:auto;line-height:normal;font-family:Menlo,'DejaVu Sans Mono',consolas,'Courier New',monospace\">┏━━━━━━━━━━━━━━━━━━━━━┳━━━━━━━━━━━━━━━━━━━┳━━━━━━━━━━━━┳━━━━━━━━━━━━━━━━━━━┓\n",
       "┃<span style=\"font-weight: bold\"> Layer (type)        </span>┃<span style=\"font-weight: bold\"> Output Shape      </span>┃<span style=\"font-weight: bold\">    Param # </span>┃<span style=\"font-weight: bold\"> Connected to      </span>┃\n",
       "┡━━━━━━━━━━━━━━━━━━━━━╇━━━━━━━━━━━━━━━━━━━╇━━━━━━━━━━━━╇━━━━━━━━━━━━━━━━━━━┩\n",
       "│ input (<span style=\"color: #0087ff; text-decoration-color: #0087ff\">InputLayer</span>)  │ (<span style=\"color: #00d7ff; text-decoration-color: #00d7ff\">None</span>, <span style=\"color: #00af00; text-decoration-color: #00af00\">10</span>)        │          <span style=\"color: #00af00; text-decoration-color: #00af00\">0</span> │ -                 │\n",
       "├─────────────────────┼───────────────────┼────────────┼───────────────────┤\n",
       "│ shared1 (<span style=\"color: #0087ff; text-decoration-color: #0087ff\">Dense</span>)     │ (<span style=\"color: #00d7ff; text-decoration-color: #00d7ff\">None</span>, <span style=\"color: #00af00; text-decoration-color: #00af00\">64</span>)        │        <span style=\"color: #00af00; text-decoration-color: #00af00\">704</span> │ input[<span style=\"color: #00af00; text-decoration-color: #00af00\">0</span>][<span style=\"color: #00af00; text-decoration-color: #00af00\">0</span>]       │\n",
       "├─────────────────────┼───────────────────┼────────────┼───────────────────┤\n",
       "│ shared2 (<span style=\"color: #0087ff; text-decoration-color: #0087ff\">Dense</span>)     │ (<span style=\"color: #00d7ff; text-decoration-color: #00d7ff\">None</span>, <span style=\"color: #00af00; text-decoration-color: #00af00\">128</span>)       │      <span style=\"color: #00af00; text-decoration-color: #00af00\">8,320</span> │ shared1[<span style=\"color: #00af00; text-decoration-color: #00af00\">0</span>][<span style=\"color: #00af00; text-decoration-color: #00af00\">0</span>]     │\n",
       "├─────────────────────┼───────────────────┼────────────┼───────────────────┤\n",
       "│ department_hidden   │ (<span style=\"color: #00d7ff; text-decoration-color: #00d7ff\">None</span>, <span style=\"color: #00af00; text-decoration-color: #00af00\">32</span>)        │      <span style=\"color: #00af00; text-decoration-color: #00af00\">4,128</span> │ shared2[<span style=\"color: #00af00; text-decoration-color: #00af00\">0</span>][<span style=\"color: #00af00; text-decoration-color: #00af00\">0</span>]     │\n",
       "│ (<span style=\"color: #0087ff; text-decoration-color: #0087ff\">Dense</span>)             │                   │            │                   │\n",
       "├─────────────────────┼───────────────────┼────────────┼───────────────────┤\n",
       "│ attrition_hidden    │ (<span style=\"color: #00d7ff; text-decoration-color: #00d7ff\">None</span>, <span style=\"color: #00af00; text-decoration-color: #00af00\">32</span>)        │      <span style=\"color: #00af00; text-decoration-color: #00af00\">4,128</span> │ shared2[<span style=\"color: #00af00; text-decoration-color: #00af00\">0</span>][<span style=\"color: #00af00; text-decoration-color: #00af00\">0</span>]     │\n",
       "│ (<span style=\"color: #0087ff; text-decoration-color: #0087ff\">Dense</span>)             │                   │            │                   │\n",
       "├─────────────────────┼───────────────────┼────────────┼───────────────────┤\n",
       "│ department_output   │ (<span style=\"color: #00d7ff; text-decoration-color: #00d7ff\">None</span>, <span style=\"color: #00af00; text-decoration-color: #00af00\">3</span>)         │         <span style=\"color: #00af00; text-decoration-color: #00af00\">99</span> │ department_hidde… │\n",
       "│ (<span style=\"color: #0087ff; text-decoration-color: #0087ff\">Dense</span>)             │                   │            │                   │\n",
       "├─────────────────────┼───────────────────┼────────────┼───────────────────┤\n",
       "│ attrition_output    │ (<span style=\"color: #00d7ff; text-decoration-color: #00d7ff\">None</span>, <span style=\"color: #00af00; text-decoration-color: #00af00\">2</span>)         │         <span style=\"color: #00af00; text-decoration-color: #00af00\">66</span> │ attrition_hidden… │\n",
       "│ (<span style=\"color: #0087ff; text-decoration-color: #0087ff\">Dense</span>)             │                   │            │                   │\n",
       "└─────────────────────┴───────────────────┴────────────┴───────────────────┘\n",
       "</pre>\n"
      ],
      "text/plain": [
       "┏━━━━━━━━━━━━━━━━━━━━━┳━━━━━━━━━━━━━━━━━━━┳━━━━━━━━━━━━┳━━━━━━━━━━━━━━━━━━━┓\n",
       "┃\u001b[1m \u001b[0m\u001b[1mLayer (type)       \u001b[0m\u001b[1m \u001b[0m┃\u001b[1m \u001b[0m\u001b[1mOutput Shape     \u001b[0m\u001b[1m \u001b[0m┃\u001b[1m \u001b[0m\u001b[1m   Param #\u001b[0m\u001b[1m \u001b[0m┃\u001b[1m \u001b[0m\u001b[1mConnected to     \u001b[0m\u001b[1m \u001b[0m┃\n",
       "┡━━━━━━━━━━━━━━━━━━━━━╇━━━━━━━━━━━━━━━━━━━╇━━━━━━━━━━━━╇━━━━━━━━━━━━━━━━━━━┩\n",
       "│ input (\u001b[38;5;33mInputLayer\u001b[0m)  │ (\u001b[38;5;45mNone\u001b[0m, \u001b[38;5;34m10\u001b[0m)        │          \u001b[38;5;34m0\u001b[0m │ -                 │\n",
       "├─────────────────────┼───────────────────┼────────────┼───────────────────┤\n",
       "│ shared1 (\u001b[38;5;33mDense\u001b[0m)     │ (\u001b[38;5;45mNone\u001b[0m, \u001b[38;5;34m64\u001b[0m)        │        \u001b[38;5;34m704\u001b[0m │ input[\u001b[38;5;34m0\u001b[0m][\u001b[38;5;34m0\u001b[0m]       │\n",
       "├─────────────────────┼───────────────────┼────────────┼───────────────────┤\n",
       "│ shared2 (\u001b[38;5;33mDense\u001b[0m)     │ (\u001b[38;5;45mNone\u001b[0m, \u001b[38;5;34m128\u001b[0m)       │      \u001b[38;5;34m8,320\u001b[0m │ shared1[\u001b[38;5;34m0\u001b[0m][\u001b[38;5;34m0\u001b[0m]     │\n",
       "├─────────────────────┼───────────────────┼────────────┼───────────────────┤\n",
       "│ department_hidden   │ (\u001b[38;5;45mNone\u001b[0m, \u001b[38;5;34m32\u001b[0m)        │      \u001b[38;5;34m4,128\u001b[0m │ shared2[\u001b[38;5;34m0\u001b[0m][\u001b[38;5;34m0\u001b[0m]     │\n",
       "│ (\u001b[38;5;33mDense\u001b[0m)             │                   │            │                   │\n",
       "├─────────────────────┼───────────────────┼────────────┼───────────────────┤\n",
       "│ attrition_hidden    │ (\u001b[38;5;45mNone\u001b[0m, \u001b[38;5;34m32\u001b[0m)        │      \u001b[38;5;34m4,128\u001b[0m │ shared2[\u001b[38;5;34m0\u001b[0m][\u001b[38;5;34m0\u001b[0m]     │\n",
       "│ (\u001b[38;5;33mDense\u001b[0m)             │                   │            │                   │\n",
       "├─────────────────────┼───────────────────┼────────────┼───────────────────┤\n",
       "│ department_output   │ (\u001b[38;5;45mNone\u001b[0m, \u001b[38;5;34m3\u001b[0m)         │         \u001b[38;5;34m99\u001b[0m │ department_hidde… │\n",
       "│ (\u001b[38;5;33mDense\u001b[0m)             │                   │            │                   │\n",
       "├─────────────────────┼───────────────────┼────────────┼───────────────────┤\n",
       "│ attrition_output    │ (\u001b[38;5;45mNone\u001b[0m, \u001b[38;5;34m2\u001b[0m)         │         \u001b[38;5;34m66\u001b[0m │ attrition_hidden… │\n",
       "│ (\u001b[38;5;33mDense\u001b[0m)             │                   │            │                   │\n",
       "└─────────────────────┴───────────────────┴────────────┴───────────────────┘\n"
      ]
     },
     "metadata": {},
     "output_type": "display_data"
    },
    {
     "data": {
      "text/html": [
       "<pre style=\"white-space:pre;overflow-x:auto;line-height:normal;font-family:Menlo,'DejaVu Sans Mono',consolas,'Courier New',monospace\"><span style=\"font-weight: bold\"> Total params: </span><span style=\"color: #00af00; text-decoration-color: #00af00\">17,445</span> (68.14 KB)\n",
       "</pre>\n"
      ],
      "text/plain": [
       "\u001b[1m Total params: \u001b[0m\u001b[38;5;34m17,445\u001b[0m (68.14 KB)\n"
      ]
     },
     "metadata": {},
     "output_type": "display_data"
    },
    {
     "data": {
      "text/html": [
       "<pre style=\"white-space:pre;overflow-x:auto;line-height:normal;font-family:Menlo,'DejaVu Sans Mono',consolas,'Courier New',monospace\"><span style=\"font-weight: bold\"> Trainable params: </span><span style=\"color: #00af00; text-decoration-color: #00af00\">17,445</span> (68.14 KB)\n",
       "</pre>\n"
      ],
      "text/plain": [
       "\u001b[1m Trainable params: \u001b[0m\u001b[38;5;34m17,445\u001b[0m (68.14 KB)\n"
      ]
     },
     "metadata": {},
     "output_type": "display_data"
    },
    {
     "data": {
      "text/html": [
       "<pre style=\"white-space:pre;overflow-x:auto;line-height:normal;font-family:Menlo,'DejaVu Sans Mono',consolas,'Courier New',monospace\"><span style=\"font-weight: bold\"> Non-trainable params: </span><span style=\"color: #00af00; text-decoration-color: #00af00\">0</span> (0.00 B)\n",
       "</pre>\n"
      ],
      "text/plain": [
       "\u001b[1m Non-trainable params: \u001b[0m\u001b[38;5;34m0\u001b[0m (0.00 B)\n"
      ]
     },
     "metadata": {},
     "output_type": "display_data"
    }
   ],
   "source": [
    "# Create the model\n",
    "model = Model(inputs=input_layer, outputs=[dept_output, attr_output])\n",
    "\n",
    "# Compile the model\n",
    "model.compile(\n",
    "    optimizer='adam',\n",
    "    loss={\n",
    "        'department_output': 'categorical_crossentropy',\n",
    "        'attrition_output': 'categorical_crossentropy'\n",
    "    },\n",
    "    metrics={\n",
    "        'department_output': 'accuracy',\n",
    "        'attrition_output': 'accuracy'\n",
    "    }\n",
    ")\n",
    "\n",
    "# Summarize the model\n",
    "model.summary()"
   ]
  },
  {
   "cell_type": "code",
   "execution_count": 15,
   "metadata": {
    "colab": {
     "base_uri": "https://localhost:8080/"
    },
    "executionInfo": {
     "elapsed": 31740,
     "status": "ok",
     "timestamp": 1730699259517,
     "user": {
      "displayName": "Alexander Booth",
      "userId": "02269714993535573104"
     },
     "user_tz": 360
    },
    "id": "c8oGy0dpGc3U",
    "outputId": "f48a5292-426f-4715-ea6e-381a8e9d5542"
   },
   "outputs": [
    {
     "name": "stdout",
     "output_type": "stream",
     "text": [
      "Epoch 1/100\n",
      "\u001b[1m28/28\u001b[0m \u001b[32m━━━━━━━━━━━━━━━━━━━━\u001b[0m\u001b[37m\u001b[0m \u001b[1m2s\u001b[0m 12ms/step - attrition_output_accuracy: 0.8469 - attrition_output_loss: 0.5054 - department_output_accuracy: 0.6958 - department_output_loss: 0.8611 - loss: 1.3667 - val_attrition_output_accuracy: 0.8281 - val_attrition_output_loss: 0.4668 - val_department_output_accuracy: 0.6335 - val_department_output_loss: 0.8391 - val_loss: 1.3067\n",
      "Epoch 2/100\n",
      "\u001b[1m28/28\u001b[0m \u001b[32m━━━━━━━━━━━━━━━━━━━━\u001b[0m\u001b[37m\u001b[0m \u001b[1m0s\u001b[0m 4ms/step - attrition_output_accuracy: 0.8318 - attrition_output_loss: 0.4120 - department_output_accuracy: 0.6613 - department_output_loss: 0.7708 - loss: 1.1828 - val_attrition_output_accuracy: 0.8281 - val_attrition_output_loss: 0.4818 - val_department_output_accuracy: 0.6335 - val_department_output_loss: 0.8572 - val_loss: 1.3394\n",
      "Epoch 3/100\n",
      "\u001b[1m28/28\u001b[0m \u001b[32m━━━━━━━━━━━━━━━━━━━━\u001b[0m\u001b[37m\u001b[0m \u001b[1m0s\u001b[0m 4ms/step - attrition_output_accuracy: 0.8404 - attrition_output_loss: 0.3784 - department_output_accuracy: 0.6809 - department_output_loss: 0.7248 - loss: 1.1034 - val_attrition_output_accuracy: 0.8281 - val_attrition_output_loss: 0.4552 - val_department_output_accuracy: 0.6290 - val_department_output_loss: 0.8499 - val_loss: 1.3053\n",
      "Epoch 4/100\n",
      "\u001b[1m28/28\u001b[0m \u001b[32m━━━━━━━━━━━━━━━━━━━━\u001b[0m\u001b[37m\u001b[0m \u001b[1m0s\u001b[0m 4ms/step - attrition_output_accuracy: 0.8955 - attrition_output_loss: 0.2944 - department_output_accuracy: 0.6584 - department_output_loss: 0.7440 - loss: 1.0380 - val_attrition_output_accuracy: 0.8326 - val_attrition_output_loss: 0.4579 - val_department_output_accuracy: 0.6335 - val_department_output_loss: 0.8639 - val_loss: 1.3221\n",
      "Epoch 5/100\n",
      "\u001b[1m28/28\u001b[0m \u001b[32m━━━━━━━━━━━━━━━━━━━━\u001b[0m\u001b[37m\u001b[0m \u001b[1m0s\u001b[0m 4ms/step - attrition_output_accuracy: 0.8717 - attrition_output_loss: 0.3230 - department_output_accuracy: 0.6274 - department_output_loss: 0.7985 - loss: 1.1218 - val_attrition_output_accuracy: 0.8281 - val_attrition_output_loss: 0.4672 - val_department_output_accuracy: 0.6335 - val_department_output_loss: 0.8886 - val_loss: 1.3562\n",
      "Epoch 6/100\n",
      "\u001b[1m28/28\u001b[0m \u001b[32m━━━━━━━━━━━━━━━━━━━━\u001b[0m\u001b[37m\u001b[0m \u001b[1m0s\u001b[0m 4ms/step - attrition_output_accuracy: 0.8867 - attrition_output_loss: 0.3080 - department_output_accuracy: 0.6461 - department_output_loss: 0.7590 - loss: 1.0671 - val_attrition_output_accuracy: 0.8371 - val_attrition_output_loss: 0.4616 - val_department_output_accuracy: 0.6335 - val_department_output_loss: 0.8720 - val_loss: 1.3342\n",
      "Epoch 7/100\n",
      "\u001b[1m28/28\u001b[0m \u001b[32m━━━━━━━━━━━━━━━━━━━━\u001b[0m\u001b[37m\u001b[0m \u001b[1m0s\u001b[0m 4ms/step - attrition_output_accuracy: 0.8778 - attrition_output_loss: 0.3279 - department_output_accuracy: 0.6745 - department_output_loss: 0.6965 - loss: 1.0241 - val_attrition_output_accuracy: 0.8281 - val_attrition_output_loss: 0.4588 - val_department_output_accuracy: 0.6199 - val_department_output_loss: 0.8752 - val_loss: 1.3345\n",
      "Epoch 8/100\n",
      "\u001b[1m28/28\u001b[0m \u001b[32m━━━━━━━━━━━━━━━━━━━━\u001b[0m\u001b[37m\u001b[0m \u001b[1m0s\u001b[0m 3ms/step - attrition_output_accuracy: 0.8914 - attrition_output_loss: 0.2862 - department_output_accuracy: 0.6809 - department_output_loss: 0.6833 - loss: 0.9695 - val_attrition_output_accuracy: 0.8235 - val_attrition_output_loss: 0.4719 - val_department_output_accuracy: 0.5928 - val_department_output_loss: 0.8819 - val_loss: 1.3539\n",
      "Epoch 9/100\n",
      "\u001b[1m28/28\u001b[0m \u001b[32m━━━━━━━━━━━━━━━━━━━━\u001b[0m\u001b[37m\u001b[0m \u001b[1m0s\u001b[0m 3ms/step - attrition_output_accuracy: 0.9040 - attrition_output_loss: 0.2646 - department_output_accuracy: 0.6890 - department_output_loss: 0.7270 - loss: 0.9915 - val_attrition_output_accuracy: 0.8190 - val_attrition_output_loss: 0.4814 - val_department_output_accuracy: 0.6154 - val_department_output_loss: 0.8942 - val_loss: 1.3765\n",
      "Epoch 10/100\n",
      "\u001b[1m28/28\u001b[0m \u001b[32m━━━━━━━━━━━━━━━━━━━━\u001b[0m\u001b[37m\u001b[0m \u001b[1m0s\u001b[0m 3ms/step - attrition_output_accuracy: 0.9087 - attrition_output_loss: 0.2533 - department_output_accuracy: 0.6866 - department_output_loss: 0.6715 - loss: 0.9251 - val_attrition_output_accuracy: 0.8281 - val_attrition_output_loss: 0.4770 - val_department_output_accuracy: 0.6199 - val_department_output_loss: 0.9020 - val_loss: 1.3795\n",
      "Epoch 11/100\n",
      "\u001b[1m28/28\u001b[0m \u001b[32m━━━━━━━━━━━━━━━━━━━━\u001b[0m\u001b[37m\u001b[0m \u001b[1m0s\u001b[0m 3ms/step - attrition_output_accuracy: 0.9002 - attrition_output_loss: 0.2643 - department_output_accuracy: 0.6802 - department_output_loss: 0.6593 - loss: 0.9237 - val_attrition_output_accuracy: 0.8235 - val_attrition_output_loss: 0.4994 - val_department_output_accuracy: 0.5882 - val_department_output_loss: 0.9081 - val_loss: 1.4080\n",
      "Epoch 12/100\n",
      "\u001b[1m28/28\u001b[0m \u001b[32m━━━━━━━━━━━━━━━━━━━━\u001b[0m\u001b[37m\u001b[0m \u001b[1m0s\u001b[0m 3ms/step - attrition_output_accuracy: 0.8878 - attrition_output_loss: 0.2792 - department_output_accuracy: 0.6994 - department_output_loss: 0.6634 - loss: 0.9426 - val_attrition_output_accuracy: 0.8235 - val_attrition_output_loss: 0.5058 - val_department_output_accuracy: 0.5385 - val_department_output_loss: 0.9161 - val_loss: 1.4225\n",
      "Epoch 13/100\n",
      "\u001b[1m28/28\u001b[0m \u001b[32m━━━━━━━━━━━━━━━━━━━━\u001b[0m\u001b[37m\u001b[0m \u001b[1m0s\u001b[0m 3ms/step - attrition_output_accuracy: 0.9039 - attrition_output_loss: 0.2419 - department_output_accuracy: 0.7297 - department_output_loss: 0.6351 - loss: 0.8770 - val_attrition_output_accuracy: 0.8371 - val_attrition_output_loss: 0.5289 - val_department_output_accuracy: 0.6154 - val_department_output_loss: 0.9224 - val_loss: 1.4516\n",
      "Epoch 14/100\n",
      "\u001b[1m28/28\u001b[0m \u001b[32m━━━━━━━━━━━━━━━━━━━━\u001b[0m\u001b[37m\u001b[0m \u001b[1m0s\u001b[0m 3ms/step - attrition_output_accuracy: 0.9032 - attrition_output_loss: 0.2458 - department_output_accuracy: 0.7182 - department_output_loss: 0.6234 - loss: 0.8695 - val_attrition_output_accuracy: 0.8281 - val_attrition_output_loss: 0.5203 - val_department_output_accuracy: 0.6109 - val_department_output_loss: 0.9419 - val_loss: 1.4624\n",
      "Epoch 15/100\n",
      "\u001b[1m28/28\u001b[0m \u001b[32m━━━━━━━━━━━━━━━━━━━━\u001b[0m\u001b[37m\u001b[0m \u001b[1m0s\u001b[0m 3ms/step - attrition_output_accuracy: 0.9146 - attrition_output_loss: 0.2328 - department_output_accuracy: 0.7024 - department_output_loss: 0.6342 - loss: 0.8668 - val_attrition_output_accuracy: 0.8281 - val_attrition_output_loss: 0.5166 - val_department_output_accuracy: 0.6063 - val_department_output_loss: 0.9621 - val_loss: 1.4797\n",
      "Epoch 16/100\n",
      "\u001b[1m28/28\u001b[0m \u001b[32m━━━━━━━━━━━━━━━━━━━━\u001b[0m\u001b[37m\u001b[0m \u001b[1m0s\u001b[0m 3ms/step - attrition_output_accuracy: 0.9088 - attrition_output_loss: 0.2268 - department_output_accuracy: 0.7334 - department_output_loss: 0.6020 - loss: 0.8289 - val_attrition_output_accuracy: 0.8235 - val_attrition_output_loss: 0.5467 - val_department_output_accuracy: 0.5792 - val_department_output_loss: 0.9602 - val_loss: 1.5080\n",
      "Epoch 17/100\n",
      "\u001b[1m28/28\u001b[0m \u001b[32m━━━━━━━━━━━━━━━━━━━━\u001b[0m\u001b[37m\u001b[0m \u001b[1m0s\u001b[0m 3ms/step - attrition_output_accuracy: 0.9089 - attrition_output_loss: 0.2165 - department_output_accuracy: 0.7313 - department_output_loss: 0.5867 - loss: 0.8033 - val_attrition_output_accuracy: 0.8190 - val_attrition_output_loss: 0.5302 - val_department_output_accuracy: 0.5928 - val_department_output_loss: 0.9809 - val_loss: 1.5122\n",
      "Epoch 18/100\n",
      "\u001b[1m28/28\u001b[0m \u001b[32m━━━━━━━━━━━━━━━━━━━━\u001b[0m\u001b[37m\u001b[0m \u001b[1m0s\u001b[0m 4ms/step - attrition_output_accuracy: 0.9339 - attrition_output_loss: 0.1969 - department_output_accuracy: 0.7372 - department_output_loss: 0.5809 - loss: 0.7776 - val_attrition_output_accuracy: 0.8145 - val_attrition_output_loss: 0.5362 - val_department_output_accuracy: 0.5656 - val_department_output_loss: 0.9781 - val_loss: 1.5151\n",
      "Epoch 19/100\n",
      "\u001b[1m28/28\u001b[0m \u001b[32m━━━━━━━━━━━━━━━━━━━━\u001b[0m\u001b[37m\u001b[0m \u001b[1m0s\u001b[0m 4ms/step - attrition_output_accuracy: 0.9265 - attrition_output_loss: 0.2040 - department_output_accuracy: 0.7543 - department_output_loss: 0.5461 - loss: 0.7500 - val_attrition_output_accuracy: 0.8235 - val_attrition_output_loss: 0.5532 - val_department_output_accuracy: 0.5204 - val_department_output_loss: 1.0071 - val_loss: 1.5618\n",
      "Epoch 20/100\n",
      "\u001b[1m28/28\u001b[0m \u001b[32m━━━━━━━━━━━━━━━━━━━━\u001b[0m\u001b[37m\u001b[0m \u001b[1m0s\u001b[0m 4ms/step - attrition_output_accuracy: 0.9226 - attrition_output_loss: 0.1888 - department_output_accuracy: 0.7346 - department_output_loss: 0.5613 - loss: 0.7502 - val_attrition_output_accuracy: 0.8281 - val_attrition_output_loss: 0.5601 - val_department_output_accuracy: 0.5973 - val_department_output_loss: 1.0241 - val_loss: 1.5846\n",
      "Epoch 21/100\n",
      "\u001b[1m28/28\u001b[0m \u001b[32m━━━━━━━━━━━━━━━━━━━━\u001b[0m\u001b[37m\u001b[0m \u001b[1m0s\u001b[0m 4ms/step - attrition_output_accuracy: 0.9359 - attrition_output_loss: 0.1744 - department_output_accuracy: 0.7502 - department_output_loss: 0.5248 - loss: 0.6993 - val_attrition_output_accuracy: 0.8100 - val_attrition_output_loss: 0.5824 - val_department_output_accuracy: 0.5520 - val_department_output_loss: 1.0204 - val_loss: 1.6035\n",
      "Epoch 22/100\n",
      "\u001b[1m28/28\u001b[0m \u001b[32m━━━━━━━━━━━━━━━━━━━━\u001b[0m\u001b[37m\u001b[0m \u001b[1m0s\u001b[0m 3ms/step - attrition_output_accuracy: 0.9398 - attrition_output_loss: 0.1887 - department_output_accuracy: 0.7694 - department_output_loss: 0.5142 - loss: 0.7029 - val_attrition_output_accuracy: 0.8281 - val_attrition_output_loss: 0.5933 - val_department_output_accuracy: 0.5475 - val_department_output_loss: 1.0630 - val_loss: 1.6574\n",
      "Epoch 23/100\n",
      "\u001b[1m28/28\u001b[0m \u001b[32m━━━━━━━━━━━━━━━━━━━━\u001b[0m\u001b[37m\u001b[0m \u001b[1m0s\u001b[0m 3ms/step - attrition_output_accuracy: 0.9536 - attrition_output_loss: 0.1525 - department_output_accuracy: 0.7790 - department_output_loss: 0.5099 - loss: 0.6624 - val_attrition_output_accuracy: 0.8235 - val_attrition_output_loss: 0.5945 - val_department_output_accuracy: 0.6063 - val_department_output_loss: 1.1004 - val_loss: 1.6944\n",
      "Epoch 24/100\n",
      "\u001b[1m28/28\u001b[0m \u001b[32m━━━━━━━━━━━━━━━━━━━━\u001b[0m\u001b[37m\u001b[0m \u001b[1m0s\u001b[0m 3ms/step - attrition_output_accuracy: 0.9484 - attrition_output_loss: 0.1644 - department_output_accuracy: 0.7585 - department_output_loss: 0.5180 - loss: 0.6824 - val_attrition_output_accuracy: 0.8145 - val_attrition_output_loss: 0.6791 - val_department_output_accuracy: 0.5385 - val_department_output_loss: 1.0754 - val_loss: 1.7539\n",
      "Epoch 25/100\n",
      "\u001b[1m28/28\u001b[0m \u001b[32m━━━━━━━━━━━━━━━━━━━━\u001b[0m\u001b[37m\u001b[0m \u001b[1m0s\u001b[0m 3ms/step - attrition_output_accuracy: 0.9270 - attrition_output_loss: 0.1752 - department_output_accuracy: 0.8149 - department_output_loss: 0.4567 - loss: 0.6321 - val_attrition_output_accuracy: 0.8281 - val_attrition_output_loss: 0.6391 - val_department_output_accuracy: 0.5294 - val_department_output_loss: 1.0994 - val_loss: 1.7381\n",
      "Epoch 26/100\n",
      "\u001b[1m28/28\u001b[0m \u001b[32m━━━━━━━━━━━━━━━━━━━━\u001b[0m\u001b[37m\u001b[0m \u001b[1m0s\u001b[0m 3ms/step - attrition_output_accuracy: 0.9550 - attrition_output_loss: 0.1329 - department_output_accuracy: 0.8208 - department_output_loss: 0.4372 - loss: 0.5696 - val_attrition_output_accuracy: 0.8054 - val_attrition_output_loss: 0.6702 - val_department_output_accuracy: 0.5294 - val_department_output_loss: 1.1326 - val_loss: 1.8017\n",
      "Epoch 27/100\n",
      "\u001b[1m28/28\u001b[0m \u001b[32m━━━━━━━━━━━━━━━━━━━━\u001b[0m\u001b[37m\u001b[0m \u001b[1m0s\u001b[0m 3ms/step - attrition_output_accuracy: 0.9587 - attrition_output_loss: 0.1370 - department_output_accuracy: 0.8054 - department_output_loss: 0.4513 - loss: 0.5884 - val_attrition_output_accuracy: 0.8190 - val_attrition_output_loss: 0.6873 - val_department_output_accuracy: 0.5158 - val_department_output_loss: 1.1516 - val_loss: 1.8389\n",
      "Epoch 28/100\n",
      "\u001b[1m28/28\u001b[0m \u001b[32m━━━━━━━━━━━━━━━━━━━━\u001b[0m\u001b[37m\u001b[0m \u001b[1m0s\u001b[0m 3ms/step - attrition_output_accuracy: 0.9717 - attrition_output_loss: 0.1116 - department_output_accuracy: 0.8281 - department_output_loss: 0.4253 - loss: 0.5369 - val_attrition_output_accuracy: 0.8145 - val_attrition_output_loss: 0.6700 - val_department_output_accuracy: 0.5656 - val_department_output_loss: 1.2360 - val_loss: 1.9061\n",
      "Epoch 29/100\n",
      "\u001b[1m28/28\u001b[0m \u001b[32m━━━━━━━━━━━━━━━━━━━━\u001b[0m\u001b[37m\u001b[0m \u001b[1m0s\u001b[0m 3ms/step - attrition_output_accuracy: 0.9644 - attrition_output_loss: 0.1112 - department_output_accuracy: 0.8239 - department_output_loss: 0.4323 - loss: 0.5436 - val_attrition_output_accuracy: 0.8190 - val_attrition_output_loss: 0.7075 - val_department_output_accuracy: 0.5520 - val_department_output_loss: 1.1886 - val_loss: 1.8963\n",
      "Epoch 30/100\n",
      "\u001b[1m28/28\u001b[0m \u001b[32m━━━━━━━━━━━━━━━━━━━━\u001b[0m\u001b[37m\u001b[0m \u001b[1m0s\u001b[0m 3ms/step - attrition_output_accuracy: 0.9662 - attrition_output_loss: 0.1047 - department_output_accuracy: 0.8653 - department_output_loss: 0.3974 - loss: 0.5021 - val_attrition_output_accuracy: 0.8100 - val_attrition_output_loss: 0.7270 - val_department_output_accuracy: 0.5430 - val_department_output_loss: 1.2099 - val_loss: 1.9358\n",
      "Epoch 31/100\n",
      "\u001b[1m28/28\u001b[0m \u001b[32m━━━━━━━━━━━━━━━━━━━━\u001b[0m\u001b[37m\u001b[0m \u001b[1m0s\u001b[0m 3ms/step - attrition_output_accuracy: 0.9721 - attrition_output_loss: 0.1075 - department_output_accuracy: 0.8612 - department_output_loss: 0.3801 - loss: 0.4874 - val_attrition_output_accuracy: 0.8281 - val_attrition_output_loss: 0.7329 - val_department_output_accuracy: 0.5249 - val_department_output_loss: 1.2730 - val_loss: 2.0062\n",
      "Epoch 32/100\n",
      "\u001b[1m28/28\u001b[0m \u001b[32m━━━━━━━━━━━━━━━━━━━━\u001b[0m\u001b[37m\u001b[0m \u001b[1m0s\u001b[0m 3ms/step - attrition_output_accuracy: 0.9692 - attrition_output_loss: 0.0975 - department_output_accuracy: 0.8523 - department_output_loss: 0.3731 - loss: 0.4707 - val_attrition_output_accuracy: 0.8235 - val_attrition_output_loss: 0.7641 - val_department_output_accuracy: 0.5339 - val_department_output_loss: 1.2813 - val_loss: 2.0439\n",
      "Epoch 33/100\n",
      "\u001b[1m28/28\u001b[0m \u001b[32m━━━━━━━━━━━━━━━━━━━━\u001b[0m\u001b[37m\u001b[0m \u001b[1m0s\u001b[0m 3ms/step - attrition_output_accuracy: 0.9744 - attrition_output_loss: 0.0901 - department_output_accuracy: 0.8584 - department_output_loss: 0.3785 - loss: 0.4687 - val_attrition_output_accuracy: 0.8145 - val_attrition_output_loss: 0.8976 - val_department_output_accuracy: 0.5566 - val_department_output_loss: 1.3569 - val_loss: 2.2524\n",
      "Epoch 34/100\n",
      "\u001b[1m28/28\u001b[0m \u001b[32m━━━━━━━━━━━━━━━━━━━━\u001b[0m\u001b[37m\u001b[0m \u001b[1m0s\u001b[0m 3ms/step - attrition_output_accuracy: 0.9635 - attrition_output_loss: 0.0924 - department_output_accuracy: 0.8751 - department_output_loss: 0.3303 - loss: 0.4226 - val_attrition_output_accuracy: 0.8054 - val_attrition_output_loss: 0.8393 - val_department_output_accuracy: 0.5430 - val_department_output_loss: 1.3200 - val_loss: 2.1575\n",
      "Epoch 35/100\n",
      "\u001b[1m28/28\u001b[0m \u001b[32m━━━━━━━━━━━━━━━━━━━━\u001b[0m\u001b[37m\u001b[0m \u001b[1m0s\u001b[0m 3ms/step - attrition_output_accuracy: 0.9804 - attrition_output_loss: 0.0801 - department_output_accuracy: 0.8924 - department_output_loss: 0.3278 - loss: 0.4080 - val_attrition_output_accuracy: 0.8145 - val_attrition_output_loss: 0.8801 - val_department_output_accuracy: 0.5385 - val_department_output_loss: 1.3797 - val_loss: 2.2581\n",
      "Epoch 36/100\n",
      "\u001b[1m28/28\u001b[0m \u001b[32m━━━━━━━━━━━━━━━━━━━━\u001b[0m\u001b[37m\u001b[0m \u001b[1m0s\u001b[0m 3ms/step - attrition_output_accuracy: 0.9777 - attrition_output_loss: 0.0801 - department_output_accuracy: 0.8989 - department_output_loss: 0.3147 - loss: 0.3948 - val_attrition_output_accuracy: 0.8100 - val_attrition_output_loss: 0.8864 - val_department_output_accuracy: 0.5158 - val_department_output_loss: 1.3903 - val_loss: 2.2760\n",
      "Epoch 37/100\n",
      "\u001b[1m28/28\u001b[0m \u001b[32m━━━━━━━━━━━━━━━━━━━━\u001b[0m\u001b[37m\u001b[0m \u001b[1m0s\u001b[0m 3ms/step - attrition_output_accuracy: 0.9836 - attrition_output_loss: 0.0651 - department_output_accuracy: 0.8987 - department_output_loss: 0.2920 - loss: 0.3570 - val_attrition_output_accuracy: 0.8054 - val_attrition_output_loss: 0.9273 - val_department_output_accuracy: 0.5520 - val_department_output_loss: 1.4746 - val_loss: 2.3988\n",
      "Epoch 38/100\n",
      "\u001b[1m28/28\u001b[0m \u001b[32m━━━━━━━━━━━━━━━━━━━━\u001b[0m\u001b[37m\u001b[0m \u001b[1m0s\u001b[0m 4ms/step - attrition_output_accuracy: 0.9840 - attrition_output_loss: 0.0646 - department_output_accuracy: 0.8968 - department_output_loss: 0.2887 - loss: 0.3529 - val_attrition_output_accuracy: 0.8054 - val_attrition_output_loss: 0.9695 - val_department_output_accuracy: 0.5430 - val_department_output_loss: 1.4429 - val_loss: 2.4108\n",
      "Epoch 39/100\n",
      "\u001b[1m28/28\u001b[0m \u001b[32m━━━━━━━━━━━━━━━━━━━━\u001b[0m\u001b[37m\u001b[0m \u001b[1m0s\u001b[0m 3ms/step - attrition_output_accuracy: 0.9818 - attrition_output_loss: 0.0671 - department_output_accuracy: 0.8975 - department_output_loss: 0.2890 - loss: 0.3558 - val_attrition_output_accuracy: 0.8190 - val_attrition_output_loss: 0.9642 - val_department_output_accuracy: 0.4932 - val_department_output_loss: 1.4619 - val_loss: 2.4248\n",
      "Epoch 40/100\n",
      "\u001b[1m28/28\u001b[0m \u001b[32m━━━━━━━━━━━━━━━━━━━━\u001b[0m\u001b[37m\u001b[0m \u001b[1m0s\u001b[0m 3ms/step - attrition_output_accuracy: 0.9877 - attrition_output_loss: 0.0512 - department_output_accuracy: 0.9165 - department_output_loss: 0.2730 - loss: 0.3241 - val_attrition_output_accuracy: 0.8009 - val_attrition_output_loss: 1.0087 - val_department_output_accuracy: 0.5294 - val_department_output_loss: 1.4979 - val_loss: 2.5047\n",
      "Epoch 41/100\n",
      "\u001b[1m28/28\u001b[0m \u001b[32m━━━━━━━━━━━━━━━━━━━━\u001b[0m\u001b[37m\u001b[0m \u001b[1m0s\u001b[0m 3ms/step - attrition_output_accuracy: 0.9882 - attrition_output_loss: 0.0564 - department_output_accuracy: 0.9141 - department_output_loss: 0.2563 - loss: 0.3128 - val_attrition_output_accuracy: 0.8054 - val_attrition_output_loss: 0.9897 - val_department_output_accuracy: 0.5158 - val_department_output_loss: 1.5114 - val_loss: 2.4992\n",
      "Epoch 42/100\n",
      "\u001b[1m28/28\u001b[0m \u001b[32m━━━━━━━━━━━━━━━━━━━━\u001b[0m\u001b[37m\u001b[0m \u001b[1m0s\u001b[0m 3ms/step - attrition_output_accuracy: 0.9902 - attrition_output_loss: 0.0444 - department_output_accuracy: 0.9414 - department_output_loss: 0.2356 - loss: 0.2797 - val_attrition_output_accuracy: 0.7873 - val_attrition_output_loss: 1.0336 - val_department_output_accuracy: 0.5249 - val_department_output_loss: 1.5461 - val_loss: 2.5790\n",
      "Epoch 43/100\n",
      "\u001b[1m28/28\u001b[0m \u001b[32m━━━━━━━━━━━━━━━━━━━━\u001b[0m\u001b[37m\u001b[0m \u001b[1m0s\u001b[0m 3ms/step - attrition_output_accuracy: 0.9921 - attrition_output_loss: 0.0539 - department_output_accuracy: 0.9490 - department_output_loss: 0.2198 - loss: 0.2735 - val_attrition_output_accuracy: 0.8054 - val_attrition_output_loss: 1.1009 - val_department_output_accuracy: 0.5385 - val_department_output_loss: 1.5898 - val_loss: 2.6892\n",
      "Epoch 44/100\n",
      "\u001b[1m28/28\u001b[0m \u001b[32m━━━━━━━━━━━━━━━━━━━━\u001b[0m\u001b[37m\u001b[0m \u001b[1m0s\u001b[0m 3ms/step - attrition_output_accuracy: 0.9772 - attrition_output_loss: 0.0607 - department_output_accuracy: 0.9286 - department_output_loss: 0.2246 - loss: 0.2853 - val_attrition_output_accuracy: 0.8100 - val_attrition_output_loss: 1.2100 - val_department_output_accuracy: 0.5475 - val_department_output_loss: 1.6834 - val_loss: 2.8903\n",
      "Epoch 45/100\n",
      "\u001b[1m28/28\u001b[0m \u001b[32m━━━━━━━━━━━━━━━━━━━━\u001b[0m\u001b[37m\u001b[0m \u001b[1m0s\u001b[0m 3ms/step - attrition_output_accuracy: 0.9882 - attrition_output_loss: 0.0482 - department_output_accuracy: 0.9416 - department_output_loss: 0.1972 - loss: 0.2454 - val_attrition_output_accuracy: 0.8054 - val_attrition_output_loss: 1.1071 - val_department_output_accuracy: 0.4932 - val_department_output_loss: 1.6499 - val_loss: 2.7537\n",
      "Epoch 46/100\n",
      "\u001b[1m28/28\u001b[0m \u001b[32m━━━━━━━━━━━━━━━━━━━━\u001b[0m\u001b[37m\u001b[0m \u001b[1m0s\u001b[0m 4ms/step - attrition_output_accuracy: 0.9952 - attrition_output_loss: 0.0390 - department_output_accuracy: 0.9412 - department_output_loss: 0.1927 - loss: 0.2316 - val_attrition_output_accuracy: 0.8009 - val_attrition_output_loss: 1.1591 - val_department_output_accuracy: 0.5294 - val_department_output_loss: 1.6966 - val_loss: 2.8546\n",
      "Epoch 47/100\n",
      "\u001b[1m28/28\u001b[0m \u001b[32m━━━━━━━━━━━━━━━━━━━━\u001b[0m\u001b[37m\u001b[0m \u001b[1m0s\u001b[0m 3ms/step - attrition_output_accuracy: 0.9915 - attrition_output_loss: 0.0415 - department_output_accuracy: 0.9536 - department_output_loss: 0.1722 - loss: 0.2137 - val_attrition_output_accuracy: 0.7919 - val_attrition_output_loss: 1.1896 - val_department_output_accuracy: 0.5430 - val_department_output_loss: 1.7256 - val_loss: 2.9150\n",
      "Epoch 48/100\n",
      "\u001b[1m28/28\u001b[0m \u001b[32m━━━━━━━━━━━━━━━━━━━━\u001b[0m\u001b[37m\u001b[0m \u001b[1m0s\u001b[0m 3ms/step - attrition_output_accuracy: 0.9856 - attrition_output_loss: 0.0431 - department_output_accuracy: 0.9539 - department_output_loss: 0.1839 - loss: 0.2270 - val_attrition_output_accuracy: 0.8145 - val_attrition_output_loss: 1.2871 - val_department_output_accuracy: 0.5113 - val_department_output_loss: 1.7670 - val_loss: 3.0499\n",
      "Epoch 49/100\n",
      "\u001b[1m28/28\u001b[0m \u001b[32m━━━━━━━━━━━━━━━━━━━━\u001b[0m\u001b[37m\u001b[0m \u001b[1m0s\u001b[0m 3ms/step - attrition_output_accuracy: 0.9978 - attrition_output_loss: 0.0291 - department_output_accuracy: 0.9537 - department_output_loss: 0.1670 - loss: 0.1962 - val_attrition_output_accuracy: 0.8054 - val_attrition_output_loss: 1.3050 - val_department_output_accuracy: 0.5385 - val_department_output_loss: 1.8364 - val_loss: 3.1383\n",
      "Epoch 50/100\n",
      "\u001b[1m28/28\u001b[0m \u001b[32m━━━━━━━━━━━━━━━━━━━━\u001b[0m\u001b[37m\u001b[0m \u001b[1m0s\u001b[0m 3ms/step - attrition_output_accuracy: 0.9967 - attrition_output_loss: 0.0268 - department_output_accuracy: 0.9636 - department_output_loss: 0.1471 - loss: 0.1737 - val_attrition_output_accuracy: 0.7919 - val_attrition_output_loss: 1.2782 - val_department_output_accuracy: 0.5520 - val_department_output_loss: 1.8287 - val_loss: 3.1018\n",
      "Epoch 51/100\n",
      "\u001b[1m28/28\u001b[0m \u001b[32m━━━━━━━━━━━━━━━━━━━━\u001b[0m\u001b[37m\u001b[0m \u001b[1m0s\u001b[0m 3ms/step - attrition_output_accuracy: 0.9948 - attrition_output_loss: 0.0302 - department_output_accuracy: 0.9614 - department_output_loss: 0.1549 - loss: 0.1852 - val_attrition_output_accuracy: 0.7828 - val_attrition_output_loss: 1.3284 - val_department_output_accuracy: 0.5249 - val_department_output_loss: 1.9206 - val_loss: 3.2480\n",
      "Epoch 52/100\n",
      "\u001b[1m28/28\u001b[0m \u001b[32m━━━━━━━━━━━━━━━━━━━━\u001b[0m\u001b[37m\u001b[0m \u001b[1m0s\u001b[0m 3ms/step - attrition_output_accuracy: 0.9974 - attrition_output_loss: 0.0251 - department_output_accuracy: 0.9619 - department_output_loss: 0.1583 - loss: 0.1834 - val_attrition_output_accuracy: 0.7964 - val_attrition_output_loss: 1.3962 - val_department_output_accuracy: 0.5747 - val_department_output_loss: 1.8939 - val_loss: 3.2836\n",
      "Epoch 53/100\n",
      "\u001b[1m28/28\u001b[0m \u001b[32m━━━━━━━━━━━━━━━━━━━━\u001b[0m\u001b[37m\u001b[0m \u001b[1m0s\u001b[0m 3ms/step - attrition_output_accuracy: 0.9953 - attrition_output_loss: 0.0230 - department_output_accuracy: 0.9619 - department_output_loss: 0.1483 - loss: 0.1713 - val_attrition_output_accuracy: 0.8054 - val_attrition_output_loss: 1.4071 - val_department_output_accuracy: 0.5204 - val_department_output_loss: 1.9108 - val_loss: 3.3124\n",
      "Epoch 54/100\n",
      "\u001b[1m28/28\u001b[0m \u001b[32m━━━━━━━━━━━━━━━━━━━━\u001b[0m\u001b[37m\u001b[0m \u001b[1m0s\u001b[0m 4ms/step - attrition_output_accuracy: 0.9915 - attrition_output_loss: 0.0298 - department_output_accuracy: 0.9807 - department_output_loss: 0.1197 - loss: 0.1495 - val_attrition_output_accuracy: 0.7964 - val_attrition_output_loss: 1.4225 - val_department_output_accuracy: 0.5430 - val_department_output_loss: 1.9485 - val_loss: 3.3676\n",
      "Epoch 55/100\n",
      "\u001b[1m28/28\u001b[0m \u001b[32m━━━━━━━━━━━━━━━━━━━━\u001b[0m\u001b[37m\u001b[0m \u001b[1m0s\u001b[0m 4ms/step - attrition_output_accuracy: 0.9992 - attrition_output_loss: 0.0208 - department_output_accuracy: 0.9803 - department_output_loss: 0.1106 - loss: 0.1314 - val_attrition_output_accuracy: 0.8009 - val_attrition_output_loss: 1.4640 - val_department_output_accuracy: 0.5339 - val_department_output_loss: 1.9303 - val_loss: 3.3912\n",
      "Epoch 56/100\n",
      "\u001b[1m28/28\u001b[0m \u001b[32m━━━━━━━━━━━━━━━━━━━━\u001b[0m\u001b[37m\u001b[0m \u001b[1m0s\u001b[0m 3ms/step - attrition_output_accuracy: 0.9987 - attrition_output_loss: 0.0181 - department_output_accuracy: 0.9810 - department_output_loss: 0.1065 - loss: 0.1245 - val_attrition_output_accuracy: 0.7919 - val_attrition_output_loss: 1.4117 - val_department_output_accuracy: 0.5023 - val_department_output_loss: 2.0201 - val_loss: 3.4304\n",
      "Epoch 57/100\n",
      "\u001b[1m28/28\u001b[0m \u001b[32m━━━━━━━━━━━━━━━━━━━━\u001b[0m\u001b[37m\u001b[0m \u001b[1m0s\u001b[0m 3ms/step - attrition_output_accuracy: 0.9953 - attrition_output_loss: 0.0260 - department_output_accuracy: 0.9836 - department_output_loss: 0.1052 - loss: 0.1312 - val_attrition_output_accuracy: 0.7919 - val_attrition_output_loss: 1.4968 - val_department_output_accuracy: 0.5294 - val_department_output_loss: 2.0286 - val_loss: 3.5212\n",
      "Epoch 58/100\n",
      "\u001b[1m28/28\u001b[0m \u001b[32m━━━━━━━━━━━━━━━━━━━━\u001b[0m\u001b[37m\u001b[0m \u001b[1m0s\u001b[0m 3ms/step - attrition_output_accuracy: 0.9997 - attrition_output_loss: 0.0146 - department_output_accuracy: 0.9879 - department_output_loss: 0.0940 - loss: 0.1087 - val_attrition_output_accuracy: 0.7828 - val_attrition_output_loss: 1.5246 - val_department_output_accuracy: 0.5249 - val_department_output_loss: 2.0500 - val_loss: 3.5708\n",
      "Epoch 59/100\n",
      "\u001b[1m28/28\u001b[0m \u001b[32m━━━━━━━━━━━━━━━━━━━━\u001b[0m\u001b[37m\u001b[0m \u001b[1m0s\u001b[0m 4ms/step - attrition_output_accuracy: 0.9981 - attrition_output_loss: 0.0221 - department_output_accuracy: 0.9895 - department_output_loss: 0.0936 - loss: 0.1157 - val_attrition_output_accuracy: 0.7783 - val_attrition_output_loss: 1.5590 - val_department_output_accuracy: 0.5385 - val_department_output_loss: 2.1218 - val_loss: 3.6793\n",
      "Epoch 60/100\n",
      "\u001b[1m28/28\u001b[0m \u001b[32m━━━━━━━━━━━━━━━━━━━━\u001b[0m\u001b[37m\u001b[0m \u001b[1m0s\u001b[0m 4ms/step - attrition_output_accuracy: 0.9964 - attrition_output_loss: 0.0201 - department_output_accuracy: 0.9895 - department_output_loss: 0.0832 - loss: 0.1033 - val_attrition_output_accuracy: 0.7783 - val_attrition_output_loss: 1.5531 - val_department_output_accuracy: 0.5023 - val_department_output_loss: 2.1705 - val_loss: 3.7225\n",
      "Epoch 61/100\n",
      "\u001b[1m28/28\u001b[0m \u001b[32m━━━━━━━━━━━━━━━━━━━━\u001b[0m\u001b[37m\u001b[0m \u001b[1m0s\u001b[0m 4ms/step - attrition_output_accuracy: 0.9989 - attrition_output_loss: 0.0175 - department_output_accuracy: 0.9864 - department_output_loss: 0.0878 - loss: 0.1053 - val_attrition_output_accuracy: 0.8009 - val_attrition_output_loss: 1.6464 - val_department_output_accuracy: 0.5520 - val_department_output_loss: 2.1911 - val_loss: 3.8315\n",
      "Epoch 62/100\n",
      "\u001b[1m28/28\u001b[0m \u001b[32m━━━━━━━━━━━━━━━━━━━━\u001b[0m\u001b[37m\u001b[0m \u001b[1m0s\u001b[0m 3ms/step - attrition_output_accuracy: 0.9986 - attrition_output_loss: 0.0170 - department_output_accuracy: 0.9944 - department_output_loss: 0.0713 - loss: 0.0882 - val_attrition_output_accuracy: 0.7828 - val_attrition_output_loss: 1.6459 - val_department_output_accuracy: 0.5113 - val_department_output_loss: 2.1807 - val_loss: 3.8205\n",
      "Epoch 63/100\n",
      "\u001b[1m28/28\u001b[0m \u001b[32m━━━━━━━━━━━━━━━━━━━━\u001b[0m\u001b[37m\u001b[0m \u001b[1m0s\u001b[0m 3ms/step - attrition_output_accuracy: 0.9984 - attrition_output_loss: 0.0152 - department_output_accuracy: 0.9929 - department_output_loss: 0.0773 - loss: 0.0925 - val_attrition_output_accuracy: 0.8009 - val_attrition_output_loss: 1.6485 - val_department_output_accuracy: 0.5113 - val_department_output_loss: 2.2195 - val_loss: 3.8639\n",
      "Epoch 64/100\n",
      "\u001b[1m28/28\u001b[0m \u001b[32m━━━━━━━━━━━━━━━━━━━━\u001b[0m\u001b[37m\u001b[0m \u001b[1m0s\u001b[0m 3ms/step - attrition_output_accuracy: 0.9980 - attrition_output_loss: 0.0106 - department_output_accuracy: 0.9937 - department_output_loss: 0.0755 - loss: 0.0860 - val_attrition_output_accuracy: 0.7873 - val_attrition_output_loss: 1.6499 - val_department_output_accuracy: 0.5566 - val_department_output_loss: 2.2900 - val_loss: 3.9346\n",
      "Epoch 65/100\n",
      "\u001b[1m28/28\u001b[0m \u001b[32m━━━━━━━━━━━━━━━━━━━━\u001b[0m\u001b[37m\u001b[0m \u001b[1m0s\u001b[0m 3ms/step - attrition_output_accuracy: 0.9982 - attrition_output_loss: 0.0174 - department_output_accuracy: 0.9934 - department_output_loss: 0.0595 - loss: 0.0769 - val_attrition_output_accuracy: 0.7919 - val_attrition_output_loss: 1.6288 - val_department_output_accuracy: 0.5520 - val_department_output_loss: 2.3380 - val_loss: 3.9618\n",
      "Epoch 66/100\n",
      "\u001b[1m28/28\u001b[0m \u001b[32m━━━━━━━━━━━━━━━━━━━━\u001b[0m\u001b[37m\u001b[0m \u001b[1m0s\u001b[0m 4ms/step - attrition_output_accuracy: 1.0000 - attrition_output_loss: 0.0111 - department_output_accuracy: 0.9964 - department_output_loss: 0.0601 - loss: 0.0713 - val_attrition_output_accuracy: 0.7964 - val_attrition_output_loss: 1.6840 - val_department_output_accuracy: 0.5430 - val_department_output_loss: 2.3846 - val_loss: 4.0657\n",
      "Epoch 67/100\n",
      "\u001b[1m28/28\u001b[0m \u001b[32m━━━━━━━━━━━━━━━━━━━━\u001b[0m\u001b[37m\u001b[0m \u001b[1m0s\u001b[0m 4ms/step - attrition_output_accuracy: 0.9982 - attrition_output_loss: 0.0115 - department_output_accuracy: 0.9976 - department_output_loss: 0.0538 - loss: 0.0653 - val_attrition_output_accuracy: 0.7873 - val_attrition_output_loss: 1.7128 - val_department_output_accuracy: 0.5068 - val_department_output_loss: 2.3261 - val_loss: 4.0321\n",
      "Epoch 68/100\n",
      "\u001b[1m28/28\u001b[0m \u001b[32m━━━━━━━━━━━━━━━━━━━━\u001b[0m\u001b[37m\u001b[0m \u001b[1m0s\u001b[0m 4ms/step - attrition_output_accuracy: 0.9966 - attrition_output_loss: 0.0131 - department_output_accuracy: 0.9991 - department_output_loss: 0.0540 - loss: 0.0670 - val_attrition_output_accuracy: 0.8054 - val_attrition_output_loss: 1.7871 - val_department_output_accuracy: 0.5158 - val_department_output_loss: 2.3846 - val_loss: 4.1629\n",
      "Epoch 69/100\n",
      "\u001b[1m28/28\u001b[0m \u001b[32m━━━━━━━━━━━━━━━━━━━━\u001b[0m\u001b[37m\u001b[0m \u001b[1m0s\u001b[0m 4ms/step - attrition_output_accuracy: 0.9992 - attrition_output_loss: 0.0126 - department_output_accuracy: 0.9967 - department_output_loss: 0.0593 - loss: 0.0720 - val_attrition_output_accuracy: 0.7828 - val_attrition_output_loss: 1.7228 - val_department_output_accuracy: 0.5339 - val_department_output_loss: 2.4398 - val_loss: 4.1585\n",
      "Epoch 70/100\n",
      "\u001b[1m28/28\u001b[0m \u001b[32m━━━━━━━━━━━━━━━━━━━━\u001b[0m\u001b[37m\u001b[0m \u001b[1m0s\u001b[0m 4ms/step - attrition_output_accuracy: 0.9995 - attrition_output_loss: 0.0125 - department_output_accuracy: 0.9949 - department_output_loss: 0.0522 - loss: 0.0646 - val_attrition_output_accuracy: 0.7964 - val_attrition_output_loss: 1.8398 - val_department_output_accuracy: 0.4977 - val_department_output_loss: 2.4710 - val_loss: 4.3052\n",
      "Epoch 71/100\n",
      "\u001b[1m28/28\u001b[0m \u001b[32m━━━━━━━━━━━━━━━━━━━━\u001b[0m\u001b[37m\u001b[0m \u001b[1m0s\u001b[0m 4ms/step - attrition_output_accuracy: 0.9959 - attrition_output_loss: 0.0155 - department_output_accuracy: 0.9963 - department_output_loss: 0.0509 - loss: 0.0664 - val_attrition_output_accuracy: 0.7964 - val_attrition_output_loss: 1.7781 - val_department_output_accuracy: 0.5068 - val_department_output_loss: 2.4393 - val_loss: 4.2137\n",
      "Epoch 72/100\n",
      "\u001b[1m28/28\u001b[0m \u001b[32m━━━━━━━━━━━━━━━━━━━━\u001b[0m\u001b[37m\u001b[0m \u001b[1m0s\u001b[0m 3ms/step - attrition_output_accuracy: 0.9940 - attrition_output_loss: 0.0157 - department_output_accuracy: 0.9957 - department_output_loss: 0.0491 - loss: 0.0648 - val_attrition_output_accuracy: 0.7692 - val_attrition_output_loss: 1.8609 - val_department_output_accuracy: 0.5656 - val_department_output_loss: 2.5560 - val_loss: 4.4083\n",
      "Epoch 73/100\n",
      "\u001b[1m28/28\u001b[0m \u001b[32m━━━━━━━━━━━━━━━━━━━━\u001b[0m\u001b[37m\u001b[0m \u001b[1m0s\u001b[0m 4ms/step - attrition_output_accuracy: 0.9995 - attrition_output_loss: 0.0077 - department_output_accuracy: 0.9981 - department_output_loss: 0.0380 - loss: 0.0457 - val_attrition_output_accuracy: 0.7964 - val_attrition_output_loss: 1.8258 - val_department_output_accuracy: 0.5430 - val_department_output_loss: 2.5440 - val_loss: 4.3637\n",
      "Epoch 74/100\n",
      "\u001b[1m28/28\u001b[0m \u001b[32m━━━━━━━━━━━━━━━━━━━━\u001b[0m\u001b[37m\u001b[0m \u001b[1m0s\u001b[0m 4ms/step - attrition_output_accuracy: 0.9995 - attrition_output_loss: 0.0077 - department_output_accuracy: 1.0000 - department_output_loss: 0.0366 - loss: 0.0443 - val_attrition_output_accuracy: 0.7873 - val_attrition_output_loss: 1.8790 - val_department_output_accuracy: 0.5249 - val_department_output_loss: 2.5762 - val_loss: 4.4499\n",
      "Epoch 75/100\n",
      "\u001b[1m28/28\u001b[0m \u001b[32m━━━━━━━━━━━━━━━━━━━━\u001b[0m\u001b[37m\u001b[0m \u001b[1m0s\u001b[0m 4ms/step - attrition_output_accuracy: 0.9997 - attrition_output_loss: 0.0068 - department_output_accuracy: 0.9977 - department_output_loss: 0.0344 - loss: 0.0412 - val_attrition_output_accuracy: 0.7828 - val_attrition_output_loss: 1.8286 - val_department_output_accuracy: 0.5339 - val_department_output_loss: 2.6334 - val_loss: 4.4567\n",
      "Epoch 76/100\n",
      "\u001b[1m28/28\u001b[0m \u001b[32m━━━━━━━━━━━━━━━━━━━━\u001b[0m\u001b[37m\u001b[0m \u001b[1m0s\u001b[0m 3ms/step - attrition_output_accuracy: 0.9994 - attrition_output_loss: 0.0063 - department_output_accuracy: 0.9944 - department_output_loss: 0.0350 - loss: 0.0413 - val_attrition_output_accuracy: 0.7873 - val_attrition_output_loss: 1.8979 - val_department_output_accuracy: 0.5701 - val_department_output_loss: 2.6727 - val_loss: 4.5645\n",
      "Epoch 77/100\n",
      "\u001b[1m28/28\u001b[0m \u001b[32m━━━━━━━━━━━━━━━━━━━━\u001b[0m\u001b[37m\u001b[0m \u001b[1m0s\u001b[0m 3ms/step - attrition_output_accuracy: 0.9998 - attrition_output_loss: 0.0053 - department_output_accuracy: 0.9931 - department_output_loss: 0.0393 - loss: 0.0446 - val_attrition_output_accuracy: 0.7828 - val_attrition_output_loss: 1.8987 - val_department_output_accuracy: 0.5520 - val_department_output_loss: 2.7089 - val_loss: 4.6022\n",
      "Epoch 78/100\n",
      "\u001b[1m28/28\u001b[0m \u001b[32m━━━━━━━━━━━━━━━━━━━━\u001b[0m\u001b[37m\u001b[0m \u001b[1m0s\u001b[0m 3ms/step - attrition_output_accuracy: 0.9995 - attrition_output_loss: 0.0070 - department_output_accuracy: 0.9996 - department_output_loss: 0.0320 - loss: 0.0390 - val_attrition_output_accuracy: 0.7919 - val_attrition_output_loss: 1.9546 - val_department_output_accuracy: 0.5385 - val_department_output_loss: 2.7231 - val_loss: 4.6716\n",
      "Epoch 79/100\n",
      "\u001b[1m28/28\u001b[0m \u001b[32m━━━━━━━━━━━━━━━━━━━━\u001b[0m\u001b[37m\u001b[0m \u001b[1m0s\u001b[0m 3ms/step - attrition_output_accuracy: 0.9990 - attrition_output_loss: 0.0070 - department_output_accuracy: 0.9971 - department_output_loss: 0.0306 - loss: 0.0375 - val_attrition_output_accuracy: 0.7964 - val_attrition_output_loss: 2.0196 - val_department_output_accuracy: 0.5520 - val_department_output_loss: 2.8262 - val_loss: 4.8362\n",
      "Epoch 80/100\n",
      "\u001b[1m28/28\u001b[0m \u001b[32m━━━━━━━━━━━━━━━━━━━━\u001b[0m\u001b[37m\u001b[0m \u001b[1m0s\u001b[0m 3ms/step - attrition_output_accuracy: 0.9977 - attrition_output_loss: 0.0165 - department_output_accuracy: 0.9994 - department_output_loss: 0.0284 - loss: 0.0449 - val_attrition_output_accuracy: 0.7919 - val_attrition_output_loss: 1.9309 - val_department_output_accuracy: 0.5656 - val_department_output_loss: 2.7761 - val_loss: 4.7004\n",
      "Epoch 81/100\n",
      "\u001b[1m28/28\u001b[0m \u001b[32m━━━━━━━━━━━━━━━━━━━━\u001b[0m\u001b[37m\u001b[0m \u001b[1m0s\u001b[0m 4ms/step - attrition_output_accuracy: 0.9934 - attrition_output_loss: 0.0180 - department_output_accuracy: 0.9981 - department_output_loss: 0.0327 - loss: 0.0507 - val_attrition_output_accuracy: 0.7873 - val_attrition_output_loss: 2.3092 - val_department_output_accuracy: 0.5385 - val_department_output_loss: 2.8388 - val_loss: 5.1379\n",
      "Epoch 82/100\n",
      "\u001b[1m28/28\u001b[0m \u001b[32m━━━━━━━━━━━━━━━━━━━━\u001b[0m\u001b[37m\u001b[0m \u001b[1m0s\u001b[0m 3ms/step - attrition_output_accuracy: 0.9735 - attrition_output_loss: 0.0645 - department_output_accuracy: 0.9952 - department_output_loss: 0.0374 - loss: 0.1020 - val_attrition_output_accuracy: 0.7285 - val_attrition_output_loss: 2.4822 - val_department_output_accuracy: 0.5294 - val_department_output_loss: 2.8529 - val_loss: 5.3290\n",
      "Epoch 83/100\n",
      "\u001b[1m28/28\u001b[0m \u001b[32m━━━━━━━━━━━━━━━━━━━━\u001b[0m\u001b[37m\u001b[0m \u001b[1m0s\u001b[0m 4ms/step - attrition_output_accuracy: 0.9495 - attrition_output_loss: 0.1429 - department_output_accuracy: 0.9975 - department_output_loss: 0.0436 - loss: 0.1866 - val_attrition_output_accuracy: 0.7647 - val_attrition_output_loss: 1.7438 - val_department_output_accuracy: 0.5430 - val_department_output_loss: 2.9592 - val_loss: 4.6971\n",
      "Epoch 84/100\n",
      "\u001b[1m28/28\u001b[0m \u001b[32m━━━━━━━━━━━━━━━━━━━━\u001b[0m\u001b[37m\u001b[0m \u001b[1m0s\u001b[0m 3ms/step - attrition_output_accuracy: 0.9843 - attrition_output_loss: 0.0362 - department_output_accuracy: 0.9938 - department_output_loss: 0.0474 - loss: 0.0837 - val_attrition_output_accuracy: 0.7828 - val_attrition_output_loss: 1.8932 - val_department_output_accuracy: 0.5204 - val_department_output_loss: 2.9389 - val_loss: 4.8236\n",
      "Epoch 85/100\n",
      "\u001b[1m28/28\u001b[0m \u001b[32m━━━━━━━━━━━━━━━━━━━━\u001b[0m\u001b[37m\u001b[0m \u001b[1m0s\u001b[0m 4ms/step - attrition_output_accuracy: 0.9959 - attrition_output_loss: 0.0187 - department_output_accuracy: 0.9931 - department_output_loss: 0.0486 - loss: 0.0673 - val_attrition_output_accuracy: 0.7873 - val_attrition_output_loss: 2.0150 - val_department_output_accuracy: 0.5475 - val_department_output_loss: 2.9006 - val_loss: 4.9096\n",
      "Epoch 86/100\n",
      "\u001b[1m28/28\u001b[0m \u001b[32m━━━━━━━━━━━━━━━━━━━━\u001b[0m\u001b[37m\u001b[0m \u001b[1m0s\u001b[0m 3ms/step - attrition_output_accuracy: 0.9968 - attrition_output_loss: 0.0183 - department_output_accuracy: 0.9856 - department_output_loss: 0.0490 - loss: 0.0672 - val_attrition_output_accuracy: 0.7919 - val_attrition_output_loss: 1.9342 - val_department_output_accuracy: 0.4977 - val_department_output_loss: 2.8440 - val_loss: 4.7710\n",
      "Epoch 87/100\n",
      "\u001b[1m28/28\u001b[0m \u001b[32m━━━━━━━━━━━━━━━━━━━━\u001b[0m\u001b[37m\u001b[0m \u001b[1m0s\u001b[0m 3ms/step - attrition_output_accuracy: 0.9995 - attrition_output_loss: 0.0085 - department_output_accuracy: 0.9941 - department_output_loss: 0.0365 - loss: 0.0450 - val_attrition_output_accuracy: 0.8009 - val_attrition_output_loss: 1.9492 - val_department_output_accuracy: 0.5294 - val_department_output_loss: 2.8864 - val_loss: 4.8296\n",
      "Epoch 88/100\n",
      "\u001b[1m28/28\u001b[0m \u001b[32m━━━━━━━━━━━━━━━━━━━━\u001b[0m\u001b[37m\u001b[0m \u001b[1m0s\u001b[0m 3ms/step - attrition_output_accuracy: 0.9997 - attrition_output_loss: 0.0043 - department_output_accuracy: 0.9987 - department_output_loss: 0.0247 - loss: 0.0290 - val_attrition_output_accuracy: 0.7964 - val_attrition_output_loss: 2.0093 - val_department_output_accuracy: 0.5158 - val_department_output_loss: 3.0536 - val_loss: 5.0580\n",
      "Epoch 89/100\n",
      "\u001b[1m28/28\u001b[0m \u001b[32m━━━━━━━━━━━━━━━━━━━━\u001b[0m\u001b[37m\u001b[0m \u001b[1m0s\u001b[0m 3ms/step - attrition_output_accuracy: 0.9998 - attrition_output_loss: 0.0042 - department_output_accuracy: 0.9998 - department_output_loss: 0.0199 - loss: 0.0241 - val_attrition_output_accuracy: 0.7964 - val_attrition_output_loss: 2.0728 - val_department_output_accuracy: 0.5611 - val_department_output_loss: 3.0000 - val_loss: 5.0645\n",
      "Epoch 90/100\n",
      "\u001b[1m28/28\u001b[0m \u001b[32m━━━━━━━━━━━━━━━━━━━━\u001b[0m\u001b[37m\u001b[0m \u001b[1m0s\u001b[0m 3ms/step - attrition_output_accuracy: 0.9998 - attrition_output_loss: 0.0049 - department_output_accuracy: 0.9974 - department_output_loss: 0.0226 - loss: 0.0275 - val_attrition_output_accuracy: 0.7873 - val_attrition_output_loss: 2.0020 - val_department_output_accuracy: 0.5385 - val_department_output_loss: 3.0495 - val_loss: 5.0478\n",
      "Epoch 91/100\n",
      "\u001b[1m28/28\u001b[0m \u001b[32m━━━━━━━━━━━━━━━━━━━━\u001b[0m\u001b[37m\u001b[0m \u001b[1m0s\u001b[0m 3ms/step - attrition_output_accuracy: 0.9982 - attrition_output_loss: 0.0059 - department_output_accuracy: 0.9952 - department_output_loss: 0.0232 - loss: 0.0291 - val_attrition_output_accuracy: 0.7873 - val_attrition_output_loss: 2.0182 - val_department_output_accuracy: 0.5566 - val_department_output_loss: 3.0594 - val_loss: 5.0708\n",
      "Epoch 92/100\n",
      "\u001b[1m28/28\u001b[0m \u001b[32m━━━━━━━━━━━━━━━━━━━━\u001b[0m\u001b[37m\u001b[0m \u001b[1m0s\u001b[0m 3ms/step - attrition_output_accuracy: 1.0000 - attrition_output_loss: 0.0045 - department_output_accuracy: 0.9956 - department_output_loss: 0.0181 - loss: 0.0225 - val_attrition_output_accuracy: 0.7828 - val_attrition_output_loss: 2.1003 - val_department_output_accuracy: 0.5068 - val_department_output_loss: 3.0764 - val_loss: 5.1712\n",
      "Epoch 93/100\n",
      "\u001b[1m28/28\u001b[0m \u001b[32m━━━━━━━━━━━━━━━━━━━━\u001b[0m\u001b[37m\u001b[0m \u001b[1m0s\u001b[0m 3ms/step - attrition_output_accuracy: 1.0000 - attrition_output_loss: 0.0035 - department_output_accuracy: 0.9988 - department_output_loss: 0.0144 - loss: 0.0178 - val_attrition_output_accuracy: 0.7964 - val_attrition_output_loss: 2.1192 - val_department_output_accuracy: 0.5566 - val_department_output_loss: 3.0809 - val_loss: 5.1936\n",
      "Epoch 94/100\n",
      "\u001b[1m28/28\u001b[0m \u001b[32m━━━━━━━━━━━━━━━━━━━━\u001b[0m\u001b[37m\u001b[0m \u001b[1m0s\u001b[0m 3ms/step - attrition_output_accuracy: 0.9984 - attrition_output_loss: 0.0047 - department_output_accuracy: 0.9996 - department_output_loss: 0.0127 - loss: 0.0174 - val_attrition_output_accuracy: 0.8009 - val_attrition_output_loss: 2.1946 - val_department_output_accuracy: 0.5475 - val_department_output_loss: 3.1217 - val_loss: 5.3077\n",
      "Epoch 95/100\n",
      "\u001b[1m28/28\u001b[0m \u001b[32m━━━━━━━━━━━━━━━━━━━━\u001b[0m\u001b[37m\u001b[0m \u001b[1m0s\u001b[0m 4ms/step - attrition_output_accuracy: 0.9993 - attrition_output_loss: 0.0056 - department_output_accuracy: 0.9997 - department_output_loss: 0.0131 - loss: 0.0187 - val_attrition_output_accuracy: 0.7647 - val_attrition_output_loss: 2.0956 - val_department_output_accuracy: 0.5520 - val_department_output_loss: 3.1250 - val_loss: 5.2160\n",
      "Epoch 96/100\n",
      "\u001b[1m28/28\u001b[0m \u001b[32m━━━━━━━━━━━━━━━━━━━━\u001b[0m\u001b[37m\u001b[0m \u001b[1m0s\u001b[0m 3ms/step - attrition_output_accuracy: 0.9998 - attrition_output_loss: 0.0048 - department_output_accuracy: 0.9998 - department_output_loss: 0.0112 - loss: 0.0160 - val_attrition_output_accuracy: 0.7873 - val_attrition_output_loss: 2.1075 - val_department_output_accuracy: 0.5430 - val_department_output_loss: 3.1560 - val_loss: 5.2574\n",
      "Epoch 97/100\n",
      "\u001b[1m28/28\u001b[0m \u001b[32m━━━━━━━━━━━━━━━━━━━━\u001b[0m\u001b[37m\u001b[0m \u001b[1m0s\u001b[0m 4ms/step - attrition_output_accuracy: 1.0000 - attrition_output_loss: 0.0039 - department_output_accuracy: 0.9999 - department_output_loss: 0.0116 - loss: 0.0154 - val_attrition_output_accuracy: 0.7919 - val_attrition_output_loss: 2.1440 - val_department_output_accuracy: 0.5656 - val_department_output_loss: 3.2327 - val_loss: 5.3685\n",
      "Epoch 98/100\n",
      "\u001b[1m28/28\u001b[0m \u001b[32m━━━━━━━━━━━━━━━━━━━━\u001b[0m\u001b[37m\u001b[0m \u001b[1m0s\u001b[0m 3ms/step - attrition_output_accuracy: 0.9971 - attrition_output_loss: 0.0046 - department_output_accuracy: 0.9991 - department_output_loss: 0.0151 - loss: 0.0197 - val_attrition_output_accuracy: 0.7964 - val_attrition_output_loss: 2.2364 - val_department_output_accuracy: 0.5520 - val_department_output_loss: 3.2405 - val_loss: 5.4676\n",
      "Epoch 99/100\n",
      "\u001b[1m28/28\u001b[0m \u001b[32m━━━━━━━━━━━━━━━━━━━━\u001b[0m\u001b[37m\u001b[0m \u001b[1m0s\u001b[0m 4ms/step - attrition_output_accuracy: 1.0000 - attrition_output_loss: 0.0041 - department_output_accuracy: 0.9968 - department_output_loss: 0.0144 - loss: 0.0185 - val_attrition_output_accuracy: 0.7919 - val_attrition_output_loss: 2.1508 - val_department_output_accuracy: 0.5385 - val_department_output_loss: 3.2153 - val_loss: 5.3588\n",
      "Epoch 100/100\n",
      "\u001b[1m28/28\u001b[0m \u001b[32m━━━━━━━━━━━━━━━━━━━━\u001b[0m\u001b[37m\u001b[0m \u001b[1m0s\u001b[0m 4ms/step - attrition_output_accuracy: 1.0000 - attrition_output_loss: 0.0025 - department_output_accuracy: 1.0000 - department_output_loss: 0.0099 - loss: 0.0124 - val_attrition_output_accuracy: 0.7828 - val_attrition_output_loss: 2.2089 - val_department_output_accuracy: 0.5475 - val_department_output_loss: 3.2235 - val_loss: 5.4252\n"
     ]
    }
   ],
   "source": [
    "# Train the model\n",
    "# Train the model using the preprocessed data\n",
    "history = model.fit(\n",
    "    X_train_scaled,\n",
    "    {'department_output': y_train_dept, 'attrition_output': y_train_attr},\n",
    "    epochs=100,\n",
    "    batch_size=32,\n",
    "    validation_split=0.2,  # Optional, gives a validation curve\n",
    "    verbose=1\n",
    ")\n"
   ]
  },
  {
   "cell_type": "code",
   "execution_count": 16,
   "metadata": {
    "colab": {
     "base_uri": "https://localhost:8080/"
    },
    "executionInfo": {
     "elapsed": 379,
     "status": "ok",
     "timestamp": 1730699259894,
     "user": {
      "displayName": "Alexander Booth",
      "userId": "02269714993535573104"
     },
     "user_tz": 360
    },
    "id": "VsMoaQlgGc3U",
    "outputId": "636c85ba-ee63-4087-b7d1-00b408f1055a"
   },
   "outputs": [
    {
     "name": "stdout",
     "output_type": "stream",
     "text": [
      "Results: [5.173780918121338, 3.042943239212036, 2.0333712100982666, 0.79347825050354, 0.5461956262588501]\n",
      "Metrics: ['loss', 'compile_metrics', 'department_output_loss', 'attrition_output_loss']\n"
     ]
    }
   ],
   "source": [
    "# Evaluate the model with the testing data\n",
    "results = model.evaluate(\n",
    "    X_test_scaled,\n",
    "    {'department_output': y_test_dept, 'attrition_output': y_test_attr},\n",
    "    verbose=0\n",
    ")\n",
    "print(\"Results:\", results)\n",
    "print(\"Metrics:\", model.metrics_names)\n"
   ]
  },
  {
   "cell_type": "code",
   "execution_count": 18,
   "metadata": {
    "colab": {
     "base_uri": "https://localhost:8080/"
    },
    "executionInfo": {
     "elapsed": 113,
     "status": "ok",
     "timestamp": 1730699260004,
     "user": {
      "displayName": "Alexander Booth",
      "userId": "02269714993535573104"
     },
     "user_tz": 360
    },
    "id": "ZlCtlHi0Vt54",
    "outputId": "3a32435c-11cf-48da-81b5-1431d6c00da2"
   },
   "outputs": [
    {
     "name": "stdout",
     "output_type": "stream",
     "text": [
      "Attrition predictions accuracy: 0.5462\n",
      "Department predictions accuracy: 0.7935\n"
     ]
    }
   ],
   "source": [
    "# Extract accuracy values from the results list\n",
    "dept_acc = results[3]  # Department accuracy\n",
    "attr_acc = results[4]  # Attrition accuracy\n",
    "\n",
    "# Print the accuracy for both department and attrition\n",
    "print(\"Attrition predictions accuracy:\", round(attr_acc, 4))\n",
    "print(\"Department predictions accuracy:\", round(dept_acc, 4))"
   ]
  },
  {
   "cell_type": "markdown",
   "metadata": {
    "id": "eGSyfsZfWOQM"
   },
   "source": [
    "# Summary\n",
    "\n",
    "In the provided space below, briefly answer the following questions.\n",
    "\n",
    "1. Is accuracy the best metric to use on this data? Why or why not?\n",
    "\n",
    "2. What activation functions did you choose for your output layers, and why?\n",
    "\n",
    "3. Can you name a few ways that this model might be improved?"
   ]
  },
  {
   "cell_type": "markdown",
   "metadata": {},
   "source": [
    "YOUR ANSWERS HERE\n",
    "\n",
    "1. Accuracy is helpful, but if the classes are imbalanced (like very few people leaving), it can be misleading. Other metrics like precision or recall might give a clearer picture.\n",
    "2. I used softmax for the output layers because both targets are categories, and softmax gives us probabilities for each class.\n",
    "3. The model could be improved by adding dropout, trying different architectures, or tuning things like the number of layers and batch size."
   ]
  }
 ],
 "metadata": {
  "colab": {
   "provenance": []
  },
  "kernelspec": {
   "display_name": "base",
   "language": "python",
   "name": "python3"
  },
  "language_info": {
   "codemirror_mode": {
    "name": "ipython",
    "version": 3
   },
   "file_extension": ".py",
   "mimetype": "text/x-python",
   "name": "python",
   "nbconvert_exporter": "python",
   "pygments_lexer": "ipython3",
   "version": "3.12.7"
  }
 },
 "nbformat": 4,
 "nbformat_minor": 0
}
